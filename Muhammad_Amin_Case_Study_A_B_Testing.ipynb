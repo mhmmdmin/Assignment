{
  "nbformat": 4,
  "nbformat_minor": 0,
  "metadata": {
    "colab": {
      "name": "Muhammad Amin - Case Study -  A/B Testing.ipynb",
      "provenance": [],
      "toc_visible": true,
      "authorship_tag": "ABX9TyPIgHwgd9av2KAIx07APszC",
      "include_colab_link": true
    },
    "kernelspec": {
      "name": "python3",
      "display_name": "Python 3"
    },
    "language_info": {
      "name": "python"
    }
  },
  "cells": [
    {
      "cell_type": "markdown",
      "metadata": {
        "id": "view-in-github",
        "colab_type": "text"
      },
      "source": [
        "<a href=\"https://colab.research.google.com/github/mhmmdmin/Assignment/blob/main/Muhammad_Amin_Case_Study_A_B_Testing.ipynb\" target=\"_parent\"><img src=\"https://colab.research.google.com/assets/colab-badge.svg\" alt=\"Open In Colab\"/></a>"
      ]
    },
    {
      "cell_type": "markdown",
      "source": [
        "#Install and Load Packages"
      ],
      "metadata": {
        "id": "Yz_uUIPqdBB6"
      }
    },
    {
      "cell_type": "code",
      "source": [
        "!pip install dython"
      ],
      "metadata": {
        "colab": {
          "base_uri": "https://localhost:8080/"
        },
        "id": "mD5UGAjjg-j5",
        "outputId": "41bad159-9c9c-40a0-e0df-7351148fde44"
      },
      "execution_count": 1,
      "outputs": [
        {
          "output_type": "stream",
          "name": "stdout",
          "text": [
            "Looking in indexes: https://pypi.org/simple, https://us-python.pkg.dev/colab-wheels/public/simple/\n",
            "Requirement already satisfied: dython in /usr/local/lib/python3.7/dist-packages (0.7.1.post4)\n",
            "Requirement already satisfied: scipy>=1.7.1 in /usr/local/lib/python3.7/dist-packages (from dython) (1.7.3)\n",
            "Requirement already satisfied: scikit-learn>=0.24.2 in /usr/local/lib/python3.7/dist-packages (from dython) (1.0.2)\n",
            "Requirement already satisfied: seaborn>=0.11.0 in /usr/local/lib/python3.7/dist-packages (from dython) (0.11.2)\n",
            "Requirement already satisfied: matplotlib>=3.4.3 in /usr/local/lib/python3.7/dist-packages (from dython) (3.5.2)\n",
            "Requirement already satisfied: numpy>=1.19.5 in /usr/local/lib/python3.7/dist-packages (from dython) (1.21.6)\n",
            "Requirement already satisfied: scikit-plot>=0.3.7 in /usr/local/lib/python3.7/dist-packages (from dython) (0.3.7)\n",
            "Requirement already satisfied: pandas>=1.3.2 in /usr/local/lib/python3.7/dist-packages (from dython) (1.3.5)\n",
            "Requirement already satisfied: python-dateutil>=2.7 in /usr/local/lib/python3.7/dist-packages (from matplotlib>=3.4.3->dython) (2.8.2)\n",
            "Requirement already satisfied: cycler>=0.10 in /usr/local/lib/python3.7/dist-packages (from matplotlib>=3.4.3->dython) (0.11.0)\n",
            "Requirement already satisfied: kiwisolver>=1.0.1 in /usr/local/lib/python3.7/dist-packages (from matplotlib>=3.4.3->dython) (1.4.4)\n",
            "Requirement already satisfied: pyparsing>=2.2.1 in /usr/local/lib/python3.7/dist-packages (from matplotlib>=3.4.3->dython) (3.0.9)\n",
            "Requirement already satisfied: packaging>=20.0 in /usr/local/lib/python3.7/dist-packages (from matplotlib>=3.4.3->dython) (21.3)\n",
            "Requirement already satisfied: pillow>=6.2.0 in /usr/local/lib/python3.7/dist-packages (from matplotlib>=3.4.3->dython) (7.1.2)\n",
            "Requirement already satisfied: fonttools>=4.22.0 in /usr/local/lib/python3.7/dist-packages (from matplotlib>=3.4.3->dython) (4.34.4)\n",
            "Requirement already satisfied: typing-extensions in /usr/local/lib/python3.7/dist-packages (from kiwisolver>=1.0.1->matplotlib>=3.4.3->dython) (4.1.1)\n",
            "Requirement already satisfied: pytz>=2017.3 in /usr/local/lib/python3.7/dist-packages (from pandas>=1.3.2->dython) (2022.1)\n",
            "Requirement already satisfied: six>=1.5 in /usr/local/lib/python3.7/dist-packages (from python-dateutil>=2.7->matplotlib>=3.4.3->dython) (1.15.0)\n",
            "Requirement already satisfied: joblib>=0.11 in /usr/local/lib/python3.7/dist-packages (from scikit-learn>=0.24.2->dython) (1.1.0)\n",
            "Requirement already satisfied: threadpoolctl>=2.0.0 in /usr/local/lib/python3.7/dist-packages (from scikit-learn>=0.24.2->dython) (3.1.0)\n"
          ]
        }
      ]
    },
    {
      "cell_type": "code",
      "execution_count": 151,
      "metadata": {
        "id": "JgXyHL3Ec2_q"
      },
      "outputs": [],
      "source": [
        "import numpy as np\n",
        "import pandas as pd\n",
        "import matplotlib.pyplot as plt\n",
        "import seaborn as sns\n",
        "\n",
        "from statsmodels.stats.power import TTestPower, TTestIndPower, GofChisquarePower\n",
        "from statsmodels.stats.proportion import proportions_chisquare\n",
        "from statsmodels.stats.weightstats import ttest_ind\n",
        "\n",
        "import scipy.stats as ss\n",
        "from scipy.stats import chi2_contingency\n",
        "\n",
        "from dython.nominal import associations"
      ]
    },
    {
      "cell_type": "markdown",
      "source": [
        "#Load Dataset"
      ],
      "metadata": {
        "id": "8Eg8s3cldFHF"
      }
    },
    {
      "cell_type": "code",
      "source": [
        "raw_data = pd.read_csv(\"https://raw.githubusercontent.com/hadimaster65555/dataset_for_teaching/main/dataset/marketing_campaign_experiment/marketing-clean.csv\")"
      ],
      "metadata": {
        "id": "Tiovy8-LdGkd"
      },
      "execution_count": 3,
      "outputs": []
    },
    {
      "cell_type": "markdown",
      "source": [
        "#Data Inspection"
      ],
      "metadata": {
        "id": "8ijh076ih-PU"
      }
    },
    {
      "cell_type": "code",
      "source": [
        "# Check 1st five rows\n",
        "raw_data.head()"
      ],
      "metadata": {
        "id": "9rnTKrE5dSni",
        "colab": {
          "base_uri": "https://localhost:8080/",
          "height": 340
        },
        "outputId": "0408157b-33d9-4696-a520-ece4855e2aad"
      },
      "execution_count": 4,
      "outputs": [
        {
          "output_type": "execute_result",
          "data": {
            "text/plain": [
              "      user_id date_served marketing_channel          variant  converted  \\\n",
              "0  a100000040      1/1/18         House Ads  personalization       True   \n",
              "1  a100000041      1/1/18         House Ads  personalization       True   \n",
              "2  a100000042      1/1/18         House Ads  personalization       True   \n",
              "3  a100000043      1/1/18         House Ads  personalization       True   \n",
              "4  a100000044      1/1/18         House Ads  personalization       True   \n",
              "\n",
              "  language_displayed language_preferred    age_group date_subscribed  \\\n",
              "0            English            English  19-24 years          1/1/18   \n",
              "1             Arabic             Arabic  24-30 years          1/1/18   \n",
              "2            English            English   0-18 years          1/1/18   \n",
              "3            English            English  19-24 years          1/1/18   \n",
              "4             Arabic             Arabic  24-30 years          1/1/18   \n",
              "\n",
              "  date_canceled subscribing_channel  is_retained  conversion  \n",
              "0       1/18/18           House Ads        False           1  \n",
              "1       2/22/18           House Ads        False           1  \n",
              "2        3/9/18           House Ads        False           1  \n",
              "3       2/18/18           House Ads        False           1  \n",
              "4        3/3/18           House Ads        False           1  "
            ],
            "text/html": [
              "\n",
              "  <div id=\"df-aef5225b-0799-4370-a729-727176d2a147\">\n",
              "    <div class=\"colab-df-container\">\n",
              "      <div>\n",
              "<style scoped>\n",
              "    .dataframe tbody tr th:only-of-type {\n",
              "        vertical-align: middle;\n",
              "    }\n",
              "\n",
              "    .dataframe tbody tr th {\n",
              "        vertical-align: top;\n",
              "    }\n",
              "\n",
              "    .dataframe thead th {\n",
              "        text-align: right;\n",
              "    }\n",
              "</style>\n",
              "<table border=\"1\" class=\"dataframe\">\n",
              "  <thead>\n",
              "    <tr style=\"text-align: right;\">\n",
              "      <th></th>\n",
              "      <th>user_id</th>\n",
              "      <th>date_served</th>\n",
              "      <th>marketing_channel</th>\n",
              "      <th>variant</th>\n",
              "      <th>converted</th>\n",
              "      <th>language_displayed</th>\n",
              "      <th>language_preferred</th>\n",
              "      <th>age_group</th>\n",
              "      <th>date_subscribed</th>\n",
              "      <th>date_canceled</th>\n",
              "      <th>subscribing_channel</th>\n",
              "      <th>is_retained</th>\n",
              "      <th>conversion</th>\n",
              "    </tr>\n",
              "  </thead>\n",
              "  <tbody>\n",
              "    <tr>\n",
              "      <th>0</th>\n",
              "      <td>a100000040</td>\n",
              "      <td>1/1/18</td>\n",
              "      <td>House Ads</td>\n",
              "      <td>personalization</td>\n",
              "      <td>True</td>\n",
              "      <td>English</td>\n",
              "      <td>English</td>\n",
              "      <td>19-24 years</td>\n",
              "      <td>1/1/18</td>\n",
              "      <td>1/18/18</td>\n",
              "      <td>House Ads</td>\n",
              "      <td>False</td>\n",
              "      <td>1</td>\n",
              "    </tr>\n",
              "    <tr>\n",
              "      <th>1</th>\n",
              "      <td>a100000041</td>\n",
              "      <td>1/1/18</td>\n",
              "      <td>House Ads</td>\n",
              "      <td>personalization</td>\n",
              "      <td>True</td>\n",
              "      <td>Arabic</td>\n",
              "      <td>Arabic</td>\n",
              "      <td>24-30 years</td>\n",
              "      <td>1/1/18</td>\n",
              "      <td>2/22/18</td>\n",
              "      <td>House Ads</td>\n",
              "      <td>False</td>\n",
              "      <td>1</td>\n",
              "    </tr>\n",
              "    <tr>\n",
              "      <th>2</th>\n",
              "      <td>a100000042</td>\n",
              "      <td>1/1/18</td>\n",
              "      <td>House Ads</td>\n",
              "      <td>personalization</td>\n",
              "      <td>True</td>\n",
              "      <td>English</td>\n",
              "      <td>English</td>\n",
              "      <td>0-18 years</td>\n",
              "      <td>1/1/18</td>\n",
              "      <td>3/9/18</td>\n",
              "      <td>House Ads</td>\n",
              "      <td>False</td>\n",
              "      <td>1</td>\n",
              "    </tr>\n",
              "    <tr>\n",
              "      <th>3</th>\n",
              "      <td>a100000043</td>\n",
              "      <td>1/1/18</td>\n",
              "      <td>House Ads</td>\n",
              "      <td>personalization</td>\n",
              "      <td>True</td>\n",
              "      <td>English</td>\n",
              "      <td>English</td>\n",
              "      <td>19-24 years</td>\n",
              "      <td>1/1/18</td>\n",
              "      <td>2/18/18</td>\n",
              "      <td>House Ads</td>\n",
              "      <td>False</td>\n",
              "      <td>1</td>\n",
              "    </tr>\n",
              "    <tr>\n",
              "      <th>4</th>\n",
              "      <td>a100000044</td>\n",
              "      <td>1/1/18</td>\n",
              "      <td>House Ads</td>\n",
              "      <td>personalization</td>\n",
              "      <td>True</td>\n",
              "      <td>Arabic</td>\n",
              "      <td>Arabic</td>\n",
              "      <td>24-30 years</td>\n",
              "      <td>1/1/18</td>\n",
              "      <td>3/3/18</td>\n",
              "      <td>House Ads</td>\n",
              "      <td>False</td>\n",
              "      <td>1</td>\n",
              "    </tr>\n",
              "  </tbody>\n",
              "</table>\n",
              "</div>\n",
              "      <button class=\"colab-df-convert\" onclick=\"convertToInteractive('df-aef5225b-0799-4370-a729-727176d2a147')\"\n",
              "              title=\"Convert this dataframe to an interactive table.\"\n",
              "              style=\"display:none;\">\n",
              "        \n",
              "  <svg xmlns=\"http://www.w3.org/2000/svg\" height=\"24px\"viewBox=\"0 0 24 24\"\n",
              "       width=\"24px\">\n",
              "    <path d=\"M0 0h24v24H0V0z\" fill=\"none\"/>\n",
              "    <path d=\"M18.56 5.44l.94 2.06.94-2.06 2.06-.94-2.06-.94-.94-2.06-.94 2.06-2.06.94zm-11 1L8.5 8.5l.94-2.06 2.06-.94-2.06-.94L8.5 2.5l-.94 2.06-2.06.94zm10 10l.94 2.06.94-2.06 2.06-.94-2.06-.94-.94-2.06-.94 2.06-2.06.94z\"/><path d=\"M17.41 7.96l-1.37-1.37c-.4-.4-.92-.59-1.43-.59-.52 0-1.04.2-1.43.59L10.3 9.45l-7.72 7.72c-.78.78-.78 2.05 0 2.83L4 21.41c.39.39.9.59 1.41.59.51 0 1.02-.2 1.41-.59l7.78-7.78 2.81-2.81c.8-.78.8-2.07 0-2.86zM5.41 20L4 18.59l7.72-7.72 1.47 1.35L5.41 20z\"/>\n",
              "  </svg>\n",
              "      </button>\n",
              "      \n",
              "  <style>\n",
              "    .colab-df-container {\n",
              "      display:flex;\n",
              "      flex-wrap:wrap;\n",
              "      gap: 12px;\n",
              "    }\n",
              "\n",
              "    .colab-df-convert {\n",
              "      background-color: #E8F0FE;\n",
              "      border: none;\n",
              "      border-radius: 50%;\n",
              "      cursor: pointer;\n",
              "      display: none;\n",
              "      fill: #1967D2;\n",
              "      height: 32px;\n",
              "      padding: 0 0 0 0;\n",
              "      width: 32px;\n",
              "    }\n",
              "\n",
              "    .colab-df-convert:hover {\n",
              "      background-color: #E2EBFA;\n",
              "      box-shadow: 0px 1px 2px rgba(60, 64, 67, 0.3), 0px 1px 3px 1px rgba(60, 64, 67, 0.15);\n",
              "      fill: #174EA6;\n",
              "    }\n",
              "\n",
              "    [theme=dark] .colab-df-convert {\n",
              "      background-color: #3B4455;\n",
              "      fill: #D2E3FC;\n",
              "    }\n",
              "\n",
              "    [theme=dark] .colab-df-convert:hover {\n",
              "      background-color: #434B5C;\n",
              "      box-shadow: 0px 1px 3px 1px rgba(0, 0, 0, 0.15);\n",
              "      filter: drop-shadow(0px 1px 2px rgba(0, 0, 0, 0.3));\n",
              "      fill: #FFFFFF;\n",
              "    }\n",
              "  </style>\n",
              "\n",
              "      <script>\n",
              "        const buttonEl =\n",
              "          document.querySelector('#df-aef5225b-0799-4370-a729-727176d2a147 button.colab-df-convert');\n",
              "        buttonEl.style.display =\n",
              "          google.colab.kernel.accessAllowed ? 'block' : 'none';\n",
              "\n",
              "        async function convertToInteractive(key) {\n",
              "          const element = document.querySelector('#df-aef5225b-0799-4370-a729-727176d2a147');\n",
              "          const dataTable =\n",
              "            await google.colab.kernel.invokeFunction('convertToInteractive',\n",
              "                                                     [key], {});\n",
              "          if (!dataTable) return;\n",
              "\n",
              "          const docLinkHtml = 'Like what you see? Visit the ' +\n",
              "            '<a target=\"_blank\" href=https://colab.research.google.com/notebooks/data_table.ipynb>data table notebook</a>'\n",
              "            + ' to learn more about interactive tables.';\n",
              "          element.innerHTML = '';\n",
              "          dataTable['output_type'] = 'display_data';\n",
              "          await google.colab.output.renderOutput(dataTable, element);\n",
              "          const docLink = document.createElement('div');\n",
              "          docLink.innerHTML = docLinkHtml;\n",
              "          element.appendChild(docLink);\n",
              "        }\n",
              "      </script>\n",
              "    </div>\n",
              "  </div>\n",
              "  "
            ]
          },
          "metadata": {},
          "execution_count": 4
        }
      ]
    },
    {
      "cell_type": "code",
      "source": [
        "# Check data structure\n",
        "raw_data.info()"
      ],
      "metadata": {
        "id": "fY51l4MTdUGA",
        "colab": {
          "base_uri": "https://localhost:8080/"
        },
        "outputId": "9e8fc2c2-b3f7-4777-b283-162b1fa4eccd"
      },
      "execution_count": 5,
      "outputs": [
        {
          "output_type": "stream",
          "name": "stdout",
          "text": [
            "<class 'pandas.core.frame.DataFrame'>\n",
            "RangeIndex: 577 entries, 0 to 576\n",
            "Data columns (total 13 columns):\n",
            " #   Column               Non-Null Count  Dtype \n",
            "---  ------               --------------  ----- \n",
            " 0   user_id              577 non-null    object\n",
            " 1   date_served          577 non-null    object\n",
            " 2   marketing_channel    577 non-null    object\n",
            " 3   variant              577 non-null    object\n",
            " 4   converted            577 non-null    bool  \n",
            " 5   language_displayed   577 non-null    object\n",
            " 6   language_preferred   577 non-null    object\n",
            " 7   age_group            577 non-null    object\n",
            " 8   date_subscribed      577 non-null    object\n",
            " 9   date_canceled        577 non-null    object\n",
            " 10  subscribing_channel  577 non-null    object\n",
            " 11  is_retained          577 non-null    bool  \n",
            " 12  conversion           577 non-null    int64 \n",
            "dtypes: bool(2), int64(1), object(10)\n",
            "memory usage: 50.8+ KB\n"
          ]
        }
      ]
    },
    {
      "cell_type": "markdown",
      "source": [
        "There are 577 rows and 13 columns for this dataset. But there are some data types which are required to be changed."
      ],
      "metadata": {
        "id": "EvDDR0_m-FFO"
      }
    },
    {
      "cell_type": "markdown",
      "source": [
        "**Change Date Type**"
      ],
      "metadata": {
        "id": "oqTn0DSi8-no"
      }
    },
    {
      "cell_type": "code",
      "source": [
        "# Change data type\n",
        "raw_data['date_served'] = pd.to_datetime(raw_data['date_served'])\n",
        "raw_data['date_subscribed'] = pd.to_datetime(raw_data['date_subscribed'])\n",
        "raw_data['date_canceled'] = pd.to_datetime(raw_data['date_canceled'])"
      ],
      "metadata": {
        "id": "usUf5Gv3dX-c"
      },
      "execution_count": 6,
      "outputs": []
    },
    {
      "cell_type": "code",
      "source": [
        "# Check data structure again\n",
        "raw_data.info()"
      ],
      "metadata": {
        "id": "4k1SPMouexTd",
        "colab": {
          "base_uri": "https://localhost:8080/"
        },
        "outputId": "d5182698-1de2-42e4-9cd2-99e0bc39fb03"
      },
      "execution_count": 7,
      "outputs": [
        {
          "output_type": "stream",
          "name": "stdout",
          "text": [
            "<class 'pandas.core.frame.DataFrame'>\n",
            "RangeIndex: 577 entries, 0 to 576\n",
            "Data columns (total 13 columns):\n",
            " #   Column               Non-Null Count  Dtype         \n",
            "---  ------               --------------  -----         \n",
            " 0   user_id              577 non-null    object        \n",
            " 1   date_served          577 non-null    datetime64[ns]\n",
            " 2   marketing_channel    577 non-null    object        \n",
            " 3   variant              577 non-null    object        \n",
            " 4   converted            577 non-null    bool          \n",
            " 5   language_displayed   577 non-null    object        \n",
            " 6   language_preferred   577 non-null    object        \n",
            " 7   age_group            577 non-null    object        \n",
            " 8   date_subscribed      577 non-null    datetime64[ns]\n",
            " 9   date_canceled        577 non-null    datetime64[ns]\n",
            " 10  subscribing_channel  577 non-null    object        \n",
            " 11  is_retained          577 non-null    bool          \n",
            " 12  conversion           577 non-null    int64         \n",
            "dtypes: bool(2), datetime64[ns](3), int64(1), object(7)\n",
            "memory usage: 50.8+ KB\n"
          ]
        }
      ]
    },
    {
      "cell_type": "markdown",
      "source": [
        "**Check Unique Value**"
      ],
      "metadata": {
        "id": "1WmWZWIr9W-5"
      }
    },
    {
      "cell_type": "code",
      "source": [
        "# Check unique value\n",
        "for x in raw_data.columns:\n",
        "  print(f\"unique of {x} \")\n",
        "  print(f\"{raw_data[x].unique()}\")\n",
        "  print()"
      ],
      "metadata": {
        "id": "Mn5IMeqle8Yc",
        "colab": {
          "base_uri": "https://localhost:8080/"
        },
        "outputId": "2ed578f4-26ca-4ac8-f751-c42f50c5dfa1"
      },
      "execution_count": 8,
      "outputs": [
        {
          "output_type": "stream",
          "name": "stdout",
          "text": [
            "unique of user_id \n",
            "['a100000040' 'a100000041' 'a100000042' 'a100000043' 'a100000044'\n",
            " 'a100000045' 'a100000046' 'a100000047' 'a100000048' 'a100000059'\n",
            " 'a100000060' 'a100000061' 'a100000062' 'a100000063' 'a100000064'\n",
            " 'a100000065' 'a100000066' 'a100000067' 'a100000088' 'a100000089'\n",
            " 'a100000090' 'a100000091' 'a100000092' 'a100000093' 'a100000094'\n",
            " 'a100000095' 'a100000096' 'a100000101' 'a100000102' 'a100000103'\n",
            " 'a100000104' 'a100000105' 'a100000107' 'a100000108' 'a100000109'\n",
            " 'a100000110' 'a100000164' 'a100000165' 'a100000166' 'a100000167'\n",
            " 'a100000168' 'a100000169' 'a100000170' 'a100000171' 'a100000172'\n",
            " 'a100000260' 'a100000261' 'a100000262' 'a100000263' 'a100000264'\n",
            " 'a100000265' 'a100000266' 'a100000267' 'a100000268' 'a100000294'\n",
            " 'a100000295' 'a100000296' 'a100000297' 'a100000298' 'a100000299'\n",
            " 'a100000300' 'a100000301' 'a100000302' 'a100000317' 'a100000318'\n",
            " 'a100000319' 'a100000320' 'a100000321' 'a100000322' 'a100000323'\n",
            " 'a100000324' 'a100000325' 'a100000337' 'a100000338' 'a100000339'\n",
            " 'a100000340' 'a100000341' 'a100000342' 'a100000343' 'a100000344'\n",
            " 'a100000345' 'a100000349' 'a100000350' 'a100000351' 'a100000352'\n",
            " 'a100000353' 'a100000354' 'a100000355' 'a100000356' 'a100000357'\n",
            " 'a100000360' 'a100000361' 'a100000362' 'a100000363' 'a100000364'\n",
            " 'a100000365' 'a100000366' 'a100000367' 'a100000368' 'a100000378'\n",
            " 'a100000379' 'a100000380' 'a100000381' 'a100000382' 'a100000383'\n",
            " 'a100000384' 'a100000385' 'a100000386' 'a100000387' 'a100000388'\n",
            " 'a100000389' 'a100000390' 'a100000391' 'a100000392' 'a100000393'\n",
            " 'a100000394' 'a100000398' 'a100000399' 'a100000400' 'a100000401'\n",
            " 'a100000402' 'a100000403' 'a100000404' 'a100000405' 'a100000406'\n",
            " 'a100000536' 'a100000537' 'a100000538' 'a100000539' 'a100000540'\n",
            " 'a100000541' 'a100000542' 'a100000543' 'a100000544' 'a100000555'\n",
            " 'a100000556' 'a100000557' 'a100000558' 'a100000559' 'a100000560'\n",
            " 'a100000561' 'a100000562' 'a100000563' 'a100000571' 'a100000572'\n",
            " 'a100000573' 'a100000574' 'a100000575' 'a100000576' 'a100000577'\n",
            " 'a100000578' 'a100000579' 'a100000596' 'a100000597' 'a100000598'\n",
            " 'a100000599' 'a100000600' 'a100000601' 'a100000602' 'a100000603'\n",
            " 'a100000604' 'a100000634' 'a100000635' 'a100000636' 'a100000637'\n",
            " 'a100000638' 'a100000639' 'a100000640' 'a100000641' 'a100000642'\n",
            " 'a100000691' 'a100000692' 'a100000693' 'a100000694' 'a100000695'\n",
            " 'a100000696' 'a100000697' 'a100000698' 'a100000718' 'a100000734'\n",
            " 'a100000735' 'a100000736' 'a100000737' 'a100000738' 'a100000739'\n",
            " 'a100000753' 'a100000754' 'a100000755' 'a100000763' 'a100000764'\n",
            " 'a100000765' 'a100000766' 'a100000767' 'a100000768' 'a100000769'\n",
            " 'a100000770' 'a100000771' 'a100000801' 'a100000802' 'a100000803'\n",
            " 'a100000804' 'a100000805' 'a100000806' 'a100000807' 'a100000808'\n",
            " 'a100000809' 'a100000826' 'a100000827' 'a100000828' 'a100000829'\n",
            " 'a100000830' 'a100000831' 'a100000832' 'a100000833' 'a100000855'\n",
            " 'a100000867' 'a100000868' 'a100000869' 'a100000870' 'a100000871'\n",
            " 'a100000872' 'a100000873' 'a100000874' 'a100000875' 'a100000888'\n",
            " 'a100000889' 'a100000890' 'a100000891' 'a100000892' 'a100000893'\n",
            " 'a100000894' 'a100000895' 'a100000896' 'a100000992' 'a100000993'\n",
            " 'a100000994' 'a100000995' 'a100000996' 'a100000997' 'a100000998'\n",
            " 'a100000999' 'a100001044' 'a100001090' 'a100001091' 'a100001092'\n",
            " 'a100001093' 'a100001094' 'a100001095' 'a100001096' 'a100001097'\n",
            " 'a100001098' 'a100001154' 'a100001155' 'a100001156' 'a100001157'\n",
            " 'a100001158' 'a100001159' 'a100001160' 'a100001161' 'a100001162'\n",
            " 'a100001166' 'a100001167' 'a100001168' 'a100001169' 'a100001170'\n",
            " 'a100001171' 'a100001172' 'a100001173' 'a100001174' 'a100001180'\n",
            " 'a100001181' 'a100001182' 'a100001183' 'a100001184' 'a100001185'\n",
            " 'a100001186' 'a100001187' 'a100001188' 'a100001198' 'a100001199'\n",
            " 'a100001200' 'a100001201' 'a100001202' 'a100001203' 'a100001204'\n",
            " 'a100001205' 'a100001206' 'a100001223' 'a100001224' 'a100001225'\n",
            " 'a100001226' 'a100001227' 'a100001228' 'a100001229' 'a100001230'\n",
            " 'a100001231' 'a100001290' 'a100001291' 'a100001292' 'a100001293'\n",
            " 'a100001294' 'a100001295' 'a100001296' 'a100001297' 'a100001298'\n",
            " 'a100001304' 'a100001305' 'a100001306' 'a100001307' 'a100001308'\n",
            " 'a100001309' 'a100001310' 'a100001311' 'a100001312' 'a100001342'\n",
            " 'a100001343' 'a100001344' 'a100001345' 'a100001346' 'a100001347'\n",
            " 'a100001348' 'a100001349' 'a100001350' 'a100001357' 'a100001358'\n",
            " 'a100001359' 'a100001360' 'a100001361' 'a100001362' 'a100001363'\n",
            " 'a100001364' 'a100001365' 'a100001373' 'a100001374' 'a100001375'\n",
            " 'a100001376' 'a100001377' 'a100001378' 'a100001379' 'a100001380'\n",
            " 'a100001381' 'a100007282' 'a100007283' 'a100007284' 'a100007285'\n",
            " 'a100007286' 'a100007287' 'a100007288' 'a100007289' 'a100007290']\n",
            "\n",
            "unique of date_served \n",
            "['2018-01-01T00:00:00.000000000' '2018-01-02T00:00:00.000000000'\n",
            " '2018-01-03T00:00:00.000000000' '2018-01-04T00:00:00.000000000'\n",
            " '2018-01-05T00:00:00.000000000' '2018-01-06T00:00:00.000000000'\n",
            " '2018-01-07T00:00:00.000000000' '2018-01-08T00:00:00.000000000'\n",
            " '2018-01-09T00:00:00.000000000' '2018-01-10T00:00:00.000000000'\n",
            " '2018-01-11T00:00:00.000000000' '2018-01-12T00:00:00.000000000'\n",
            " '2018-01-13T00:00:00.000000000' '2018-01-14T00:00:00.000000000'\n",
            " '2018-01-15T00:00:00.000000000' '2018-01-16T00:00:00.000000000'\n",
            " '2018-01-17T00:00:00.000000000' '2018-01-18T00:00:00.000000000'\n",
            " '2018-01-30T00:00:00.000000000' '2018-01-31T00:00:00.000000000'\n",
            " '2018-01-21T00:00:00.000000000' '2018-01-22T00:00:00.000000000'\n",
            " '2018-01-23T00:00:00.000000000' '2018-01-24T00:00:00.000000000'\n",
            " '2018-01-25T00:00:00.000000000' '2018-01-26T00:00:00.000000000'\n",
            " '2018-01-27T00:00:00.000000000' '2018-01-28T00:00:00.000000000'\n",
            " '2018-01-29T00:00:00.000000000' '2018-01-19T00:00:00.000000000'\n",
            " '2018-01-20T00:00:00.000000000']\n",
            "\n",
            "unique of marketing_channel \n",
            "['House Ads' 'Facebook' 'Push' 'Instagram' 'Email']\n",
            "\n",
            "unique of variant \n",
            "['personalization' 'control']\n",
            "\n",
            "unique of converted \n",
            "[ True False]\n",
            "\n",
            "unique of language_displayed \n",
            "['English' 'Arabic' 'German' 'Spanish']\n",
            "\n",
            "unique of language_preferred \n",
            "['English' 'Arabic' 'German' 'Spanish']\n",
            "\n",
            "unique of age_group \n",
            "['19-24 years' '24-30 years' '0-18 years' '45-55 years' '55+ years'\n",
            " '30-36 years' '36-45 years']\n",
            "\n",
            "unique of date_subscribed \n",
            "['2018-01-01T00:00:00.000000000' '2018-01-02T00:00:00.000000000'\n",
            " '2018-01-03T00:00:00.000000000' '2018-01-04T00:00:00.000000000'\n",
            " '2018-01-05T00:00:00.000000000' '2018-01-06T00:00:00.000000000'\n",
            " '2018-01-07T00:00:00.000000000' '2018-01-08T00:00:00.000000000'\n",
            " '2018-01-09T00:00:00.000000000' '2018-01-10T00:00:00.000000000'\n",
            " '2018-01-11T00:00:00.000000000' '2018-01-12T00:00:00.000000000'\n",
            " '2018-01-13T00:00:00.000000000' '2018-01-14T00:00:00.000000000'\n",
            " '2018-01-15T00:00:00.000000000' '2018-01-16T00:00:00.000000000'\n",
            " '2018-01-17T00:00:00.000000000' '2018-01-18T00:00:00.000000000'\n",
            " '2018-01-30T00:00:00.000000000' '2018-01-31T00:00:00.000000000'\n",
            " '2018-01-21T00:00:00.000000000' '2018-01-22T00:00:00.000000000'\n",
            " '2018-01-23T00:00:00.000000000' '2018-01-24T00:00:00.000000000'\n",
            " '2018-01-25T00:00:00.000000000' '2018-01-26T00:00:00.000000000'\n",
            " '2018-01-27T00:00:00.000000000' '2018-01-28T00:00:00.000000000'\n",
            " '2018-01-29T00:00:00.000000000' '2018-01-19T00:00:00.000000000'\n",
            " '2018-01-20T00:00:00.000000000']\n",
            "\n",
            "unique of date_canceled \n",
            "['2018-01-18T00:00:00.000000000' '2018-02-22T00:00:00.000000000'\n",
            " '2018-03-09T00:00:00.000000000' '2018-02-18T00:00:00.000000000'\n",
            " '2018-03-03T00:00:00.000000000' '2018-02-04T00:00:00.000000000'\n",
            " '2018-01-09T00:00:00.000000000' '2018-01-21T00:00:00.000000000'\n",
            " '2018-02-19T00:00:00.000000000' '2018-03-08T00:00:00.000000000'\n",
            " '2018-02-05T00:00:00.000000000' '2018-01-11T00:00:00.000000000'\n",
            " '2018-01-06T00:00:00.000000000' '2018-03-01T00:00:00.000000000'\n",
            " '2018-04-02T00:00:00.000000000' '2018-03-02T00:00:00.000000000'\n",
            " '2018-01-05T00:00:00.000000000' '2018-02-09T00:00:00.000000000'\n",
            " '2018-03-25T00:00:00.000000000' '2018-03-12T00:00:00.000000000'\n",
            " '2018-03-10T00:00:00.000000000' '2018-02-14T00:00:00.000000000'\n",
            " '2018-01-23T00:00:00.000000000' '2018-02-11T00:00:00.000000000'\n",
            " '2018-04-13T00:00:00.000000000' '2018-04-12T00:00:00.000000000'\n",
            " '2018-04-03T00:00:00.000000000' '2018-02-17T00:00:00.000000000'\n",
            " '2018-04-14T00:00:00.000000000' '2018-02-03T00:00:00.000000000'\n",
            " '2018-01-08T00:00:00.000000000' '2018-01-27T00:00:00.000000000'\n",
            " '2018-03-11T00:00:00.000000000' '2018-02-21T00:00:00.000000000'\n",
            " '2018-02-25T00:00:00.000000000' '2018-03-05T00:00:00.000000000'\n",
            " '2018-04-16T00:00:00.000000000' '2018-02-06T00:00:00.000000000'\n",
            " '2018-01-14T00:00:00.000000000' '2018-03-13T00:00:00.000000000'\n",
            " '2018-03-19T00:00:00.000000000' '2018-02-10T00:00:00.000000000'\n",
            " '2018-03-30T00:00:00.000000000' '2018-01-15T00:00:00.000000000'\n",
            " '2018-03-07T00:00:00.000000000' '2018-04-10T00:00:00.000000000'\n",
            " '2018-03-26T00:00:00.000000000' '2018-04-19T00:00:00.000000000'\n",
            " '2018-03-04T00:00:00.000000000' '2018-01-26T00:00:00.000000000'\n",
            " '2018-04-05T00:00:00.000000000' '2018-03-15T00:00:00.000000000'\n",
            " '2018-04-22T00:00:00.000000000' '2018-04-29T00:00:00.000000000'\n",
            " '2018-04-17T00:00:00.000000000' '2018-02-08T00:00:00.000000000'\n",
            " '2018-01-25T00:00:00.000000000' '2018-03-27T00:00:00.000000000'\n",
            " '2018-02-20T00:00:00.000000000' '2018-02-24T00:00:00.000000000'\n",
            " '2018-02-12T00:00:00.000000000' '2018-03-17T00:00:00.000000000'\n",
            " '2018-03-29T00:00:00.000000000' '2018-02-16T00:00:00.000000000'\n",
            " '2018-04-06T00:00:00.000000000' '2018-04-09T00:00:00.000000000'\n",
            " '2018-03-23T00:00:00.000000000' '2018-05-09T00:00:00.000000000'\n",
            " '2018-03-20T00:00:00.000000000' '2018-01-28T00:00:00.000000000'\n",
            " '2018-03-22T00:00:00.000000000' '2018-02-01T00:00:00.000000000'\n",
            " '2018-03-31T00:00:00.000000000' '2018-01-31T00:00:00.000000000'\n",
            " '2018-03-28T00:00:00.000000000' '2018-04-08T00:00:00.000000000'\n",
            " '2018-01-24T00:00:00.000000000' '2018-01-22T00:00:00.000000000'\n",
            " '2018-02-28T00:00:00.000000000' '2018-04-27T00:00:00.000000000'\n",
            " '2018-01-29T00:00:00.000000000' '2018-05-02T00:00:00.000000000'\n",
            " '2018-04-07T00:00:00.000000000' '2018-02-15T00:00:00.000000000'\n",
            " '2018-01-10T00:00:00.000000000' '2018-02-26T00:00:00.000000000'\n",
            " '2018-01-19T00:00:00.000000000' '2018-02-23T00:00:00.000000000'\n",
            " '2018-04-21T00:00:00.000000000' '2018-02-13T00:00:00.000000000'\n",
            " '2018-01-30T00:00:00.000000000' '2018-02-07T00:00:00.000000000'\n",
            " '2018-04-04T00:00:00.000000000' '2018-04-26T00:00:00.000000000'\n",
            " '2018-01-16T00:00:00.000000000' '2018-04-01T00:00:00.000000000'\n",
            " '2018-05-04T00:00:00.000000000' '2018-04-28T00:00:00.000000000'\n",
            " '2018-03-06T00:00:00.000000000' '2018-03-24T00:00:00.000000000'\n",
            " '2018-01-07T00:00:00.000000000' '2018-01-12T00:00:00.000000000'\n",
            " '2018-03-18T00:00:00.000000000' '2018-01-13T00:00:00.000000000'\n",
            " '2018-01-20T00:00:00.000000000' '2018-03-16T00:00:00.000000000'\n",
            " '2018-04-11T00:00:00.000000000' '2018-01-17T00:00:00.000000000'\n",
            " '2018-04-20T00:00:00.000000000' '2018-05-01T00:00:00.000000000'\n",
            " '2018-04-23T00:00:00.000000000' '2018-02-02T00:00:00.000000000'\n",
            " '2018-04-25T00:00:00.000000000' '2018-04-30T00:00:00.000000000'\n",
            " '2018-05-07T00:00:00.000000000']\n",
            "\n",
            "unique of subscribing_channel \n",
            "['House Ads' 'Facebook' 'Instagram' 'Email' 'Push']\n",
            "\n",
            "unique of is_retained \n",
            "[False]\n",
            "\n",
            "unique of conversion \n",
            "[1 0]\n",
            "\n"
          ]
        }
      ]
    },
    {
      "cell_type": "markdown",
      "source": [
        "From the information above we know that the campaign was only held for 1 month which is in December 2017 - January 2018, and mostly the customers subscribed on the same month. Then, all customers churn which we can see from `is_retained` feature that has only 1 value, False."
      ],
      "metadata": {
        "id": "ZR3Cx2QtNhGh"
      }
    },
    {
      "cell_type": "markdown",
      "source": [
        "**Check converted column and conversion column**"
      ],
      "metadata": {
        "id": "z0NwqpEIAa8B"
      }
    },
    {
      "cell_type": "code",
      "source": [
        "# Check converted with conversion\n",
        "raw_data[(raw_data['converted'] == True) & (raw_data['conversion'] == 0)]"
      ],
      "metadata": {
        "id": "J6rIpGFCfRHW",
        "colab": {
          "base_uri": "https://localhost:8080/",
          "height": 113
        },
        "outputId": "600b7240-1808-45e5-96d5-1a228a349510"
      },
      "execution_count": 9,
      "outputs": [
        {
          "output_type": "execute_result",
          "data": {
            "text/plain": [
              "Empty DataFrame\n",
              "Columns: [user_id, date_served, marketing_channel, variant, converted, language_displayed, language_preferred, age_group, date_subscribed, date_canceled, subscribing_channel, is_retained, conversion]\n",
              "Index: []"
            ],
            "text/html": [
              "\n",
              "  <div id=\"df-be1e8308-60b6-46c2-a234-576d4eafc99a\">\n",
              "    <div class=\"colab-df-container\">\n",
              "      <div>\n",
              "<style scoped>\n",
              "    .dataframe tbody tr th:only-of-type {\n",
              "        vertical-align: middle;\n",
              "    }\n",
              "\n",
              "    .dataframe tbody tr th {\n",
              "        vertical-align: top;\n",
              "    }\n",
              "\n",
              "    .dataframe thead th {\n",
              "        text-align: right;\n",
              "    }\n",
              "</style>\n",
              "<table border=\"1\" class=\"dataframe\">\n",
              "  <thead>\n",
              "    <tr style=\"text-align: right;\">\n",
              "      <th></th>\n",
              "      <th>user_id</th>\n",
              "      <th>date_served</th>\n",
              "      <th>marketing_channel</th>\n",
              "      <th>variant</th>\n",
              "      <th>converted</th>\n",
              "      <th>language_displayed</th>\n",
              "      <th>language_preferred</th>\n",
              "      <th>age_group</th>\n",
              "      <th>date_subscribed</th>\n",
              "      <th>date_canceled</th>\n",
              "      <th>subscribing_channel</th>\n",
              "      <th>is_retained</th>\n",
              "      <th>conversion</th>\n",
              "    </tr>\n",
              "  </thead>\n",
              "  <tbody>\n",
              "  </tbody>\n",
              "</table>\n",
              "</div>\n",
              "      <button class=\"colab-df-convert\" onclick=\"convertToInteractive('df-be1e8308-60b6-46c2-a234-576d4eafc99a')\"\n",
              "              title=\"Convert this dataframe to an interactive table.\"\n",
              "              style=\"display:none;\">\n",
              "        \n",
              "  <svg xmlns=\"http://www.w3.org/2000/svg\" height=\"24px\"viewBox=\"0 0 24 24\"\n",
              "       width=\"24px\">\n",
              "    <path d=\"M0 0h24v24H0V0z\" fill=\"none\"/>\n",
              "    <path d=\"M18.56 5.44l.94 2.06.94-2.06 2.06-.94-2.06-.94-.94-2.06-.94 2.06-2.06.94zm-11 1L8.5 8.5l.94-2.06 2.06-.94-2.06-.94L8.5 2.5l-.94 2.06-2.06.94zm10 10l.94 2.06.94-2.06 2.06-.94-2.06-.94-.94-2.06-.94 2.06-2.06.94z\"/><path d=\"M17.41 7.96l-1.37-1.37c-.4-.4-.92-.59-1.43-.59-.52 0-1.04.2-1.43.59L10.3 9.45l-7.72 7.72c-.78.78-.78 2.05 0 2.83L4 21.41c.39.39.9.59 1.41.59.51 0 1.02-.2 1.41-.59l7.78-7.78 2.81-2.81c.8-.78.8-2.07 0-2.86zM5.41 20L4 18.59l7.72-7.72 1.47 1.35L5.41 20z\"/>\n",
              "  </svg>\n",
              "      </button>\n",
              "      \n",
              "  <style>\n",
              "    .colab-df-container {\n",
              "      display:flex;\n",
              "      flex-wrap:wrap;\n",
              "      gap: 12px;\n",
              "    }\n",
              "\n",
              "    .colab-df-convert {\n",
              "      background-color: #E8F0FE;\n",
              "      border: none;\n",
              "      border-radius: 50%;\n",
              "      cursor: pointer;\n",
              "      display: none;\n",
              "      fill: #1967D2;\n",
              "      height: 32px;\n",
              "      padding: 0 0 0 0;\n",
              "      width: 32px;\n",
              "    }\n",
              "\n",
              "    .colab-df-convert:hover {\n",
              "      background-color: #E2EBFA;\n",
              "      box-shadow: 0px 1px 2px rgba(60, 64, 67, 0.3), 0px 1px 3px 1px rgba(60, 64, 67, 0.15);\n",
              "      fill: #174EA6;\n",
              "    }\n",
              "\n",
              "    [theme=dark] .colab-df-convert {\n",
              "      background-color: #3B4455;\n",
              "      fill: #D2E3FC;\n",
              "    }\n",
              "\n",
              "    [theme=dark] .colab-df-convert:hover {\n",
              "      background-color: #434B5C;\n",
              "      box-shadow: 0px 1px 3px 1px rgba(0, 0, 0, 0.15);\n",
              "      filter: drop-shadow(0px 1px 2px rgba(0, 0, 0, 0.3));\n",
              "      fill: #FFFFFF;\n",
              "    }\n",
              "  </style>\n",
              "\n",
              "      <script>\n",
              "        const buttonEl =\n",
              "          document.querySelector('#df-be1e8308-60b6-46c2-a234-576d4eafc99a button.colab-df-convert');\n",
              "        buttonEl.style.display =\n",
              "          google.colab.kernel.accessAllowed ? 'block' : 'none';\n",
              "\n",
              "        async function convertToInteractive(key) {\n",
              "          const element = document.querySelector('#df-be1e8308-60b6-46c2-a234-576d4eafc99a');\n",
              "          const dataTable =\n",
              "            await google.colab.kernel.invokeFunction('convertToInteractive',\n",
              "                                                     [key], {});\n",
              "          if (!dataTable) return;\n",
              "\n",
              "          const docLinkHtml = 'Like what you see? Visit the ' +\n",
              "            '<a target=\"_blank\" href=https://colab.research.google.com/notebooks/data_table.ipynb>data table notebook</a>'\n",
              "            + ' to learn more about interactive tables.';\n",
              "          element.innerHTML = '';\n",
              "          dataTable['output_type'] = 'display_data';\n",
              "          await google.colab.output.renderOutput(dataTable, element);\n",
              "          const docLink = document.createElement('div');\n",
              "          docLink.innerHTML = docLinkHtml;\n",
              "          element.appendChild(docLink);\n",
              "        }\n",
              "      </script>\n",
              "    </div>\n",
              "  </div>\n",
              "  "
            ]
          },
          "metadata": {},
          "execution_count": 9
        }
      ]
    },
    {
      "cell_type": "code",
      "source": [
        "raw_data[(raw_data['converted'] == False) & (raw_data['conversion'] == 1)]"
      ],
      "metadata": {
        "id": "Mn6Z0wEE6x6j",
        "colab": {
          "base_uri": "https://localhost:8080/",
          "height": 113
        },
        "outputId": "c6d1e1da-47d6-4db6-9a3f-b3e4ef435f5a"
      },
      "execution_count": 10,
      "outputs": [
        {
          "output_type": "execute_result",
          "data": {
            "text/plain": [
              "Empty DataFrame\n",
              "Columns: [user_id, date_served, marketing_channel, variant, converted, language_displayed, language_preferred, age_group, date_subscribed, date_canceled, subscribing_channel, is_retained, conversion]\n",
              "Index: []"
            ],
            "text/html": [
              "\n",
              "  <div id=\"df-f7c69dc5-0c6c-4480-9175-0aaec33bb573\">\n",
              "    <div class=\"colab-df-container\">\n",
              "      <div>\n",
              "<style scoped>\n",
              "    .dataframe tbody tr th:only-of-type {\n",
              "        vertical-align: middle;\n",
              "    }\n",
              "\n",
              "    .dataframe tbody tr th {\n",
              "        vertical-align: top;\n",
              "    }\n",
              "\n",
              "    .dataframe thead th {\n",
              "        text-align: right;\n",
              "    }\n",
              "</style>\n",
              "<table border=\"1\" class=\"dataframe\">\n",
              "  <thead>\n",
              "    <tr style=\"text-align: right;\">\n",
              "      <th></th>\n",
              "      <th>user_id</th>\n",
              "      <th>date_served</th>\n",
              "      <th>marketing_channel</th>\n",
              "      <th>variant</th>\n",
              "      <th>converted</th>\n",
              "      <th>language_displayed</th>\n",
              "      <th>language_preferred</th>\n",
              "      <th>age_group</th>\n",
              "      <th>date_subscribed</th>\n",
              "      <th>date_canceled</th>\n",
              "      <th>subscribing_channel</th>\n",
              "      <th>is_retained</th>\n",
              "      <th>conversion</th>\n",
              "    </tr>\n",
              "  </thead>\n",
              "  <tbody>\n",
              "  </tbody>\n",
              "</table>\n",
              "</div>\n",
              "      <button class=\"colab-df-convert\" onclick=\"convertToInteractive('df-f7c69dc5-0c6c-4480-9175-0aaec33bb573')\"\n",
              "              title=\"Convert this dataframe to an interactive table.\"\n",
              "              style=\"display:none;\">\n",
              "        \n",
              "  <svg xmlns=\"http://www.w3.org/2000/svg\" height=\"24px\"viewBox=\"0 0 24 24\"\n",
              "       width=\"24px\">\n",
              "    <path d=\"M0 0h24v24H0V0z\" fill=\"none\"/>\n",
              "    <path d=\"M18.56 5.44l.94 2.06.94-2.06 2.06-.94-2.06-.94-.94-2.06-.94 2.06-2.06.94zm-11 1L8.5 8.5l.94-2.06 2.06-.94-2.06-.94L8.5 2.5l-.94 2.06-2.06.94zm10 10l.94 2.06.94-2.06 2.06-.94-2.06-.94-.94-2.06-.94 2.06-2.06.94z\"/><path d=\"M17.41 7.96l-1.37-1.37c-.4-.4-.92-.59-1.43-.59-.52 0-1.04.2-1.43.59L10.3 9.45l-7.72 7.72c-.78.78-.78 2.05 0 2.83L4 21.41c.39.39.9.59 1.41.59.51 0 1.02-.2 1.41-.59l7.78-7.78 2.81-2.81c.8-.78.8-2.07 0-2.86zM5.41 20L4 18.59l7.72-7.72 1.47 1.35L5.41 20z\"/>\n",
              "  </svg>\n",
              "      </button>\n",
              "      \n",
              "  <style>\n",
              "    .colab-df-container {\n",
              "      display:flex;\n",
              "      flex-wrap:wrap;\n",
              "      gap: 12px;\n",
              "    }\n",
              "\n",
              "    .colab-df-convert {\n",
              "      background-color: #E8F0FE;\n",
              "      border: none;\n",
              "      border-radius: 50%;\n",
              "      cursor: pointer;\n",
              "      display: none;\n",
              "      fill: #1967D2;\n",
              "      height: 32px;\n",
              "      padding: 0 0 0 0;\n",
              "      width: 32px;\n",
              "    }\n",
              "\n",
              "    .colab-df-convert:hover {\n",
              "      background-color: #E2EBFA;\n",
              "      box-shadow: 0px 1px 2px rgba(60, 64, 67, 0.3), 0px 1px 3px 1px rgba(60, 64, 67, 0.15);\n",
              "      fill: #174EA6;\n",
              "    }\n",
              "\n",
              "    [theme=dark] .colab-df-convert {\n",
              "      background-color: #3B4455;\n",
              "      fill: #D2E3FC;\n",
              "    }\n",
              "\n",
              "    [theme=dark] .colab-df-convert:hover {\n",
              "      background-color: #434B5C;\n",
              "      box-shadow: 0px 1px 3px 1px rgba(0, 0, 0, 0.15);\n",
              "      filter: drop-shadow(0px 1px 2px rgba(0, 0, 0, 0.3));\n",
              "      fill: #FFFFFF;\n",
              "    }\n",
              "  </style>\n",
              "\n",
              "      <script>\n",
              "        const buttonEl =\n",
              "          document.querySelector('#df-f7c69dc5-0c6c-4480-9175-0aaec33bb573 button.colab-df-convert');\n",
              "        buttonEl.style.display =\n",
              "          google.colab.kernel.accessAllowed ? 'block' : 'none';\n",
              "\n",
              "        async function convertToInteractive(key) {\n",
              "          const element = document.querySelector('#df-f7c69dc5-0c6c-4480-9175-0aaec33bb573');\n",
              "          const dataTable =\n",
              "            await google.colab.kernel.invokeFunction('convertToInteractive',\n",
              "                                                     [key], {});\n",
              "          if (!dataTable) return;\n",
              "\n",
              "          const docLinkHtml = 'Like what you see? Visit the ' +\n",
              "            '<a target=\"_blank\" href=https://colab.research.google.com/notebooks/data_table.ipynb>data table notebook</a>'\n",
              "            + ' to learn more about interactive tables.';\n",
              "          element.innerHTML = '';\n",
              "          dataTable['output_type'] = 'display_data';\n",
              "          await google.colab.output.renderOutput(dataTable, element);\n",
              "          const docLink = document.createElement('div');\n",
              "          docLink.innerHTML = docLinkHtml;\n",
              "          element.appendChild(docLink);\n",
              "        }\n",
              "      </script>\n",
              "    </div>\n",
              "  </div>\n",
              "  "
            ]
          },
          "metadata": {},
          "execution_count": 10
        }
      ]
    },
    {
      "cell_type": "markdown",
      "source": [
        "It seems that converted and conversion has the same value which if the converted is True, the conversion will be 1 and vice versa."
      ],
      "metadata": {
        "id": "YZgW_L78qhlW"
      }
    },
    {
      "cell_type": "code",
      "source": [
        "#Check missing value\n",
        "raw_data.isnull().sum()"
      ],
      "metadata": {
        "id": "p3UtsCkihpT0",
        "colab": {
          "base_uri": "https://localhost:8080/"
        },
        "outputId": "4e5ef824-98bf-4939-fe3d-08baea3f59a3"
      },
      "execution_count": 11,
      "outputs": [
        {
          "output_type": "execute_result",
          "data": {
            "text/plain": [
              "user_id                0\n",
              "date_served            0\n",
              "marketing_channel      0\n",
              "variant                0\n",
              "converted              0\n",
              "language_displayed     0\n",
              "language_preferred     0\n",
              "age_group              0\n",
              "date_subscribed        0\n",
              "date_canceled          0\n",
              "subscribing_channel    0\n",
              "is_retained            0\n",
              "conversion             0\n",
              "dtype: int64"
            ]
          },
          "metadata": {},
          "execution_count": 11
        }
      ]
    },
    {
      "cell_type": "code",
      "source": [
        "#Check data duplicated\n",
        "raw_data.duplicated().sum()"
      ],
      "metadata": {
        "id": "IOOSKwl4feqW",
        "colab": {
          "base_uri": "https://localhost:8080/"
        },
        "outputId": "0b29ea5e-5c72-4ba0-c4f7-fefd4ced8f13"
      },
      "execution_count": 12,
      "outputs": [
        {
          "output_type": "execute_result",
          "data": {
            "text/plain": [
              "2"
            ]
          },
          "metadata": {},
          "execution_count": 12
        }
      ]
    },
    {
      "cell_type": "code",
      "source": [
        "raw_data[raw_data.duplicated(keep=False)]"
      ],
      "metadata": {
        "id": "Wh_ih_WJhyOb",
        "colab": {
          "base_uri": "https://localhost:8080/",
          "height": 308
        },
        "outputId": "cc8f9e9d-4a17-4100-f0c6-71645e7fbddf"
      },
      "execution_count": 13,
      "outputs": [
        {
          "output_type": "execute_result",
          "data": {
            "text/plain": [
              "        user_id date_served marketing_channel  variant  converted  \\\n",
              "309  a100000889  2018-01-03         House Ads  control      False   \n",
              "311  a100000889  2018-01-03         House Ads  control      False   \n",
              "334  a100000894  2018-01-03         House Ads  control      False   \n",
              "336  a100000894  2018-01-03         House Ads  control      False   \n",
              "\n",
              "    language_displayed language_preferred    age_group date_subscribed  \\\n",
              "309            English            English  45-55 years      2018-01-03   \n",
              "311            English            English  45-55 years      2018-01-03   \n",
              "334            English            English  30-36 years      2018-01-08   \n",
              "336            English            English  30-36 years      2018-01-08   \n",
              "\n",
              "    date_canceled subscribing_channel  is_retained  conversion  \n",
              "309    2018-03-24               Email        False           0  \n",
              "311    2018-03-24               Email        False           0  \n",
              "334    2018-04-02           Instagram        False           0  \n",
              "336    2018-04-02           Instagram        False           0  "
            ],
            "text/html": [
              "\n",
              "  <div id=\"df-c6e29389-a452-49cf-8ef6-4d50b9432290\">\n",
              "    <div class=\"colab-df-container\">\n",
              "      <div>\n",
              "<style scoped>\n",
              "    .dataframe tbody tr th:only-of-type {\n",
              "        vertical-align: middle;\n",
              "    }\n",
              "\n",
              "    .dataframe tbody tr th {\n",
              "        vertical-align: top;\n",
              "    }\n",
              "\n",
              "    .dataframe thead th {\n",
              "        text-align: right;\n",
              "    }\n",
              "</style>\n",
              "<table border=\"1\" class=\"dataframe\">\n",
              "  <thead>\n",
              "    <tr style=\"text-align: right;\">\n",
              "      <th></th>\n",
              "      <th>user_id</th>\n",
              "      <th>date_served</th>\n",
              "      <th>marketing_channel</th>\n",
              "      <th>variant</th>\n",
              "      <th>converted</th>\n",
              "      <th>language_displayed</th>\n",
              "      <th>language_preferred</th>\n",
              "      <th>age_group</th>\n",
              "      <th>date_subscribed</th>\n",
              "      <th>date_canceled</th>\n",
              "      <th>subscribing_channel</th>\n",
              "      <th>is_retained</th>\n",
              "      <th>conversion</th>\n",
              "    </tr>\n",
              "  </thead>\n",
              "  <tbody>\n",
              "    <tr>\n",
              "      <th>309</th>\n",
              "      <td>a100000889</td>\n",
              "      <td>2018-01-03</td>\n",
              "      <td>House Ads</td>\n",
              "      <td>control</td>\n",
              "      <td>False</td>\n",
              "      <td>English</td>\n",
              "      <td>English</td>\n",
              "      <td>45-55 years</td>\n",
              "      <td>2018-01-03</td>\n",
              "      <td>2018-03-24</td>\n",
              "      <td>Email</td>\n",
              "      <td>False</td>\n",
              "      <td>0</td>\n",
              "    </tr>\n",
              "    <tr>\n",
              "      <th>311</th>\n",
              "      <td>a100000889</td>\n",
              "      <td>2018-01-03</td>\n",
              "      <td>House Ads</td>\n",
              "      <td>control</td>\n",
              "      <td>False</td>\n",
              "      <td>English</td>\n",
              "      <td>English</td>\n",
              "      <td>45-55 years</td>\n",
              "      <td>2018-01-03</td>\n",
              "      <td>2018-03-24</td>\n",
              "      <td>Email</td>\n",
              "      <td>False</td>\n",
              "      <td>0</td>\n",
              "    </tr>\n",
              "    <tr>\n",
              "      <th>334</th>\n",
              "      <td>a100000894</td>\n",
              "      <td>2018-01-03</td>\n",
              "      <td>House Ads</td>\n",
              "      <td>control</td>\n",
              "      <td>False</td>\n",
              "      <td>English</td>\n",
              "      <td>English</td>\n",
              "      <td>30-36 years</td>\n",
              "      <td>2018-01-08</td>\n",
              "      <td>2018-04-02</td>\n",
              "      <td>Instagram</td>\n",
              "      <td>False</td>\n",
              "      <td>0</td>\n",
              "    </tr>\n",
              "    <tr>\n",
              "      <th>336</th>\n",
              "      <td>a100000894</td>\n",
              "      <td>2018-01-03</td>\n",
              "      <td>House Ads</td>\n",
              "      <td>control</td>\n",
              "      <td>False</td>\n",
              "      <td>English</td>\n",
              "      <td>English</td>\n",
              "      <td>30-36 years</td>\n",
              "      <td>2018-01-08</td>\n",
              "      <td>2018-04-02</td>\n",
              "      <td>Instagram</td>\n",
              "      <td>False</td>\n",
              "      <td>0</td>\n",
              "    </tr>\n",
              "  </tbody>\n",
              "</table>\n",
              "</div>\n",
              "      <button class=\"colab-df-convert\" onclick=\"convertToInteractive('df-c6e29389-a452-49cf-8ef6-4d50b9432290')\"\n",
              "              title=\"Convert this dataframe to an interactive table.\"\n",
              "              style=\"display:none;\">\n",
              "        \n",
              "  <svg xmlns=\"http://www.w3.org/2000/svg\" height=\"24px\"viewBox=\"0 0 24 24\"\n",
              "       width=\"24px\">\n",
              "    <path d=\"M0 0h24v24H0V0z\" fill=\"none\"/>\n",
              "    <path d=\"M18.56 5.44l.94 2.06.94-2.06 2.06-.94-2.06-.94-.94-2.06-.94 2.06-2.06.94zm-11 1L8.5 8.5l.94-2.06 2.06-.94-2.06-.94L8.5 2.5l-.94 2.06-2.06.94zm10 10l.94 2.06.94-2.06 2.06-.94-2.06-.94-.94-2.06-.94 2.06-2.06.94z\"/><path d=\"M17.41 7.96l-1.37-1.37c-.4-.4-.92-.59-1.43-.59-.52 0-1.04.2-1.43.59L10.3 9.45l-7.72 7.72c-.78.78-.78 2.05 0 2.83L4 21.41c.39.39.9.59 1.41.59.51 0 1.02-.2 1.41-.59l7.78-7.78 2.81-2.81c.8-.78.8-2.07 0-2.86zM5.41 20L4 18.59l7.72-7.72 1.47 1.35L5.41 20z\"/>\n",
              "  </svg>\n",
              "      </button>\n",
              "      \n",
              "  <style>\n",
              "    .colab-df-container {\n",
              "      display:flex;\n",
              "      flex-wrap:wrap;\n",
              "      gap: 12px;\n",
              "    }\n",
              "\n",
              "    .colab-df-convert {\n",
              "      background-color: #E8F0FE;\n",
              "      border: none;\n",
              "      border-radius: 50%;\n",
              "      cursor: pointer;\n",
              "      display: none;\n",
              "      fill: #1967D2;\n",
              "      height: 32px;\n",
              "      padding: 0 0 0 0;\n",
              "      width: 32px;\n",
              "    }\n",
              "\n",
              "    .colab-df-convert:hover {\n",
              "      background-color: #E2EBFA;\n",
              "      box-shadow: 0px 1px 2px rgba(60, 64, 67, 0.3), 0px 1px 3px 1px rgba(60, 64, 67, 0.15);\n",
              "      fill: #174EA6;\n",
              "    }\n",
              "\n",
              "    [theme=dark] .colab-df-convert {\n",
              "      background-color: #3B4455;\n",
              "      fill: #D2E3FC;\n",
              "    }\n",
              "\n",
              "    [theme=dark] .colab-df-convert:hover {\n",
              "      background-color: #434B5C;\n",
              "      box-shadow: 0px 1px 3px 1px rgba(0, 0, 0, 0.15);\n",
              "      filter: drop-shadow(0px 1px 2px rgba(0, 0, 0, 0.3));\n",
              "      fill: #FFFFFF;\n",
              "    }\n",
              "  </style>\n",
              "\n",
              "      <script>\n",
              "        const buttonEl =\n",
              "          document.querySelector('#df-c6e29389-a452-49cf-8ef6-4d50b9432290 button.colab-df-convert');\n",
              "        buttonEl.style.display =\n",
              "          google.colab.kernel.accessAllowed ? 'block' : 'none';\n",
              "\n",
              "        async function convertToInteractive(key) {\n",
              "          const element = document.querySelector('#df-c6e29389-a452-49cf-8ef6-4d50b9432290');\n",
              "          const dataTable =\n",
              "            await google.colab.kernel.invokeFunction('convertToInteractive',\n",
              "                                                     [key], {});\n",
              "          if (!dataTable) return;\n",
              "\n",
              "          const docLinkHtml = 'Like what you see? Visit the ' +\n",
              "            '<a target=\"_blank\" href=https://colab.research.google.com/notebooks/data_table.ipynb>data table notebook</a>'\n",
              "            + ' to learn more about interactive tables.';\n",
              "          element.innerHTML = '';\n",
              "          dataTable['output_type'] = 'display_data';\n",
              "          await google.colab.output.renderOutput(dataTable, element);\n",
              "          const docLink = document.createElement('div');\n",
              "          docLink.innerHTML = docLinkHtml;\n",
              "          element.appendChild(docLink);\n",
              "        }\n",
              "      </script>\n",
              "    </div>\n",
              "  </div>\n",
              "  "
            ]
          },
          "metadata": {},
          "execution_count": 13
        }
      ]
    },
    {
      "cell_type": "code",
      "source": [
        "#Drop duplicates\n",
        "raw_data.drop_duplicates(inplace=True, ignore_index=True)"
      ],
      "metadata": {
        "id": "vcITOricigIV"
      },
      "execution_count": 14,
      "outputs": []
    },
    {
      "cell_type": "markdown",
      "source": [
        "#Data Exploration"
      ],
      "metadata": {
        "id": "db9m6ntp51ey"
      }
    },
    {
      "cell_type": "code",
      "source": [
        "#Define function for visualization\n",
        "def prop_agg(df, y, x):\n",
        "  temp_df = df.groupby([y,x], as_index = False).size()\n",
        "  temp_df['prop'] = temp_df['size'] / temp_df.groupby(y)['size'].transform('sum')\n",
        "  return temp_df"
      ],
      "metadata": {
        "id": "6XKJlThYMwiH"
      },
      "execution_count": 62,
      "outputs": []
    },
    {
      "cell_type": "markdown",
      "source": [
        "##Total User per Marketing Channel"
      ],
      "metadata": {
        "id": "rb5gVxkqv1eV"
      }
    },
    {
      "cell_type": "code",
      "source": [
        "sns.countplot(x = 'marketing_channel', data = raw_data, palette = 'pastel')\n",
        "plt.xlabel(\"Marketing Channel\");"
      ],
      "metadata": {
        "id": "oEMI3WVMs4JV",
        "colab": {
          "base_uri": "https://localhost:8080/",
          "height": 279
        },
        "outputId": "ddc4d818-7eab-4094-d480-b7ef845882a0"
      },
      "execution_count": 15,
      "outputs": [
        {
          "output_type": "display_data",
          "data": {
            "text/plain": [
              "<Figure size 432x288 with 1 Axes>"
            ],
            "image/png": "[encoded data removed]"
          },
          "metadata": {
            "needs_background": "light"
          }
        }
      ]
    },
    {
      "cell_type": "code",
      "source": [
        "raw_data['marketing_channel'].value_counts(normalize = True)"
      ],
      "metadata": {
        "id": "F_pmKlcU8ZeI",
        "colab": {
          "base_uri": "https://localhost:8080/"
        },
        "outputId": "9f564c71-f83f-40e1-b047-10fa500adf19"
      },
      "execution_count": 164,
      "outputs": [
        {
          "output_type": "execute_result",
          "data": {
            "text/plain": [
              "House Ads    0.445217\n",
              "Instagram    0.210435\n",
              "Facebook     0.182609\n",
              "Email        0.092174\n",
              "Push         0.069565\n",
              "Name: marketing_channel, dtype: float64"
            ]
          },
          "metadata": {},
          "execution_count": 164
        }
      ]
    },
    {
      "cell_type": "markdown",
      "source": [
        "House Ads is the most used marketing channel with **44.5%** (256 customers). Followed by Instagram with **21%** (121 customers). Then, Facebook with **18.2%** (105 customers). The last two are Email and Push Notification with **9.2%** (53 customers) and **6.9%** (40 customers). "
      ],
      "metadata": {
        "id": "GSAtccycntX0"
      }
    },
    {
      "cell_type": "markdown",
      "source": [
        "##Total User per Variant"
      ],
      "metadata": {
        "id": "HUflU8e2wFY1"
      }
    },
    {
      "cell_type": "code",
      "source": [
        "sns.countplot(x = 'variant', data = raw_data, palette = 'pastel');"
      ],
      "metadata": {
        "id": "3ELEUyUhv-_3",
        "colab": {
          "base_uri": "https://localhost:8080/",
          "height": 279
        },
        "outputId": "9e83615e-234b-4db9-d6b5-913ce0072c19"
      },
      "execution_count": 17,
      "outputs": [
        {
          "output_type": "display_data",
          "data": {
            "text/plain": [
              "<Figure size 432x288 with 1 Axes>"
            ],
            "image/png": "[encoded data removed]"
          },
          "metadata": {
            "needs_background": "light"
          }
        }
      ]
    },
    {
      "cell_type": "code",
      "source": [
        "raw_data['variant'].value_counts()"
      ],
      "metadata": {
        "id": "waLg5sdxwQfC",
        "colab": {
          "base_uri": "https://localhost:8080/"
        },
        "outputId": "b1c17013-95af-4c16-ac67-7fe9a3518b0c"
      },
      "execution_count": 181,
      "outputs": [
        {
          "output_type": "execute_result",
          "data": {
            "text/plain": [
              "personalization    310\n",
              "control            265\n",
              "Name: variant, dtype: int64"
            ]
          },
          "metadata": {},
          "execution_count": 181
        }
      ]
    },
    {
      "cell_type": "markdown",
      "source": [
        "From the visualization we know that the data has difference around 7% (45 users) between variant and control group. But it's not too significant so we can accept that."
      ],
      "metadata": {
        "id": "KY4UaQEBshoJ"
      }
    },
    {
      "cell_type": "markdown",
      "source": [
        "## Total User Converted per Variant##"
      ],
      "metadata": {
        "id": "OcHSnwf2wVbp"
      }
    },
    {
      "cell_type": "code",
      "source": [
        "g = sns.FacetGrid(\n",
        "    data = prop_agg(raw_data, \"variant\", \"converted\"),\n",
        "    col = \"variant\"\n",
        ")\n",
        "g.map(sns.barplot, \"converted\", \"prop\");"
      ],
      "metadata": {
        "id": "2mfsDyEvwe3L",
        "colab": {
          "base_uri": "https://localhost:8080/",
          "height": 280
        },
        "outputId": "d593719e-98d7-47f8-987c-22e3584acf05"
      },
      "execution_count": 20,
      "outputs": [
        {
          "output_type": "stream",
          "name": "stderr",
          "text": [
            "/usr/local/lib/python3.7/dist-packages/seaborn/axisgrid.py:670: UserWarning: Using the barplot function without specifying `order` is likely to produce an incorrect plot.\n",
            "  warnings.warn(warning)\n"
          ]
        },
        {
          "output_type": "display_data",
          "data": {
            "text/plain": [
              "<Figure size 432x216 with 2 Axes>"
            ],
            "image/png": "[encoded data removed]"
          },
          "metadata": {
            "needs_background": "light"
          }
        }
      ]
    },
    {
      "cell_type": "code",
      "source": [
        "(raw_data.groupby('variant')['conversion'].sum()).plot(kind='bar')\n",
        "plt.title('Total User Converted')\n",
        "plt.ylabel('Total User')\n",
        "plt.xlabel('Variant');"
      ],
      "metadata": {
        "colab": {
          "base_uri": "https://localhost:8080/",
          "height": 362
        },
        "id": "CErR5i1JINgu",
        "outputId": "143db934-5528-4a4e-85eb-9aab51fbeb85"
      },
      "execution_count": 198,
      "outputs": [
        {
          "output_type": "display_data",
          "data": {
            "text/plain": [
              "<Figure size 432x288 with 1 Axes>"
            ],
            "image/png": "[encoded data removed]"
          },
          "metadata": {
            "needs_background": "light"
          }
        }
      ]
    },
    {
      "cell_type": "markdown",
      "source": [
        "The conversion rate between control and personalization from the plot above seems significant. The conversion rate for personalization group almost **80%** (around 237 users) from its population and control group only **42%** (roughly 112 users) from its population. From this plot, we also know that the treatment is seemed having an impact on conversion."
      ],
      "metadata": {
        "id": "iJrIvhaM8i8e"
      }
    },
    {
      "cell_type": "markdown",
      "source": [
        "##Total User Converted per Variant from Time to Time"
      ],
      "metadata": {
        "id": "v6uxTQkUw_Wq"
      }
    },
    {
      "cell_type": "code",
      "source": [
        "#Create week based column\n",
        "raw_data['week_subscribed'] = raw_data['date_subscribed'].dt.isocalendar().week\n",
        "\n",
        "raw_data.head()"
      ],
      "metadata": {
        "colab": {
          "base_uri": "https://localhost:8080/",
          "height": 340
        },
        "id": "fWdZ9N4u4nBY",
        "outputId": "d61322fa-98df-4283-e3e3-2f828f5345ce"
      },
      "execution_count": 142,
      "outputs": [
        {
          "output_type": "execute_result",
          "data": {
            "text/plain": [
              "      user_id date_served marketing_channel          variant  converted  \\\n",
              "0  a100000040  2018-01-01         House Ads  personalization       True   \n",
              "1  a100000041  2018-01-01         House Ads  personalization       True   \n",
              "2  a100000042  2018-01-01         House Ads  personalization       True   \n",
              "3  a100000043  2018-01-01         House Ads  personalization       True   \n",
              "4  a100000044  2018-01-01         House Ads  personalization       True   \n",
              "\n",
              "  language_displayed language_preferred    age_group date_subscribed  \\\n",
              "0            English            English  19-24 years      2018-01-01   \n",
              "1             Arabic             Arabic  24-30 years      2018-01-01   \n",
              "2            English            English   0-18 years      2018-01-01   \n",
              "3            English            English  19-24 years      2018-01-01   \n",
              "4             Arabic             Arabic  24-30 years      2018-01-01   \n",
              "\n",
              "  date_canceled subscribing_channel  is_retained  conversion  week_served  \\\n",
              "0    2018-01-18           House Ads        False           1            1   \n",
              "1    2018-02-22           House Ads        False           1            1   \n",
              "2    2018-03-09           House Ads        False           1            1   \n",
              "3    2018-02-18           House Ads        False           1            1   \n",
              "4    2018-03-03           House Ads        False           1            1   \n",
              "\n",
              "   week_subscribed  \n",
              "0                1  \n",
              "1                1  \n",
              "2                1  \n",
              "3                1  \n",
              "4                1  "
            ],
            "text/html": [
              "\n",
              "  <div id=\"df-d1e9d227-2736-4d9f-8b68-08a43d0a85d4\">\n",
              "    <div class=\"colab-df-container\">\n",
              "      <div>\n",
              "<style scoped>\n",
              "    .dataframe tbody tr th:only-of-type {\n",
              "        vertical-align: middle;\n",
              "    }\n",
              "\n",
              "    .dataframe tbody tr th {\n",
              "        vertical-align: top;\n",
              "    }\n",
              "\n",
              "    .dataframe thead th {\n",
              "        text-align: right;\n",
              "    }\n",
              "</style>\n",
              "<table border=\"1\" class=\"dataframe\">\n",
              "  <thead>\n",
              "    <tr style=\"text-align: right;\">\n",
              "      <th></th>\n",
              "      <th>user_id</th>\n",
              "      <th>date_served</th>\n",
              "      <th>marketing_channel</th>\n",
              "      <th>variant</th>\n",
              "      <th>converted</th>\n",
              "      <th>language_displayed</th>\n",
              "      <th>language_preferred</th>\n",
              "      <th>age_group</th>\n",
              "      <th>date_subscribed</th>\n",
              "      <th>date_canceled</th>\n",
              "      <th>subscribing_channel</th>\n",
              "      <th>is_retained</th>\n",
              "      <th>conversion</th>\n",
              "      <th>week_served</th>\n",
              "      <th>week_subscribed</th>\n",
              "    </tr>\n",
              "  </thead>\n",
              "  <tbody>\n",
              "    <tr>\n",
              "      <th>0</th>\n",
              "      <td>a100000040</td>\n",
              "      <td>2018-01-01</td>\n",
              "      <td>House Ads</td>\n",
              "      <td>personalization</td>\n",
              "      <td>True</td>\n",
              "      <td>English</td>\n",
              "      <td>English</td>\n",
              "      <td>19-24 years</td>\n",
              "      <td>2018-01-01</td>\n",
              "      <td>2018-01-18</td>\n",
              "      <td>House Ads</td>\n",
              "      <td>False</td>\n",
              "      <td>1</td>\n",
              "      <td>1</td>\n",
              "      <td>1</td>\n",
              "    </tr>\n",
              "    <tr>\n",
              "      <th>1</th>\n",
              "      <td>a100000041</td>\n",
              "      <td>2018-01-01</td>\n",
              "      <td>House Ads</td>\n",
              "      <td>personalization</td>\n",
              "      <td>True</td>\n",
              "      <td>Arabic</td>\n",
              "      <td>Arabic</td>\n",
              "      <td>24-30 years</td>\n",
              "      <td>2018-01-01</td>\n",
              "      <td>2018-02-22</td>\n",
              "      <td>House Ads</td>\n",
              "      <td>False</td>\n",
              "      <td>1</td>\n",
              "      <td>1</td>\n",
              "      <td>1</td>\n",
              "    </tr>\n",
              "    <tr>\n",
              "      <th>2</th>\n",
              "      <td>a100000042</td>\n",
              "      <td>2018-01-01</td>\n",
              "      <td>House Ads</td>\n",
              "      <td>personalization</td>\n",
              "      <td>True</td>\n",
              "      <td>English</td>\n",
              "      <td>English</td>\n",
              "      <td>0-18 years</td>\n",
              "      <td>2018-01-01</td>\n",
              "      <td>2018-03-09</td>\n",
              "      <td>House Ads</td>\n",
              "      <td>False</td>\n",
              "      <td>1</td>\n",
              "      <td>1</td>\n",
              "      <td>1</td>\n",
              "    </tr>\n",
              "    <tr>\n",
              "      <th>3</th>\n",
              "      <td>a100000043</td>\n",
              "      <td>2018-01-01</td>\n",
              "      <td>House Ads</td>\n",
              "      <td>personalization</td>\n",
              "      <td>True</td>\n",
              "      <td>English</td>\n",
              "      <td>English</td>\n",
              "      <td>19-24 years</td>\n",
              "      <td>2018-01-01</td>\n",
              "      <td>2018-02-18</td>\n",
              "      <td>House Ads</td>\n",
              "      <td>False</td>\n",
              "      <td>1</td>\n",
              "      <td>1</td>\n",
              "      <td>1</td>\n",
              "    </tr>\n",
              "    <tr>\n",
              "      <th>4</th>\n",
              "      <td>a100000044</td>\n",
              "      <td>2018-01-01</td>\n",
              "      <td>House Ads</td>\n",
              "      <td>personalization</td>\n",
              "      <td>True</td>\n",
              "      <td>Arabic</td>\n",
              "      <td>Arabic</td>\n",
              "      <td>24-30 years</td>\n",
              "      <td>2018-01-01</td>\n",
              "      <td>2018-03-03</td>\n",
              "      <td>House Ads</td>\n",
              "      <td>False</td>\n",
              "      <td>1</td>\n",
              "      <td>1</td>\n",
              "      <td>1</td>\n",
              "    </tr>\n",
              "  </tbody>\n",
              "</table>\n",
              "</div>\n",
              "      <button class=\"colab-df-convert\" onclick=\"convertToInteractive('df-d1e9d227-2736-4d9f-8b68-08a43d0a85d4')\"\n",
              "              title=\"Convert this dataframe to an interactive table.\"\n",
              "              style=\"display:none;\">\n",
              "        \n",
              "  <svg xmlns=\"http://www.w3.org/2000/svg\" height=\"24px\"viewBox=\"0 0 24 24\"\n",
              "       width=\"24px\">\n",
              "    <path d=\"M0 0h24v24H0V0z\" fill=\"none\"/>\n",
              "    <path d=\"M18.56 5.44l.94 2.06.94-2.06 2.06-.94-2.06-.94-.94-2.06-.94 2.06-2.06.94zm-11 1L8.5 8.5l.94-2.06 2.06-.94-2.06-.94L8.5 2.5l-.94 2.06-2.06.94zm10 10l.94 2.06.94-2.06 2.06-.94-2.06-.94-.94-2.06-.94 2.06-2.06.94z\"/><path d=\"M17.41 7.96l-1.37-1.37c-.4-.4-.92-.59-1.43-.59-.52 0-1.04.2-1.43.59L10.3 9.45l-7.72 7.72c-.78.78-.78 2.05 0 2.83L4 21.41c.39.39.9.59 1.41.59.51 0 1.02-.2 1.41-.59l7.78-7.78 2.81-2.81c.8-.78.8-2.07 0-2.86zM5.41 20L4 18.59l7.72-7.72 1.47 1.35L5.41 20z\"/>\n",
              "  </svg>\n",
              "      </button>\n",
              "      \n",
              "  <style>\n",
              "    .colab-df-container {\n",
              "      display:flex;\n",
              "      flex-wrap:wrap;\n",
              "      gap: 12px;\n",
              "    }\n",
              "\n",
              "    .colab-df-convert {\n",
              "      background-color: #E8F0FE;\n",
              "      border: none;\n",
              "      border-radius: 50%;\n",
              "      cursor: pointer;\n",
              "      display: none;\n",
              "      fill: #1967D2;\n",
              "      height: 32px;\n",
              "      padding: 0 0 0 0;\n",
              "      width: 32px;\n",
              "    }\n",
              "\n",
              "    .colab-df-convert:hover {\n",
              "      background-color: #E2EBFA;\n",
              "      box-shadow: 0px 1px 2px rgba(60, 64, 67, 0.3), 0px 1px 3px 1px rgba(60, 64, 67, 0.15);\n",
              "      fill: #174EA6;\n",
              "    }\n",
              "\n",
              "    [theme=dark] .colab-df-convert {\n",
              "      background-color: #3B4455;\n",
              "      fill: #D2E3FC;\n",
              "    }\n",
              "\n",
              "    [theme=dark] .colab-df-convert:hover {\n",
              "      background-color: #434B5C;\n",
              "      box-shadow: 0px 1px 3px 1px rgba(0, 0, 0, 0.15);\n",
              "      filter: drop-shadow(0px 1px 2px rgba(0, 0, 0, 0.3));\n",
              "      fill: #FFFFFF;\n",
              "    }\n",
              "  </style>\n",
              "\n",
              "      <script>\n",
              "        const buttonEl =\n",
              "          document.querySelector('#df-d1e9d227-2736-4d9f-8b68-08a43d0a85d4 button.colab-df-convert');\n",
              "        buttonEl.style.display =\n",
              "          google.colab.kernel.accessAllowed ? 'block' : 'none';\n",
              "\n",
              "        async function convertToInteractive(key) {\n",
              "          const element = document.querySelector('#df-d1e9d227-2736-4d9f-8b68-08a43d0a85d4');\n",
              "          const dataTable =\n",
              "            await google.colab.kernel.invokeFunction('convertToInteractive',\n",
              "                                                     [key], {});\n",
              "          if (!dataTable) return;\n",
              "\n",
              "          const docLinkHtml = 'Like what you see? Visit the ' +\n",
              "            '<a target=\"_blank\" href=https://colab.research.google.com/notebooks/data_table.ipynb>data table notebook</a>'\n",
              "            + ' to learn more about interactive tables.';\n",
              "          element.innerHTML = '';\n",
              "          dataTable['output_type'] = 'display_data';\n",
              "          await google.colab.output.renderOutput(dataTable, element);\n",
              "          const docLink = document.createElement('div');\n",
              "          docLink.innerHTML = docLinkHtml;\n",
              "          element.appendChild(docLink);\n",
              "        }\n",
              "      </script>\n",
              "    </div>\n",
              "  </div>\n",
              "  "
            ]
          },
          "metadata": {},
          "execution_count": 142
        }
      ]
    },
    {
      "cell_type": "code",
      "source": [
        "pd.pivot_table(raw_data,index=\"week_subscribed\",columns=\"variant\",values=\"conversion\",\n",
        "               aggfunc='sum').plot(figsize=(8,5), marker='o')\n",
        "\n",
        "plt.title('Total User Converted per Variant from Time to Time')\n",
        "plt.ylabel('User Converted')\n",
        "plt.xlabel('Week')\n",
        "plt.legend(['Control','Personalization'], loc = 0)\n",
        "plt.xticks([1,2,3,4,5])\n",
        "plt.grid(True);"
      ],
      "metadata": {
        "colab": {
          "base_uri": "https://localhost:8080/",
          "height": 350
        },
        "id": "kpTqOum7qRtf",
        "outputId": "722b04e8-6cf5-4e29-8857-d9ab018715ed"
      },
      "execution_count": 186,
      "outputs": [
        {
          "output_type": "display_data",
          "data": {
            "text/plain": [
              "<Figure size 576x360 with 1 Axes>"
            ],
            "image/png": "[encoded data removed]"
          },
          "metadata": {
            "needs_background": "light"
          }
        }
      ]
    },
    {
      "cell_type": "markdown",
      "source": [
        "**Total user converted seems to decrease time to time for both control and treated variant.**"
      ],
      "metadata": {
        "id": "RVyFPgKPu2As"
      }
    },
    {
      "cell_type": "code",
      "source": [
        "pd.pivot_table(raw_data,index=\"week_subscribed\",columns=\"variant\",values=\"conversion\",\n",
        "               aggfunc='mean').plot(figsize=(8,5), marker='o')\n",
        "\n",
        "plt.title('Conversion Rate per Variant from Time to Time')\n",
        "plt.ylabel('Conversion Rate')\n",
        "plt.xlabel('Week')\n",
        "plt.legend(['Control','Personalization'], loc = 0)\n",
        "plt.xticks([1,2,3,4,5])\n",
        "plt.grid(True);"
      ],
      "metadata": {
        "id": "XkiLYftfwo0Z",
        "colab": {
          "base_uri": "https://localhost:8080/",
          "height": 350
        },
        "outputId": "4026c80f-71b1-4421-82cc-7c6186dca371"
      },
      "execution_count": 185,
      "outputs": [
        {
          "output_type": "display_data",
          "data": {
            "text/plain": [
              "<Figure size 576x360 with 1 Axes>"
            ],
            "image/png": "[encoded data removed]"
          },
          "metadata": {
            "needs_background": "light"
          }
        }
      ]
    },
    {
      "cell_type": "markdown",
      "source": [
        "**But during the experimental period, it can be concluded from the graph above that treated variant seems to have an uptrend on the second week until 90% and then the trend is going down till the fourth week reach 70% conversion rate. After that the trend is stagnant. For control variant, it seems fluctuative.**"
      ],
      "metadata": {
        "id": "HOlIDtxQYDku"
      }
    },
    {
      "cell_type": "markdown",
      "source": [
        "##Total User Converted per Age Group"
      ],
      "metadata": {
        "id": "EBLl7NxFxHdk"
      }
    },
    {
      "cell_type": "code",
      "source": [
        "g = sns.FacetGrid(\n",
        "    data = prop_agg(raw_data, \"age_group\", \"converted\"),\n",
        "    col = \"age_group\"\n",
        ")\n",
        "g.map(sns.barplot, \"converted\", \"prop\");"
      ],
      "metadata": {
        "id": "S4xDdK5WxNB7",
        "colab": {
          "base_uri": "https://localhost:8080/",
          "height": 190
        },
        "outputId": "2a73c455-ac28-443e-b69e-ebaad5ee5bb1"
      },
      "execution_count": 23,
      "outputs": [
        {
          "output_type": "stream",
          "name": "stderr",
          "text": [
            "/usr/local/lib/python3.7/dist-packages/seaborn/axisgrid.py:670: UserWarning: Using the barplot function without specifying `order` is likely to produce an incorrect plot.\n",
            "  warnings.warn(warning)\n"
          ]
        },
        {
          "output_type": "display_data",
          "data": {
            "text/plain": [
              "<Figure size 1512x216 with 7 Axes>"
            ],
            "image/png": "[encoded data removed]"
          },
          "metadata": {
            "needs_background": "light"
          }
        }
      ]
    },
    {
      "cell_type": "code",
      "source": [
        "(raw_data.groupby('age_group')['conversion'].sum()).plot(kind = 'bar')\n",
        "plt.ylabel('Total User')\n",
        "plt.xlabel('Age Group');"
      ],
      "metadata": {
        "id": "Aox-ozN8CQDz",
        "colab": {
          "base_uri": "https://localhost:8080/",
          "height": 329
        },
        "outputId": "b1021603-7067-40e0-a73c-0da67d7257cb"
      },
      "execution_count": 187,
      "outputs": [
        {
          "output_type": "display_data",
          "data": {
            "text/plain": [
              "<Figure size 432x288 with 1 Axes>"
            ],
            "image/png": "[encoded data removed]"
          },
          "metadata": {
            "needs_background": "light"
          }
        }
      ]
    },
    {
      "cell_type": "code",
      "source": [
        "raw_data.groupby('age_group')['conversion'].sum()"
      ],
      "metadata": {
        "colab": {
          "base_uri": "https://localhost:8080/"
        },
        "id": "BttC_D_8DbYz",
        "outputId": "e4105a52-4b7e-4a71-dad8-023612ad5d88"
      },
      "execution_count": 191,
      "outputs": [
        {
          "output_type": "execute_result",
          "data": {
            "text/plain": [
              "age_group\n",
              "0-18 years     66\n",
              "19-24 years    95\n",
              "24-30 years    78\n",
              "30-36 years    25\n",
              "36-45 years    29\n",
              "45-55 years    30\n",
              "55+ years      26\n",
              "Name: conversion, dtype: int64"
            ]
          },
          "metadata": {},
          "execution_count": 191
        }
      ]
    },
    {
      "cell_type": "code",
      "source": [
        "(raw_data.groupby('age_group')['conversion'].mean()*100).plot(kind = 'bar')\n",
        "plt.ylabel('Conversion Rate in %')\n",
        "plt.xlabel('Age Group');"
      ],
      "metadata": {
        "colab": {
          "base_uri": "https://localhost:8080/",
          "height": 332
        },
        "id": "Zh7m8pLqAu_M",
        "outputId": "9a8ea8ec-ee32-4e17-c97f-835c5468a7d3"
      },
      "execution_count": 175,
      "outputs": [
        {
          "output_type": "display_data",
          "data": {
            "text/plain": [
              "<Figure size 432x288 with 1 Axes>"
            ],
            "image/png": "[encoded data removed]"
          },
          "metadata": {
            "needs_background": "light"
          }
        }
      ]
    },
    {
      "cell_type": "markdown",
      "source": [
        "Age group 55+ years has the most conversion rate which is almost 80% even though it has the smallest number of total user (around 26 users converted). Followed by 24-30 years (78 users converted), 19-24 years (95 users converted), and 0-18 years (66 users converted) with conversion rate around 62-65%."
      ],
      "metadata": {
        "id": "phfiDOZCBPHw"
      }
    },
    {
      "cell_type": "markdown",
      "source": [
        "##Correlation between Preferred Language and Conversion"
      ],
      "metadata": {
        "id": "IfIY_2pqBO0i"
      }
    },
    {
      "cell_type": "code",
      "source": [
        "selected_col = raw_data[['language_preferred', 'converted']]\n",
        "corr = associations(selected_col, filename= 'language_correlation.png', figsize=(10,10))"
      ],
      "metadata": {
        "id": "e8pfHZm8fuNf",
        "colab": {
          "base_uri": "https://localhost:8080/",
          "height": 584
        },
        "outputId": "6a8a874d-76dc-4fa8-ab7b-0d4d4e7e6ba2"
      },
      "execution_count": 158,
      "outputs": [
        {
          "output_type": "display_data",
          "data": {
            "text/plain": [
              "<Figure size 720x720 with 2 Axes>"
            ],
            "image/png": "[encoded data removed]"
          },
          "metadata": {
            "needs_background": "light"
          }
        }
      ]
    },
    {
      "cell_type": "markdown",
      "source": [
        "I am using associations function from dyhton package to find out the correlation between language preferred and conversion. And the result is:\n",
        "\n",
        "**The correlation between language preferred and conversion seems too weak which is only 17%.**"
      ],
      "metadata": {
        "id": "-kzpj7qAiH5G"
      }
    },
    {
      "cell_type": "markdown",
      "source": [
        "#Proportion Test (Chi-Square)"
      ],
      "metadata": {
        "id": "H6N-1hTgFCef"
      }
    },
    {
      "cell_type": "code",
      "source": [
        "conv_calculation = raw_data.groupby(\n",
        "    ['variant', 'converted'], as_index = False\n",
        ").size().pivot(\n",
        "    index='variant', columns = \"converted\", values = \"size\"\n",
        ").reset_index().assign(\n",
        "    conv_percent = lambda x: x[True] * 100 / (x[True] + x[False])\n",
        ").assign(\n",
        "    total_sample = lambda x: x[True] + x[False]\n",
        ")"
      ],
      "metadata": {
        "id": "KkzOwv-0FKCu"
      },
      "execution_count": 27,
      "outputs": []
    },
    {
      "cell_type": "markdown",
      "source": [
        "**The Result**"
      ],
      "metadata": {
        "id": "__sjCUG6F7zb"
      }
    },
    {
      "cell_type": "code",
      "source": [
        "conv_calculation"
      ],
      "metadata": {
        "id": "1-CT6ZHhFRHE",
        "colab": {
          "base_uri": "https://localhost:8080/",
          "height": 112
        },
        "outputId": "37b1c35e-86b7-4a9e-feb1-6e9884de725a"
      },
      "execution_count": 28,
      "outputs": [
        {
          "output_type": "execute_result",
          "data": {
            "text/plain": [
              "converted          variant  False  True  conv_percent  total_sample\n",
              "0                  control    153   112     42.264151           265\n",
              "1          personalization     73   237     76.451613           310"
            ],
            "text/html": [
              "\n",
              "  <div id=\"df-d6dade1d-b206-4c7e-8f1a-7ff24394045f\">\n",
              "    <div class=\"colab-df-container\">\n",
              "      <div>\n",
              "<style scoped>\n",
              "    .dataframe tbody tr th:only-of-type {\n",
              "        vertical-align: middle;\n",
              "    }\n",
              "\n",
              "    .dataframe tbody tr th {\n",
              "        vertical-align: top;\n",
              "    }\n",
              "\n",
              "    .dataframe thead th {\n",
              "        text-align: right;\n",
              "    }\n",
              "</style>\n",
              "<table border=\"1\" class=\"dataframe\">\n",
              "  <thead>\n",
              "    <tr style=\"text-align: right;\">\n",
              "      <th>converted</th>\n",
              "      <th>variant</th>\n",
              "      <th>False</th>\n",
              "      <th>True</th>\n",
              "      <th>conv_percent</th>\n",
              "      <th>total_sample</th>\n",
              "    </tr>\n",
              "  </thead>\n",
              "  <tbody>\n",
              "    <tr>\n",
              "      <th>0</th>\n",
              "      <td>control</td>\n",
              "      <td>153</td>\n",
              "      <td>112</td>\n",
              "      <td>42.264151</td>\n",
              "      <td>265</td>\n",
              "    </tr>\n",
              "    <tr>\n",
              "      <th>1</th>\n",
              "      <td>personalization</td>\n",
              "      <td>73</td>\n",
              "      <td>237</td>\n",
              "      <td>76.451613</td>\n",
              "      <td>310</td>\n",
              "    </tr>\n",
              "  </tbody>\n",
              "</table>\n",
              "</div>\n",
              "      <button class=\"colab-df-convert\" onclick=\"convertToInteractive('df-d6dade1d-b206-4c7e-8f1a-7ff24394045f')\"\n",
              "              title=\"Convert this dataframe to an interactive table.\"\n",
              "              style=\"display:none;\">\n",
              "        \n",
              "  <svg xmlns=\"http://www.w3.org/2000/svg\" height=\"24px\"viewBox=\"0 0 24 24\"\n",
              "       width=\"24px\">\n",
              "    <path d=\"M0 0h24v24H0V0z\" fill=\"none\"/>\n",
              "    <path d=\"M18.56 5.44l.94 2.06.94-2.06 2.06-.94-2.06-.94-.94-2.06-.94 2.06-2.06.94zm-11 1L8.5 8.5l.94-2.06 2.06-.94-2.06-.94L8.5 2.5l-.94 2.06-2.06.94zm10 10l.94 2.06.94-2.06 2.06-.94-2.06-.94-.94-2.06-.94 2.06-2.06.94z\"/><path d=\"M17.41 7.96l-1.37-1.37c-.4-.4-.92-.59-1.43-.59-.52 0-1.04.2-1.43.59L10.3 9.45l-7.72 7.72c-.78.78-.78 2.05 0 2.83L4 21.41c.39.39.9.59 1.41.59.51 0 1.02-.2 1.41-.59l7.78-7.78 2.81-2.81c.8-.78.8-2.07 0-2.86zM5.41 20L4 18.59l7.72-7.72 1.47 1.35L5.41 20z\"/>\n",
              "  </svg>\n",
              "      </button>\n",
              "      \n",
              "  <style>\n",
              "    .colab-df-container {\n",
              "      display:flex;\n",
              "      flex-wrap:wrap;\n",
              "      gap: 12px;\n",
              "    }\n",
              "\n",
              "    .colab-df-convert {\n",
              "      background-color: #E8F0FE;\n",
              "      border: none;\n",
              "      border-radius: 50%;\n",
              "      cursor: pointer;\n",
              "      display: none;\n",
              "      fill: #1967D2;\n",
              "      height: 32px;\n",
              "      padding: 0 0 0 0;\n",
              "      width: 32px;\n",
              "    }\n",
              "\n",
              "    .colab-df-convert:hover {\n",
              "      background-color: #E2EBFA;\n",
              "      box-shadow: 0px 1px 2px rgba(60, 64, 67, 0.3), 0px 1px 3px 1px rgba(60, 64, 67, 0.15);\n",
              "      fill: #174EA6;\n",
              "    }\n",
              "\n",
              "    [theme=dark] .colab-df-convert {\n",
              "      background-color: #3B4455;\n",
              "      fill: #D2E3FC;\n",
              "    }\n",
              "\n",
              "    [theme=dark] .colab-df-convert:hover {\n",
              "      background-color: #434B5C;\n",
              "      box-shadow: 0px 1px 3px 1px rgba(0, 0, 0, 0.15);\n",
              "      filter: drop-shadow(0px 1px 2px rgba(0, 0, 0, 0.3));\n",
              "      fill: #FFFFFF;\n",
              "    }\n",
              "  </style>\n",
              "\n",
              "      <script>\n",
              "        const buttonEl =\n",
              "          document.querySelector('#df-d6dade1d-b206-4c7e-8f1a-7ff24394045f button.colab-df-convert');\n",
              "        buttonEl.style.display =\n",
              "          google.colab.kernel.accessAllowed ? 'block' : 'none';\n",
              "\n",
              "        async function convertToInteractive(key) {\n",
              "          const element = document.querySelector('#df-d6dade1d-b206-4c7e-8f1a-7ff24394045f');\n",
              "          const dataTable =\n",
              "            await google.colab.kernel.invokeFunction('convertToInteractive',\n",
              "                                                     [key], {});\n",
              "          if (!dataTable) return;\n",
              "\n",
              "          const docLinkHtml = 'Like what you see? Visit the ' +\n",
              "            '<a target=\"_blank\" href=https://colab.research.google.com/notebooks/data_table.ipynb>data table notebook</a>'\n",
              "            + ' to learn more about interactive tables.';\n",
              "          element.innerHTML = '';\n",
              "          dataTable['output_type'] = 'display_data';\n",
              "          await google.colab.output.renderOutput(dataTable, element);\n",
              "          const docLink = document.createElement('div');\n",
              "          docLink.innerHTML = docLinkHtml;\n",
              "          element.appendChild(docLink);\n",
              "        }\n",
              "      </script>\n",
              "    </div>\n",
              "  </div>\n",
              "  "
            ]
          },
          "metadata": {},
          "execution_count": 28
        }
      ]
    },
    {
      "cell_type": "code",
      "source": [
        "conv_A = conv_calculation[conv_calculation['variant'] == 'control']['conv_percent'].values\n",
        "conv_B = conv_calculation[conv_calculation['variant'] == 'personalization']['conv_percent'].values"
      ],
      "metadata": {
        "id": "5ZyPSvF8Fa8j"
      },
      "execution_count": 29,
      "outputs": []
    },
    {
      "cell_type": "code",
      "source": [
        "print((conv_B - conv_A)*100/conv_A)"
      ],
      "metadata": {
        "id": "7TtAMbbdFemU",
        "colab": {
          "base_uri": "https://localhost:8080/"
        },
        "outputId": "88e47966-ed9a-4619-a941-248143818d19"
      },
      "execution_count": 30,
      "outputs": [
        {
          "output_type": "stream",
          "name": "stdout",
          "text": [
            "[80.88997696]\n"
          ]
        }
      ]
    },
    {
      "cell_type": "markdown",
      "source": [
        "**From the descriptive value above that there are 80% uplift of B compared to A**"
      ],
      "metadata": {
        "id": "CGBhnrPiF3JC"
      }
    },
    {
      "cell_type": "markdown",
      "source": [
        "##Chi Square Test"
      ],
      "metadata": {
        "id": "C9hz-_jKGAGc"
      }
    },
    {
      "cell_type": "code",
      "source": [
        "# find number of succession\n",
        "success = conv_calculation[['total_sample', True]].values[:,1]\n",
        "# find number of all observations\n",
        "obs = conv_calculation[['total_sample', True]].values[:,0]"
      ],
      "metadata": {
        "id": "v6DryQ-bFmsk"
      },
      "execution_count": 31,
      "outputs": []
    },
    {
      "cell_type": "code",
      "source": [
        "result = proportions_chisquare(success, obs)"
      ],
      "metadata": {
        "id": "VEeFLEemGHX9"
      },
      "execution_count": 32,
      "outputs": []
    },
    {
      "cell_type": "code",
      "source": [
        "# Calculate chi squared result\n",
        "print('X-squared: %.3f' % result[0])\n",
        "print('p-value: %.3f' % result[1])"
      ],
      "metadata": {
        "id": "NSuVvxUwGIX5",
        "colab": {
          "base_uri": "https://localhost:8080/"
        },
        "outputId": "03d306e6-f210-4503-a00d-3a35244510eb"
      },
      "execution_count": 33,
      "outputs": [
        {
          "output_type": "stream",
          "name": "stdout",
          "text": [
            "X-squared: 69.996\n",
            "p-value: 0.000\n"
          ]
        }
      ]
    },
    {
      "cell_type": "markdown",
      "source": [
        "**Interpretation**\n",
        "\n",
        "- Variant control has 112 conversions compared to variant personalization which has 237 conversions\n",
        "- Relative uplift of variant personalization (76.5% conversion rate) from variant control (42.3% conversion rate) around 80.9%\n",
        "- p-value computed is 0.000 < 0.05, hence there is strong statistical significance in test results. It means that treatment had an impact on conversion rate. Then, we should reject null hypothesis and create personalization ads for all users\n"
      ],
      "metadata": {
        "id": "hC9rejrVGNft"
      }
    },
    {
      "cell_type": "markdown",
      "source": [
        "#Linear Models"
      ],
      "metadata": {
        "id": "_39H1pytJYd9"
      }
    },
    {
      "cell_type": "code",
      "source": [
        "# select variant and converted columns\n",
        "data_for_model = raw_data[['variant', 'converted']].copy()\n",
        "# create dummy variables and remove first category ('variant_control')\n",
        "data_for_model = pd.get_dummies(data_for_model, drop_first = True)\n",
        "# add constant\n",
        "data_for_model = sm.add_constant(data_for_model)"
      ],
      "metadata": {
        "id": "Kwewvg4wJaky",
        "colab": {
          "base_uri": "https://localhost:8080/"
        },
        "outputId": "498a0947-4514-422a-a552-5218ac4f92b9"
      },
      "execution_count": 34,
      "outputs": [
        {
          "output_type": "stream",
          "name": "stderr",
          "text": [
            "/usr/local/lib/python3.7/dist-packages/statsmodels/tsa/tsatools.py:117: FutureWarning: In a future version of pandas all arguments of concat except for the argument 'objs' will be keyword-only\n",
            "  x = pd.concat(x[::order], 1)\n"
          ]
        }
      ]
    },
    {
      "cell_type": "code",
      "source": [
        "# check the first 5 rows\n",
        "data_for_model.head()"
      ],
      "metadata": {
        "id": "5voZZ9TNJtk6",
        "colab": {
          "base_uri": "https://localhost:8080/",
          "height": 206
        },
        "outputId": "c49edc1e-7bef-4a50-e58c-990dcc1bdc32"
      },
      "execution_count": 35,
      "outputs": [
        {
          "output_type": "execute_result",
          "data": {
            "text/plain": [
              "   const  converted  variant_personalization\n",
              "0    1.0       True                        1\n",
              "1    1.0       True                        1\n",
              "2    1.0       True                        1\n",
              "3    1.0       True                        1\n",
              "4    1.0       True                        1"
            ],
            "text/html": [
              "\n",
              "  <div id=\"df-4878eef3-bc09-4c30-83e2-152e0fb06599\">\n",
              "    <div class=\"colab-df-container\">\n",
              "      <div>\n",
              "<style scoped>\n",
              "    .dataframe tbody tr th:only-of-type {\n",
              "        vertical-align: middle;\n",
              "    }\n",
              "\n",
              "    .dataframe tbody tr th {\n",
              "        vertical-align: top;\n",
              "    }\n",
              "\n",
              "    .dataframe thead th {\n",
              "        text-align: right;\n",
              "    }\n",
              "</style>\n",
              "<table border=\"1\" class=\"dataframe\">\n",
              "  <thead>\n",
              "    <tr style=\"text-align: right;\">\n",
              "      <th></th>\n",
              "      <th>const</th>\n",
              "      <th>converted</th>\n",
              "      <th>variant_personalization</th>\n",
              "    </tr>\n",
              "  </thead>\n",
              "  <tbody>\n",
              "    <tr>\n",
              "      <th>0</th>\n",
              "      <td>1.0</td>\n",
              "      <td>True</td>\n",
              "      <td>1</td>\n",
              "    </tr>\n",
              "    <tr>\n",
              "      <th>1</th>\n",
              "      <td>1.0</td>\n",
              "      <td>True</td>\n",
              "      <td>1</td>\n",
              "    </tr>\n",
              "    <tr>\n",
              "      <th>2</th>\n",
              "      <td>1.0</td>\n",
              "      <td>True</td>\n",
              "      <td>1</td>\n",
              "    </tr>\n",
              "    <tr>\n",
              "      <th>3</th>\n",
              "      <td>1.0</td>\n",
              "      <td>True</td>\n",
              "      <td>1</td>\n",
              "    </tr>\n",
              "    <tr>\n",
              "      <th>4</th>\n",
              "      <td>1.0</td>\n",
              "      <td>True</td>\n",
              "      <td>1</td>\n",
              "    </tr>\n",
              "  </tbody>\n",
              "</table>\n",
              "</div>\n",
              "      <button class=\"colab-df-convert\" onclick=\"convertToInteractive('df-4878eef3-bc09-4c30-83e2-152e0fb06599')\"\n",
              "              title=\"Convert this dataframe to an interactive table.\"\n",
              "              style=\"display:none;\">\n",
              "        \n",
              "  <svg xmlns=\"http://www.w3.org/2000/svg\" height=\"24px\"viewBox=\"0 0 24 24\"\n",
              "       width=\"24px\">\n",
              "    <path d=\"M0 0h24v24H0V0z\" fill=\"none\"/>\n",
              "    <path d=\"M18.56 5.44l.94 2.06.94-2.06 2.06-.94-2.06-.94-.94-2.06-.94 2.06-2.06.94zm-11 1L8.5 8.5l.94-2.06 2.06-.94-2.06-.94L8.5 2.5l-.94 2.06-2.06.94zm10 10l.94 2.06.94-2.06 2.06-.94-2.06-.94-.94-2.06-.94 2.06-2.06.94z\"/><path d=\"M17.41 7.96l-1.37-1.37c-.4-.4-.92-.59-1.43-.59-.52 0-1.04.2-1.43.59L10.3 9.45l-7.72 7.72c-.78.78-.78 2.05 0 2.83L4 21.41c.39.39.9.59 1.41.59.51 0 1.02-.2 1.41-.59l7.78-7.78 2.81-2.81c.8-.78.8-2.07 0-2.86zM5.41 20L4 18.59l7.72-7.72 1.47 1.35L5.41 20z\"/>\n",
              "  </svg>\n",
              "      </button>\n",
              "      \n",
              "  <style>\n",
              "    .colab-df-container {\n",
              "      display:flex;\n",
              "      flex-wrap:wrap;\n",
              "      gap: 12px;\n",
              "    }\n",
              "\n",
              "    .colab-df-convert {\n",
              "      background-color: #E8F0FE;\n",
              "      border: none;\n",
              "      border-radius: 50%;\n",
              "      cursor: pointer;\n",
              "      display: none;\n",
              "      fill: #1967D2;\n",
              "      height: 32px;\n",
              "      padding: 0 0 0 0;\n",
              "      width: 32px;\n",
              "    }\n",
              "\n",
              "    .colab-df-convert:hover {\n",
              "      background-color: #E2EBFA;\n",
              "      box-shadow: 0px 1px 2px rgba(60, 64, 67, 0.3), 0px 1px 3px 1px rgba(60, 64, 67, 0.15);\n",
              "      fill: #174EA6;\n",
              "    }\n",
              "\n",
              "    [theme=dark] .colab-df-convert {\n",
              "      background-color: #3B4455;\n",
              "      fill: #D2E3FC;\n",
              "    }\n",
              "\n",
              "    [theme=dark] .colab-df-convert:hover {\n",
              "      background-color: #434B5C;\n",
              "      box-shadow: 0px 1px 3px 1px rgba(0, 0, 0, 0.15);\n",
              "      filter: drop-shadow(0px 1px 2px rgba(0, 0, 0, 0.3));\n",
              "      fill: #FFFFFF;\n",
              "    }\n",
              "  </style>\n",
              "\n",
              "      <script>\n",
              "        const buttonEl =\n",
              "          document.querySelector('#df-4878eef3-bc09-4c30-83e2-152e0fb06599 button.colab-df-convert');\n",
              "        buttonEl.style.display =\n",
              "          google.colab.kernel.accessAllowed ? 'block' : 'none';\n",
              "\n",
              "        async function convertToInteractive(key) {\n",
              "          const element = document.querySelector('#df-4878eef3-bc09-4c30-83e2-152e0fb06599');\n",
              "          const dataTable =\n",
              "            await google.colab.kernel.invokeFunction('convertToInteractive',\n",
              "                                                     [key], {});\n",
              "          if (!dataTable) return;\n",
              "\n",
              "          const docLinkHtml = 'Like what you see? Visit the ' +\n",
              "            '<a target=\"_blank\" href=https://colab.research.google.com/notebooks/data_table.ipynb>data table notebook</a>'\n",
              "            + ' to learn more about interactive tables.';\n",
              "          element.innerHTML = '';\n",
              "          dataTable['output_type'] = 'display_data';\n",
              "          await google.colab.output.renderOutput(dataTable, element);\n",
              "          const docLink = document.createElement('div');\n",
              "          docLink.innerHTML = docLinkHtml;\n",
              "          element.appendChild(docLink);\n",
              "        }\n",
              "      </script>\n",
              "    </div>\n",
              "  </div>\n",
              "  "
            ]
          },
          "metadata": {},
          "execution_count": 35
        }
      ]
    },
    {
      "cell_type": "code",
      "source": [
        "# define and fit logistic regression model\n",
        "log_reg = sm.Logit(data_for_model['converted'], data_for_model[['variant_personalization','const']]).fit()"
      ],
      "metadata": {
        "id": "_SJazMzoJw82",
        "colab": {
          "base_uri": "https://localhost:8080/"
        },
        "outputId": "47096fce-0d51-4f7a-d1e6-bda1270b5b2b"
      },
      "execution_count": 36,
      "outputs": [
        {
          "output_type": "stream",
          "name": "stdout",
          "text": [
            "Optimization terminated successfully.\n",
            "         Current function value: 0.608179\n",
            "         Iterations 5\n"
          ]
        }
      ]
    },
    {
      "cell_type": "code",
      "source": [
        "# check model summary\n",
        "log_reg.summary()"
      ],
      "metadata": {
        "id": "53Vwd88KJ4hz",
        "colab": {
          "base_uri": "https://localhost:8080/",
          "height": 252
        },
        "outputId": "0f77bbcf-151f-4fd4-f8f2-163d2b49a669"
      },
      "execution_count": 37,
      "outputs": [
        {
          "output_type": "execute_result",
          "data": {
            "text/plain": [
              "<class 'statsmodels.iolib.summary.Summary'>\n",
              "\"\"\"\n",
              "                           Logit Regression Results                           \n",
              "==============================================================================\n",
              "Dep. Variable:              converted   No. Observations:                  575\n",
              "Model:                          Logit   Df Residuals:                      573\n",
              "Method:                           MLE   Df Model:                            1\n",
              "Date:                Mon, 08 Aug 2022   Pseudo R-squ.:                 0.09239\n",
              "Time:                        10:02:43   Log-Likelihood:                -349.70\n",
              "converged:                       True   LL-Null:                       -385.30\n",
              "Covariance Type:            nonrobust   LLR p-value:                 3.232e-17\n",
              "===========================================================================================\n",
              "                              coef    std err          z      P>|z|      [0.025      0.975]\n",
              "-------------------------------------------------------------------------------------------\n",
              "variant_personalization     1.4895      0.183      8.153      0.000       1.131       1.848\n",
              "const                      -0.3119      0.124     -2.508      0.012      -0.556      -0.068\n",
              "===========================================================================================\n",
              "\"\"\""
            ],
            "text/html": [
              "<table class=\"simpletable\">\n",
              "<caption>Logit Regression Results</caption>\n",
              "<tr>\n",
              "  <th>Dep. Variable:</th>       <td>converted</td>    <th>  No. Observations:  </th>  <td>   575</td>  \n",
              "</tr>\n",
              "<tr>\n",
              "  <th>Model:</th>                 <td>Logit</td>      <th>  Df Residuals:      </th>  <td>   573</td>  \n",
              "</tr>\n",
              "<tr>\n",
              "  <th>Method:</th>                 <td>MLE</td>       <th>  Df Model:          </th>  <td>     1</td>  \n",
              "</tr>\n",
              "<tr>\n",
              "  <th>Date:</th>            <td>Mon, 08 Aug 2022</td> <th>  Pseudo R-squ.:     </th>  <td>0.09239</td> \n",
              "</tr>\n",
              "<tr>\n",
              "  <th>Time:</th>                <td>10:02:43</td>     <th>  Log-Likelihood:    </th> <td> -349.70</td> \n",
              "</tr>\n",
              "<tr>\n",
              "  <th>converged:</th>             <td>True</td>       <th>  LL-Null:           </th> <td> -385.30</td> \n",
              "</tr>\n",
              "<tr>\n",
              "  <th>Covariance Type:</th>     <td>nonrobust</td>    <th>  LLR p-value:       </th> <td>3.232e-17</td>\n",
              "</tr>\n",
              "</table>\n",
              "<table class=\"simpletable\">\n",
              "<tr>\n",
              "             <td></td>                <th>coef</th>     <th>std err</th>      <th>z</th>      <th>P>|z|</th>  <th>[0.025</th>    <th>0.975]</th>  \n",
              "</tr>\n",
              "<tr>\n",
              "  <th>variant_personalization</th> <td>    1.4895</td> <td>    0.183</td> <td>    8.153</td> <td> 0.000</td> <td>    1.131</td> <td>    1.848</td>\n",
              "</tr>\n",
              "<tr>\n",
              "  <th>const</th>                   <td>   -0.3119</td> <td>    0.124</td> <td>   -2.508</td> <td> 0.012</td> <td>   -0.556</td> <td>   -0.068</td>\n",
              "</tr>\n",
              "</table>"
            ]
          },
          "metadata": {},
          "execution_count": 37
        }
      ]
    },
    {
      "cell_type": "markdown",
      "source": [
        "**Interpretation**\n",
        "\n",
        "- We don't have to see the Pseudo R-squ because we only focus on the effect of treatment by looking at the P-value\n",
        "- We can observe uplift of variant B around 148%\n",
        "- Based on p-value = 0.000 < alpha = 0.05, hence there is strong statistical significance in test results. It means the treatment ads which is personalization had a positive impact on conversion rate. Then, we should reject null hypothesis and create personalization ads for all users.\n"
      ],
      "metadata": {
        "id": "vNu1gpMEJ9rp"
      }
    },
    {
      "cell_type": "markdown",
      "source": [
        "#Recommendations\n",
        "\n",
        "\n",
        "---\n",
        "\n",
        "\n",
        "\n",
        "1.   Create more personalization ads for customers especially social media and email marketing channel which aim age group 0-30 years that also has high conversion rate after age 55+ years.\n",
        "2.   Increase service in order to prevent customers churn, because data tells us that all customers churn in just a few months.\n",
        "\n"
      ],
      "metadata": {
        "id": "hiCP9bWOL-Z9"
      }
    }
  ]
}