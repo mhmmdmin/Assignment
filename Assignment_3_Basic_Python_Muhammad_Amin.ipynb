{
  "nbformat": 4,
  "nbformat_minor": 0,
  "metadata": {
    "colab": {
      "name": "Assignment 3 - Basic Python - Muhammad Amin.ipynb",
      "provenance": [],
      "authorship_tag": "ABX9TyMPOl+4xKY+6ucs+pzlJbGd",
      "include_colab_link": true
    },
    "kernelspec": {
      "name": "python3",
      "display_name": "Python 3"
    },
    "language_info": {
      "name": "python"
    }
  },
  "cells": [
    {
      "cell_type": "markdown",
      "metadata": {
        "id": "view-in-github",
        "colab_type": "text"
      },
      "source": [
        "<a href=\"https://colab.research.google.com/github/mhmmdmin/Assignment/blob/main/Assignment_3_Basic_Python_Muhammad_Amin.ipynb\" target=\"_parent\"><img src=\"https://colab.research.google.com/assets/colab-badge.svg\" alt=\"Open In Colab\"/></a>"
      ]
    },
    {
      "cell_type": "markdown",
      "source": [
        ""
      ],
      "metadata": {
        "id": "M_f8EMMKKG8z"
      }
    },
    {
      "cell_type": "markdown",
      "source": [
        "##Assignment Day 3 & 4\n",
        "\n",
        "---\n",
        "\n",
        "#Basic Python"
      ],
      "metadata": {
        "id": "ltP5fC1KKIyk"
      }
    },
    {
      "cell_type": "markdown",
      "source": [
        "###Tugas No.1 \n",
        "\n",
        "Menginput nama."
      ],
      "metadata": {
        "id": "Gkas4GpiGgfX"
      }
    },
    {
      "cell_type": "code",
      "source": [
        "input_name = input('What is your name: ')\n",
        "print(\"Hi, \" + input_name + \". Welcome to basic python!!\")"
      ],
      "metadata": {
        "id": "K2mQKfE4KRi-"
      },
      "execution_count": null,
      "outputs": []
    },
    {
      "cell_type": "markdown",
      "source": [
        "###Tugas No. 2\n",
        "\n",
        "Menghitung luas area dalam meter persegi dan hektar."
      ],
      "metadata": {
        "id": "1JJJjmf_Gj8_"
      }
    },
    {
      "cell_type": "code",
      "source": [
        "panjang = float(input('Panjang dalam meter: '))\n",
        "lebar = float(input('Lebar dalam meter: '))\n",
        "luas = panjang * lebar\n",
        "luas_ha = luas * 0.0001\n",
        "print(\"Luas area tersebut adalah: %.2f\" %luas + \" m2\")\n",
        "print(\"Luas area tersebut adalah: %.4f\" %luas_ha + \"ha\")"
      ],
      "metadata": {
        "id": "Tv-Xk5fuLxwg"
      },
      "execution_count": null,
      "outputs": []
    },
    {
      "cell_type": "markdown",
      "source": [
        "###Tugas No. 3\n",
        "\n",
        "Program untuk menjumlahkan angka dari 1 sampai angka yang diinput oleh user."
      ],
      "metadata": {
        "id": "KiNQresYGxmi"
      }
    },
    {
      "cell_type": "code",
      "source": [
        "n = int(input(\"Masukkan angka :\"))\n",
        "sum = 0\n",
        "for num in range(1, n+1, 1):\n",
        "  sum = sum + num\n",
        "print(\"Jumlah penambahan angka dari 1 sampai\", n , \"adalah:\", sum)\n"
      ],
      "metadata": {
        "id": "pkiXKBu-Ag5y"
      },
      "execution_count": null,
      "outputs": []
    },
    {
      "cell_type": "markdown",
      "source": [
        "###Tugas No. 4\n",
        "\n",
        "Menghitung Luas segitiga dengan rumus 1/2(alas x tinggi)"
      ],
      "metadata": {
        "id": "KYcyjYf8Hoty"
      }
    },
    {
      "cell_type": "code",
      "source": [
        "a = float(input(\"Alas: \"))\n",
        "t = float(input(\"Tinggi: \"))\n",
        "luas = 0.5 * (a * t)\n",
        "print(\"Luas segitiga adalah: %.2f\" %luas)"
      ],
      "metadata": {
        "id": "bmT2ZQi8FMlb"
      },
      "execution_count": null,
      "outputs": []
    },
    {
      "cell_type": "markdown",
      "source": [
        "Menghitung Luas segitiga dengan rumus Heron"
      ],
      "metadata": {
        "id": "YJ6D85dKI8K7"
      }
    },
    {
      "cell_type": "code",
      "source": [
        "a = float(input(\"Sisi A: \"))\n",
        "b = float(input(\"Sisi B: \"))\n",
        "c = float(input(\"Sisi C: \"))\n",
        "\n",
        "# menghitung setengah keliling\n",
        "s = (a + b + c) / 2\n",
        "\n",
        "# menghitung luas menggunakan rumus Heron\n",
        "luas = (s*(s-a)*(s-b)*(s-c)) ** 0.5\n",
        "print(\"Luas segitiga adalah: %.2f\" %luas)"
      ],
      "metadata": {
        "id": "KiaxKxWlI_fO"
      },
      "execution_count": null,
      "outputs": []
    },
    {
      "cell_type": "markdown",
      "source": [
        "###Tugas No. 5\n",
        "\n",
        "Membuat program untuk memberikan informasi mengenai skala gempa."
      ],
      "metadata": {
        "id": "9KAonQMcLB4T"
      }
    },
    {
      "cell_type": "code",
      "source": [
        "gempa = float(input(\"Please input the earthquake magnitude: \"))\n",
        "\n",
        "if gempa <= 3.9:\n",
        "  print(\"Minor\")\n",
        "elif 3.9 > gempa or gempa <= 4.9:\n",
        "  print(\"Light\")\n",
        "elif 4.9 > gempa or gempa <= 5.9:\n",
        "  print(\"Moderate\")\n",
        "elif 5.9 > gempa or gempa <= 6.9:\n",
        "  print(\"Strong\")\n",
        "elif 6.9 > gempa or gempa <= 7.9:\n",
        "  print(\"Major\")\n",
        "elif 7.9 > gempa or gempa <= 9.9:\n",
        "  print(\"Great\")\n",
        "else:\n",
        "  print(\"Massive\")"
      ],
      "metadata": {
        "id": "IQZLT-6DLLcK"
      },
      "execution_count": null,
      "outputs": []
    },
    {
      "cell_type": "markdown",
      "source": [
        "#Advanced Python\n",
        "\n",
        "---\n",
        "\n",
        "Tugas No. 1"
      ],
      "metadata": {
        "id": "1EO59MKHQ-j_"
      }
    },
    {
      "cell_type": "code",
      "source": [
        "import pandas as pd\n",
        "import numpy as np\n",
        "import matplotlib.pyplot as plt\n",
        "\n",
        "\n",
        "file = 'https://raw.githubusercontent.com/hadimaster65555/dataset_for_teaching/main/dataset/linear_regression_simulation_data/linear-regression.csv'\n",
        "df = pd.read_csv(file)\n",
        "\n",
        "xx = df.iloc[:,0]\n",
        "yy = df.iloc[:,1]\n",
        "\n",
        "plt.scatter(xx , yy, label = 'random data')\n",
        "plt.legend()\n",
        "plt.show()"
      ],
      "metadata": {
        "id": "U4zY7xv1RLki",
        "colab": {
          "base_uri": "https://localhost:8080/",
          "height": 265
        },
        "outputId": "769cf204-70aa-48c9-84e9-24953c6049fd"
      },
      "execution_count": 14,
      "outputs": [
        {
          "output_type": "display_data",
          "data": {
            "text/plain": [
              "<Figure size 432x288 with 1 Axes>"
            ],
            "image/png": "[encoded data removed]"
          },
          "metadata": {
            "needs_background": "light"
          }
        }
      ]
    },
    {
      "cell_type": "markdown",
      "source": [
        "Tugas No. 3\n"
      ],
      "metadata": {
        "id": "JCgKhbNRWUJX"
      }
    },
    {
      "cell_type": "code",
      "source": [
        "x = np.array(xx)\n",
        "y = np.array(yy)\n",
        "\n",
        "A = np.vstack([x, np.ones(len(x))]).T\n",
        "A\n",
        "\n",
        "m, b = np.linalg.lstsq(A, y, rcond=None)[0]\n",
        "m, b\n",
        "\n",
        "plt.scatter(xx, yy, label = \"data\")\n",
        "plt.plot(x, m*x+b, label = \"fitted line\", color = \"red\")\n",
        "plt.legend()\n",
        "plt.show\n",
        "\n"
      ],
      "metadata": {
        "id": "3eyyfIFpd9Dy",
        "colab": {
          "base_uri": "https://localhost:8080/",
          "height": 282
        },
        "outputId": "0dcaec4b-b1ea-4d3d-aad1-c6cc926bee8a"
      },
      "execution_count": 27,
      "outputs": [
        {
          "output_type": "execute_result",
          "data": {
            "text/plain": [
              "<function matplotlib.pyplot.show>"
            ]
          },
          "metadata": {},
          "execution_count": 27
        },
        {
          "output_type": "display_data",
          "data": {
            "text/plain": [
              "<Figure size 432x288 with 1 Axes>"
            ],
            "image/png": "[encoded data removed]"
          },
          "metadata": {
            "needs_background": "light"
          }
        }
      ]
    }
  ]
}