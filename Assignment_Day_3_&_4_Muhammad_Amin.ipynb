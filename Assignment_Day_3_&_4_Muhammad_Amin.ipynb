{
  "nbformat": 4,
  "nbformat_minor": 0,
  "metadata": {
    "colab": {
      "name": "Assignment Day 3 & 4 - Muhammad Amin.ipynb",
      "provenance": [],
      "authorship_tag": "ABX9TyP9hom9lVGakWK7ur/p/dRv",
      "include_colab_link": true
    },
    "kernelspec": {
      "name": "python3",
      "display_name": "Python 3"
    },
    "language_info": {
      "name": "python"
    }
  },
  "cells": [
    {
      "cell_type": "markdown",
      "metadata": {
        "id": "view-in-github",
        "colab_type": "text"
      },
      "source": [
        "<a href=\"https://colab.research.google.com/github/mhmmdmin/Assignment/blob/main/Assignment_Day_3_%26_4_Muhammad_Amin.ipynb\" target=\"_parent\"><img src=\"https://colab.research.google.com/assets/colab-badge.svg\" alt=\"Open In Colab\"/></a>"
      ]
    },
    {
      "cell_type": "markdown",
      "source": [
        ""
      ],
      "metadata": {
        "id": "M_f8EMMKKG8z"
      }
    },
    {
      "cell_type": "markdown",
      "source": [
        "##Assignment Day 3 & 4\n",
        "\n",
        "---\n",
        "\n",
        "#Basic Python"
      ],
      "metadata": {
        "id": "ltP5fC1KKIyk"
      }
    },
    {
      "cell_type": "markdown",
      "source": [
        "###Tugas No.1 \n",
        "\n",
        "Menginput nama."
      ],
      "metadata": {
        "id": "Gkas4GpiGgfX"
      }
    },
    {
      "cell_type": "code",
      "source": [
        "input_name = input('What is your name: ')\n",
        "print(\"Hi, \" + input_name + \". Welcome to basic python!!\")"
      ],
      "metadata": {
        "id": "K2mQKfE4KRi-"
      },
      "execution_count": null,
      "outputs": []
    },
    {
      "cell_type": "markdown",
      "source": [
        "###Tugas No. 2\n",
        "\n",
        "Menghitung luas area dalam meter persegi dan hektar."
      ],
      "metadata": {
        "id": "1JJJjmf_Gj8_"
      }
    },
    {
      "cell_type": "code",
      "source": [
        "panjang = float(input('Panjang dalam meter: '))\n",
        "lebar = float(input('Lebar dalam meter: '))\n",
        "luas = panjang * lebar\n",
        "luas_ha = luas * 0.0001\n",
        "print(\"Luas area tersebut adalah: %.2f\" %luas + \" m2\")\n",
        "print(\"Luas area tersebut adalah: %.4f\" %luas_ha + \"ha\")"
      ],
      "metadata": {
        "id": "Tv-Xk5fuLxwg"
      },
      "execution_count": null,
      "outputs": []
    },
    {
      "cell_type": "markdown",
      "source": [
        "###Tugas No. 3\n",
        "\n",
        "Program untuk menjumlahkan angka dari 1 sampai angka yang diinput oleh user."
      ],
      "metadata": {
        "id": "KiNQresYGxmi"
      }
    },
    {
      "cell_type": "code",
      "source": [
        "n = int(input(\"Masukkan angka :\"))\n",
        "sum = 0\n",
        "for num in range(1, n+1, 1):\n",
        "  sum = sum + num\n",
        "print(\"Jumlah penambahan angka dari 1 sampai\", n , \"adalah:\", sum)\n"
      ],
      "metadata": {
        "id": "pkiXKBu-Ag5y"
      },
      "execution_count": null,
      "outputs": []
    },
    {
      "cell_type": "markdown",
      "source": [
        "###Tugas No. 4\n",
        "\n",
        "Menghitung Luas segitiga dengan rumus 1/2(alas x tinggi)"
      ],
      "metadata": {
        "id": "KYcyjYf8Hoty"
      }
    },
    {
      "cell_type": "code",
      "source": [
        "a = float(input(\"Alas: \"))\n",
        "t = float(input(\"Tinggi: \"))\n",
        "luas = 0.5 * (a * t)\n",
        "print(\"Luas segitiga adalah: %.2f\" %luas)"
      ],
      "metadata": {
        "id": "bmT2ZQi8FMlb"
      },
      "execution_count": null,
      "outputs": []
    },
    {
      "cell_type": "markdown",
      "source": [
        "Menghitung Luas segitiga dengan rumus Heron"
      ],
      "metadata": {
        "id": "YJ6D85dKI8K7"
      }
    },
    {
      "cell_type": "code",
      "source": [
        "a = float(input(\"Sisi A: \"))\n",
        "b = float(input(\"Sisi B: \"))\n",
        "c = float(input(\"Sisi C: \"))\n",
        "\n",
        "# menghitung setengah keliling\n",
        "s = (a + b + c) / 2\n",
        "\n",
        "# menghitung luas menggunakan rumus Heron\n",
        "luas = (s*(s-a)*(s-b)*(s-c)) ** 0.5\n",
        "print(\"Luas segitiga adalah: %.2f\" %luas)"
      ],
      "metadata": {
        "id": "KiaxKxWlI_fO"
      },
      "execution_count": null,
      "outputs": []
    },
    {
      "cell_type": "markdown",
      "source": [
        "###Tugas No. 5\n",
        "\n",
        "Membuat program untuk memberikan informasi mengenai skala gempa."
      ],
      "metadata": {
        "id": "9KAonQMcLB4T"
      }
    },
    {
      "cell_type": "code",
      "source": [
        "gempa = float(input(\"Please input the earthquake magnitude: \"))\n",
        "\n",
        "if gempa <= 3.9:\n",
        "  print(\"Minor\")\n",
        "elif 3.9 > gempa or gempa <= 4.9:\n",
        "  print(\"Light\")\n",
        "elif 4.9 > gempa or gempa <= 5.9:\n",
        "  print(\"Moderate\")\n",
        "elif 5.9 > gempa or gempa <= 6.9:\n",
        "  print(\"Strong\")\n",
        "elif 6.9 > gempa or gempa <= 7.9:\n",
        "  print(\"Major\")\n",
        "elif 7.9 > gempa or gempa <= 9.9:\n",
        "  print(\"Great\")\n",
        "else:\n",
        "  print(\"Massive\")"
      ],
      "metadata": {
        "id": "IQZLT-6DLLcK"
      },
      "execution_count": null,
      "outputs": []
    },
    {
      "cell_type": "markdown",
      "source": [
        "#Advanced Python\n",
        "\n",
        "---\n",
        "\n",
        "Tugas No. 1"
      ],
      "metadata": {
        "id": "1EO59MKHQ-j_"
      }
    },
    {
      "cell_type": "code",
      "source": [
        "import pandas as pd\n",
        "import numpy as np\n",
        "import matplotlib.pyplot as plt\n",
        "\n",
        "\n",
        "file = 'https://raw.githubusercontent.com/hadimaster65555/dataset_for_teaching/main/dataset/linear_regression_simulation_data/linear-regression.csv'\n",
        "df = pd.read_csv(file)\n",
        "\n",
        "x = df.iloc[:,0]\n",
        "y = df.iloc[:,1]\n",
        "\n",
        "plt.scatter(x , y, label = 'random data')\n",
        "plt.legend()\n",
        "plt.show()"
      ],
      "metadata": {
        "id": "U4zY7xv1RLki",
        "colab": {
          "base_uri": "https://localhost:8080/",
          "height": 265
        },
        "outputId": "55df3c81-2ebc-4be4-e6ef-4fc02e2022d5"
      },
      "execution_count": 15,
      "outputs": [
        {
          "output_type": "display_data",
          "data": {
            "text/plain": [
              "<Figure size 432x288 with 1 Axes>"
            ],
            "image/png": "[encoded data removed]"
          },
          "metadata": {
            "needs_background": "light"
          }
        }
      ]
    },
    {
      "cell_type": "markdown",
      "source": [
        "Tugas No. 2 "
      ],
      "metadata": {
        "id": "JCgKhbNRWUJX"
      }
    },
    {
      "cell_type": "code",
      "source": [
        "import pandas as pd\n",
        "import numpy as np\n",
        "import matplotlib.pyplot as plt\n",
        "\n",
        "file = 'https://raw.githubusercontent.com/hadimaster65555/dataset_for_teaching/main/dataset/linear_regression_simulation_data/linear-regression.csv'\n",
        "df = pd.read_csv(file)\n",
        "\n"
      ],
      "metadata": {
        "colab": {
          "base_uri": "https://localhost:8080/"
        },
        "id": "L3mL62_oUwdq",
        "outputId": "7a6ba2f2-ecfd-4bef-ad2c-4b76af070445"
      },
      "execution_count": 29,
      "outputs": [
        {
          "output_type": "stream",
          "name": "stdout",
          "text": [
            "    0.58705   5.79555\n",
            "0  -0.15098   3.53372\n",
            "1  -0.24805   3.22805\n",
            "2  -0.36056   2.87947\n",
            "3   0.09375   4.40297\n",
            "4  -0.25847   3.22351\n",
            "..      ...       ...\n",
            "94  0.57697   5.62490\n",
            "95  0.54242   5.50030\n",
            "96 -0.02820   3.96986\n",
            "97 -0.52083   2.46482\n",
            "98 -0.63998   2.24709\n",
            "\n",
            "[99 rows x 2 columns]\n"
          ]
        }
      ]
    },
    {
      "cell_type": "code",
      "source": [
        ""
      ],
      "metadata": {
        "id": "3eyyfIFpd9Dy"
      },
      "execution_count": null,
      "outputs": []
    }
  ]
}