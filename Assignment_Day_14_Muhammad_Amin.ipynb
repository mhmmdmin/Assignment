{
  "nbformat": 4,
  "nbformat_minor": 0,
  "metadata": {
    "colab": {
      "name": "Assignment Day 14 - Muhammad Amin.ipynb",
      "provenance": [],
      "toc_visible": true,
      "authorship_tag": "ABX9TyM9+OpdZ9IQQ+JT2AqL5zZw",
      "include_colab_link": true
    },
    "kernelspec": {
      "name": "python3",
      "display_name": "Python 3"
    },
    "language_info": {
      "name": "python"
    }
  },
  "cells": [
    {
      "cell_type": "markdown",
      "metadata": {
        "id": "view-in-github",
        "colab_type": "text"
      },
      "source": [
        "<a href=\"https://colab.research.google.com/github/mhmmdmin/Assignment/blob/main/Assignment_Day_14_Muhammad_Amin.ipynb\" target=\"_parent\"><img src=\"https://colab.research.google.com/assets/colab-badge.svg\" alt=\"Open In Colab\"/></a>"
      ]
    },
    {
      "cell_type": "markdown",
      "source": [
        "#Basic Assignment"
      ],
      "metadata": {
        "id": "v17sztndWo6U"
      }
    },
    {
      "cell_type": "markdown",
      "source": [
        "##Question 1"
      ],
      "metadata": {
        "id": "OIQHcG0gWyb6"
      }
    },
    {
      "cell_type": "markdown",
      "source": [
        "Jelaskan mengapa proses matching perlu dilakukan ketika ingin mengukur dampak dari suatu treatment pada propensity score modeling?\n",
        "\n",
        "\n",
        "Answer:\n",
        "Rubin and Thomas (1992b) and Rubin and Thomas (1996), kenapa proses matching perlu dilakukan adalah untuk mendapatkan perkiraan analitik untuk mengurangi bias dari outcome yang dapat diperoleh ketika melakukan matching terhadap diskriminan yang sebenarnya atau yang diperkirakan dengan kovariat yang terdistribusi normal.\n",
        "\n",
        "---\n",
        "Rubin DB, Thomas N. Characterizing the effect of matching using linear propensity score methods with normal distributions. Biometrika. 1992b;79:797–809.\n",
        "\n",
        "Rubin DB, Thomas N. Matching using estimated propensity scores, relating theory to practice. Biometrics. 1996;52:249–264."
      ],
      "metadata": {
        "id": "PTcnNOm3W7Hh"
      }
    },
    {
      "cell_type": "markdown",
      "source": [
        "## Question 2"
      ],
      "metadata": {
        "id": "C5dVptOERbFa"
      }
    },
    {
      "cell_type": "markdown",
      "source": [
        "Sebelum adanya Double ML, peneliti machine learning menggunakan metode Double Selection untuk menguji efek dari treatment. Namun pada akhirnya Double Machine Learning digunakan karena lebih baik dibandingkan dengan Double Selection. Jelaskan mengapa Double ML lebih baik digunakan ketimbang Double Selection? Masalah apa yang ada pada Double Selection yang dapat diselesaikan dengan Double ML?\n",
        "\n",
        "\n",
        "Answer:\n",
        "DML lebih baik daripada Double Selection karena DML menghilangkan bias asimtotik dari estimasi koefisien dari T parameter. Di mana masalah yang sering muncul pada Double Selection adalah mengharuskan mengontrol features-features yang mempengaruhi noise pada data tersebut, yang nyatanya itu sangat unrealistic untuk dilakukan pada setiap project.\n",
        "\n",
        "\n",
        "---\n",
        "\n",
        "\n",
        "\n",
        "https://medium.com/teconomics-blog/using-ml-to-resolve-experiments-faster-bd8053ff602e#:~:text=Relative%20to%20Double%20Selection%2C%20Double,to%20be%20the%20clear%20winner."
      ],
      "metadata": {
        "id": "y95jkt2ORf5O"
      }
    },
    {
      "cell_type": "markdown",
      "source": [
        "## Question 3"
      ],
      "metadata": {
        "id": "RxYER0a2d5nz"
      }
    },
    {
      "cell_type": "markdown",
      "source": [
        "Ada banyak metrik yang dapat digunakan untuk mengukur dampak dari suatu variabel: ATE, CATE, dan LATE. Jelaskan kapan masing-masing metrik digunakan!\n",
        "\n",
        "Answer:\n",
        "1. Metrik ATE digunakan ketika kita ingin melihat dampak dari suatu variabel secara komposisional bukan secara individual. Biasa digunakan dalam industri medis karena memungkinkan untuk mengisolasi individu2 yang akan dirawat dengan treatment2 tertentu, tapi untuk digunakan dalam social science hal ini akan sangat sulit.\n",
        "\n",
        "2. Metrik CATE digunakan ketika kita ingin melihat heterogenitas dari dampak treatment pada subpopulasi atau group populasi ketika asumsi unconfoundedness berlaku. CATE juga digunakan untuk menangkap variasi yang digunakan untuk mengidentifikasi unconditional average.\n",
        "\n",
        "3. Metrik LATE digunakan untuk melihat dampak dari treatment hanya kepada \"complier\" (mereka yang melakukan treatment jika diperlukan dan sebaliknya). LATE tidak menangkap dampak treatment dari setiap subjek dalam populasi.\n",
        "\n",
        "\n",
        "\n",
        "\n",
        "\n",
        "---\n",
        "https://statmodeling.stat.columbia.edu/2020/06/30/understanding-the-average-treatment-effect-number/\n",
        "\n",
        "http://www.personal.ceu.hu/staff/Robert_Lieli/cate.pdf\n",
        "\n",
        "https://egap.org/resource/10-things-to-know-about-the-local-average-treatment-effect/"
      ],
      "metadata": {
        "id": "dKsAXtjld7Zx"
      }
    },
    {
      "cell_type": "markdown",
      "source": [
        "## Question 4"
      ],
      "metadata": {
        "id": "xL7Ja485d_Uu"
      }
    },
    {
      "cell_type": "markdown",
      "source": [
        "Berikut adalah pertanyaan open-ended, akan dinilai berdasarkan argumentasi yang memiliki landasan. \n",
        "Kita dapat mengekstrak knowledge dari model dengan menggunakan interpretable machine learning. Namun kita juga dapat menggunakan metode seperti double ML untuk mendapatkan pola sebab-akibat berdasarkan data generation process. Mana metode yang lebih baik untuk menjelaskan dampak dari akibat? Kapan metode interpretable machine learning dapat digunakan untuk analisis kausal?\n",
        "\n",
        "Answer:\n",
        "Menurut saya metode yang lebih baik untuk menjelaskan dampak dari akibat adalah interpretable machine learning. Metode interpretable machine learning dapat digunakan untuk analisis kausal ketika ingin menjelaskan counterfactual model.\n",
        "\n",
        "\n",
        "\n",
        "---\n",
        "\n",
        "\n",
        "https://arxiv.org/pdf/2006.16789.pdf"
      ],
      "metadata": {
        "id": "wcOk8XPQeCnP"
      }
    },
    {
      "cell_type": "markdown",
      "source": [
        "# Advanced Assignment"
      ],
      "metadata": {
        "id": "p6LjdQYpKPRF"
      }
    },
    {
      "cell_type": "markdown",
      "source": [
        "##Install and Load Packages"
      ],
      "metadata": {
        "id": "EsF-h2EgPMh5"
      }
    },
    {
      "cell_type": "code",
      "source": [
        "!pip install econml"
      ],
      "metadata": {
        "colab": {
          "base_uri": "https://localhost:8080/"
        },
        "id": "XzR2JIHzN1Sc",
        "outputId": "46d7abaf-e2c5-4ec9-9208-a445343da212"
      },
      "execution_count": 1,
      "outputs": [
        {
          "output_type": "stream",
          "name": "stdout",
          "text": [
            "Looking in indexes: https://pypi.org/simple, https://us-python.pkg.dev/colab-wheels/public/simple/\n",
            "Collecting econml\n",
            "  Downloading econml-0.13.1-cp37-cp37m-manylinux_2_17_x86_64.manylinux2014_x86_64.whl (3.3 MB)\n",
            "\u001b[K     |████████████████████████████████| 3.3 MB 28.2 MB/s \n",
            "\u001b[?25hRequirement already satisfied: numpy in /usr/local/lib/python3.7/dist-packages (from econml) (1.21.6)\n",
            "Collecting dowhy<0.8\n",
            "  Downloading dowhy-0.7.1-py3-none-any.whl (164 kB)\n",
            "\u001b[K     |████████████████████████████████| 164 kB 53.5 MB/s \n",
            "\u001b[?25hRequirement already satisfied: lightgbm in /usr/local/lib/python3.7/dist-packages (from econml) (2.2.3)\n",
            "Requirement already satisfied: statsmodels>=0.10 in /usr/local/lib/python3.7/dist-packages (from econml) (0.10.2)\n",
            "Collecting shap<0.41.0,>=0.38.1\n",
            "  Downloading shap-0.40.0-cp37-cp37m-manylinux2010_x86_64.whl (564 kB)\n",
            "\u001b[K     |████████████████████████████████| 564 kB 38.6 MB/s \n",
            "\u001b[?25hRequirement already satisfied: scikit-learn<1.2,>0.22.0 in /usr/local/lib/python3.7/dist-packages (from econml) (1.0.2)\n",
            "Requirement already satisfied: pandas in /usr/local/lib/python3.7/dist-packages (from econml) (1.3.5)\n",
            "Requirement already satisfied: joblib>=0.13.0 in /usr/local/lib/python3.7/dist-packages (from econml) (1.1.0)\n",
            "Requirement already satisfied: scipy>1.4.0 in /usr/local/lib/python3.7/dist-packages (from econml) (1.4.1)\n",
            "Collecting sparse\n",
            "  Downloading sparse-0.13.0-py2.py3-none-any.whl (77 kB)\n",
            "\u001b[K     |████████████████████████████████| 77 kB 6.5 MB/s \n",
            "\u001b[?25hCollecting pydot>=1.4\n",
            "  Downloading pydot-1.4.2-py2.py3-none-any.whl (21 kB)\n",
            "Requirement already satisfied: sympy>=1.4 in /usr/local/lib/python3.7/dist-packages (from dowhy<0.8->econml) (1.7.1)\n",
            "Requirement already satisfied: networkx>=2.0 in /usr/local/lib/python3.7/dist-packages (from dowhy<0.8->econml) (2.6.3)\n",
            "Requirement already satisfied: python-dateutil>=2.7.3 in /usr/local/lib/python3.7/dist-packages (from pandas->econml) (2.8.2)\n",
            "Requirement already satisfied: pytz>=2017.3 in /usr/local/lib/python3.7/dist-packages (from pandas->econml) (2022.1)\n",
            "Requirement already satisfied: pyparsing>=2.1.4 in /usr/local/lib/python3.7/dist-packages (from pydot>=1.4->dowhy<0.8->econml) (3.0.9)\n",
            "Requirement already satisfied: six>=1.5 in /usr/local/lib/python3.7/dist-packages (from python-dateutil>=2.7.3->pandas->econml) (1.15.0)\n",
            "Requirement already satisfied: threadpoolctl>=2.0.0 in /usr/local/lib/python3.7/dist-packages (from scikit-learn<1.2,>0.22.0->econml) (3.1.0)\n",
            "Collecting slicer==0.0.7\n",
            "  Downloading slicer-0.0.7-py3-none-any.whl (14 kB)\n",
            "Requirement already satisfied: tqdm>4.25.0 in /usr/local/lib/python3.7/dist-packages (from shap<0.41.0,>=0.38.1->econml) (4.64.0)\n",
            "Requirement already satisfied: numba in /usr/local/lib/python3.7/dist-packages (from shap<0.41.0,>=0.38.1->econml) (0.51.2)\n",
            "Requirement already satisfied: packaging>20.9 in /usr/local/lib/python3.7/dist-packages (from shap<0.41.0,>=0.38.1->econml) (21.3)\n",
            "Requirement already satisfied: cloudpickle in /usr/local/lib/python3.7/dist-packages (from shap<0.41.0,>=0.38.1->econml) (1.3.0)\n",
            "Requirement already satisfied: patsy>=0.4.0 in /usr/local/lib/python3.7/dist-packages (from statsmodels>=0.10->econml) (0.5.2)\n",
            "Requirement already satisfied: mpmath>=0.19 in /usr/local/lib/python3.7/dist-packages (from sympy>=1.4->dowhy<0.8->econml) (1.2.1)\n",
            "Requirement already satisfied: setuptools in /usr/local/lib/python3.7/dist-packages (from numba->shap<0.41.0,>=0.38.1->econml) (57.4.0)\n",
            "Requirement already satisfied: llvmlite<0.35,>=0.34.0.dev0 in /usr/local/lib/python3.7/dist-packages (from numba->shap<0.41.0,>=0.38.1->econml) (0.34.0)\n",
            "Installing collected packages: slicer, pydot, sparse, shap, dowhy, econml\n",
            "  Attempting uninstall: pydot\n",
            "    Found existing installation: pydot 1.3.0\n",
            "    Uninstalling pydot-1.3.0:\n",
            "      Successfully uninstalled pydot-1.3.0\n",
            "Successfully installed dowhy-0.7.1 econml-0.13.1 pydot-1.4.2 shap-0.40.0 slicer-0.0.7 sparse-0.13.0\n"
          ]
        }
      ]
    },
    {
      "cell_type": "code",
      "source": [
        "# data exploration package\n",
        "import numpy as np\n",
        "import pandas as pd\n",
        "import pandas as pd\n",
        "import numpy as np\n",
        "from matplotlib import pyplot as plt\n",
        "import seaborn as sns\n",
        "\n",
        "# scikit learn\n",
        "from sklearn.linear_model import ElasticNetCV, LinearRegression\n",
        "from sklearn.ensemble import GradientBoostingRegressor, RandomForestRegressor, RandomForestClassifier\n",
        "from sklearn.tree import DecisionTreeRegressor\n",
        "from sklearn.tree import DecisionTreeClassifier\n",
        "from sklearn.model_selection import train_test_split\n",
        "\n",
        "# econml\n",
        "from econml.dml import DML\n",
        "from econml.metalearners import TLearner, SLearner, XLearner"
      ],
      "metadata": {
        "colab": {
          "base_uri": "https://localhost:8080/"
        },
        "id": "CRSIvy2bO6V6",
        "outputId": "d5b990fa-8912-452e-ccb7-08ac209c1b5c"
      },
      "execution_count": 2,
      "outputs": [
        {
          "output_type": "stream",
          "name": "stderr",
          "text": [
            "/usr/local/lib/python3.7/dist-packages/statsmodels/tools/_testing.py:19: FutureWarning: pandas.util.testing is deprecated. Use the functions in the public API at pandas.testing instead.\n",
            "  import pandas.util.testing as tm\n"
          ]
        }
      ]
    },
    {
      "cell_type": "markdown",
      "source": [
        "##Load Dataset"
      ],
      "metadata": {
        "id": "31MIaT-kPYQs"
      }
    },
    {
      "cell_type": "code",
      "source": [
        "mindset = pd.read_csv(\"https://raw.githubusercontent.com/hadimaster65555/dataset_for_teaching/main/dataset/learning_mindset/learning_mindset.csv\")"
      ],
      "metadata": {
        "id": "hRmkRYruO6Ni"
      },
      "execution_count": 3,
      "outputs": []
    },
    {
      "cell_type": "markdown",
      "source": [
        "##Check Dataset and Its Structure"
      ],
      "metadata": {
        "id": "fpFFOpavPeOf"
      }
    },
    {
      "cell_type": "code",
      "source": [
        "mindset.head()"
      ],
      "metadata": {
        "colab": {
          "base_uri": "https://localhost:8080/",
          "height": 270
        },
        "id": "Wg8jJD_JPpT0",
        "outputId": "6b5aa636-f10d-4bfe-96e7-179ed7342a2f"
      },
      "execution_count": 5,
      "outputs": [
        {
          "output_type": "execute_result",
          "data": {
            "text/plain": [
              "   schoolid  intervention  achievement_score  success_expect  ethnicity  \\\n",
              "0        76             1           0.277359               6          4   \n",
              "1        76             1          -0.449646               4         12   \n",
              "2        76             1           0.769703               6          4   \n",
              "3        76             1          -0.121763               6          4   \n",
              "4        76             1           1.526147               6          4   \n",
              "\n",
              "   gender  frst_in_family  school_urbanicity  school_mindset  \\\n",
              "0       2               1                  4        0.334544   \n",
              "1       2               1                  4        0.334544   \n",
              "2       2               0                  4        0.334544   \n",
              "3       2               0                  4        0.334544   \n",
              "4       1               0                  4        0.334544   \n",
              "\n",
              "   school_achievement  school_ethnic_minority  school_poverty  school_size  \n",
              "0            0.648586               -1.310927        0.224077    -0.426757  \n",
              "1            0.648586               -1.310927        0.224077    -0.426757  \n",
              "2            0.648586               -1.310927        0.224077    -0.426757  \n",
              "3            0.648586               -1.310927        0.224077    -0.426757  \n",
              "4            0.648586               -1.310927        0.224077    -0.426757  "
            ],
            "text/html": [
              "\n",
              "  <div id=\"df-f7651122-e60a-43fa-b440-5340f3ba932c\">\n",
              "    <div class=\"colab-df-container\">\n",
              "      <div>\n",
              "<style scoped>\n",
              "    .dataframe tbody tr th:only-of-type {\n",
              "        vertical-align: middle;\n",
              "    }\n",
              "\n",
              "    .dataframe tbody tr th {\n",
              "        vertical-align: top;\n",
              "    }\n",
              "\n",
              "    .dataframe thead th {\n",
              "        text-align: right;\n",
              "    }\n",
              "</style>\n",
              "<table border=\"1\" class=\"dataframe\">\n",
              "  <thead>\n",
              "    <tr style=\"text-align: right;\">\n",
              "      <th></th>\n",
              "      <th>schoolid</th>\n",
              "      <th>intervention</th>\n",
              "      <th>achievement_score</th>\n",
              "      <th>success_expect</th>\n",
              "      <th>ethnicity</th>\n",
              "      <th>gender</th>\n",
              "      <th>frst_in_family</th>\n",
              "      <th>school_urbanicity</th>\n",
              "      <th>school_mindset</th>\n",
              "      <th>school_achievement</th>\n",
              "      <th>school_ethnic_minority</th>\n",
              "      <th>school_poverty</th>\n",
              "      <th>school_size</th>\n",
              "    </tr>\n",
              "  </thead>\n",
              "  <tbody>\n",
              "    <tr>\n",
              "      <th>0</th>\n",
              "      <td>76</td>\n",
              "      <td>1</td>\n",
              "      <td>0.277359</td>\n",
              "      <td>6</td>\n",
              "      <td>4</td>\n",
              "      <td>2</td>\n",
              "      <td>1</td>\n",
              "      <td>4</td>\n",
              "      <td>0.334544</td>\n",
              "      <td>0.648586</td>\n",
              "      <td>-1.310927</td>\n",
              "      <td>0.224077</td>\n",
              "      <td>-0.426757</td>\n",
              "    </tr>\n",
              "    <tr>\n",
              "      <th>1</th>\n",
              "      <td>76</td>\n",
              "      <td>1</td>\n",
              "      <td>-0.449646</td>\n",
              "      <td>4</td>\n",
              "      <td>12</td>\n",
              "      <td>2</td>\n",
              "      <td>1</td>\n",
              "      <td>4</td>\n",
              "      <td>0.334544</td>\n",
              "      <td>0.648586</td>\n",
              "      <td>-1.310927</td>\n",
              "      <td>0.224077</td>\n",
              "      <td>-0.426757</td>\n",
              "    </tr>\n",
              "    <tr>\n",
              "      <th>2</th>\n",
              "      <td>76</td>\n",
              "      <td>1</td>\n",
              "      <td>0.769703</td>\n",
              "      <td>6</td>\n",
              "      <td>4</td>\n",
              "      <td>2</td>\n",
              "      <td>0</td>\n",
              "      <td>4</td>\n",
              "      <td>0.334544</td>\n",
              "      <td>0.648586</td>\n",
              "      <td>-1.310927</td>\n",
              "      <td>0.224077</td>\n",
              "      <td>-0.426757</td>\n",
              "    </tr>\n",
              "    <tr>\n",
              "      <th>3</th>\n",
              "      <td>76</td>\n",
              "      <td>1</td>\n",
              "      <td>-0.121763</td>\n",
              "      <td>6</td>\n",
              "      <td>4</td>\n",
              "      <td>2</td>\n",
              "      <td>0</td>\n",
              "      <td>4</td>\n",
              "      <td>0.334544</td>\n",
              "      <td>0.648586</td>\n",
              "      <td>-1.310927</td>\n",
              "      <td>0.224077</td>\n",
              "      <td>-0.426757</td>\n",
              "    </tr>\n",
              "    <tr>\n",
              "      <th>4</th>\n",
              "      <td>76</td>\n",
              "      <td>1</td>\n",
              "      <td>1.526147</td>\n",
              "      <td>6</td>\n",
              "      <td>4</td>\n",
              "      <td>1</td>\n",
              "      <td>0</td>\n",
              "      <td>4</td>\n",
              "      <td>0.334544</td>\n",
              "      <td>0.648586</td>\n",
              "      <td>-1.310927</td>\n",
              "      <td>0.224077</td>\n",
              "      <td>-0.426757</td>\n",
              "    </tr>\n",
              "  </tbody>\n",
              "</table>\n",
              "</div>\n",
              "      <button class=\"colab-df-convert\" onclick=\"convertToInteractive('df-f7651122-e60a-43fa-b440-5340f3ba932c')\"\n",
              "              title=\"Convert this dataframe to an interactive table.\"\n",
              "              style=\"display:none;\">\n",
              "        \n",
              "  <svg xmlns=\"http://www.w3.org/2000/svg\" height=\"24px\"viewBox=\"0 0 24 24\"\n",
              "       width=\"24px\">\n",
              "    <path d=\"M0 0h24v24H0V0z\" fill=\"none\"/>\n",
              "    <path d=\"M18.56 5.44l.94 2.06.94-2.06 2.06-.94-2.06-.94-.94-2.06-.94 2.06-2.06.94zm-11 1L8.5 8.5l.94-2.06 2.06-.94-2.06-.94L8.5 2.5l-.94 2.06-2.06.94zm10 10l.94 2.06.94-2.06 2.06-.94-2.06-.94-.94-2.06-.94 2.06-2.06.94z\"/><path d=\"M17.41 7.96l-1.37-1.37c-.4-.4-.92-.59-1.43-.59-.52 0-1.04.2-1.43.59L10.3 9.45l-7.72 7.72c-.78.78-.78 2.05 0 2.83L4 21.41c.39.39.9.59 1.41.59.51 0 1.02-.2 1.41-.59l7.78-7.78 2.81-2.81c.8-.78.8-2.07 0-2.86zM5.41 20L4 18.59l7.72-7.72 1.47 1.35L5.41 20z\"/>\n",
              "  </svg>\n",
              "      </button>\n",
              "      \n",
              "  <style>\n",
              "    .colab-df-container {\n",
              "      display:flex;\n",
              "      flex-wrap:wrap;\n",
              "      gap: 12px;\n",
              "    }\n",
              "\n",
              "    .colab-df-convert {\n",
              "      background-color: #E8F0FE;\n",
              "      border: none;\n",
              "      border-radius: 50%;\n",
              "      cursor: pointer;\n",
              "      display: none;\n",
              "      fill: #1967D2;\n",
              "      height: 32px;\n",
              "      padding: 0 0 0 0;\n",
              "      width: 32px;\n",
              "    }\n",
              "\n",
              "    .colab-df-convert:hover {\n",
              "      background-color: #E2EBFA;\n",
              "      box-shadow: 0px 1px 2px rgba(60, 64, 67, 0.3), 0px 1px 3px 1px rgba(60, 64, 67, 0.15);\n",
              "      fill: #174EA6;\n",
              "    }\n",
              "\n",
              "    [theme=dark] .colab-df-convert {\n",
              "      background-color: #3B4455;\n",
              "      fill: #D2E3FC;\n",
              "    }\n",
              "\n",
              "    [theme=dark] .colab-df-convert:hover {\n",
              "      background-color: #434B5C;\n",
              "      box-shadow: 0px 1px 3px 1px rgba(0, 0, 0, 0.15);\n",
              "      filter: drop-shadow(0px 1px 2px rgba(0, 0, 0, 0.3));\n",
              "      fill: #FFFFFF;\n",
              "    }\n",
              "  </style>\n",
              "\n",
              "      <script>\n",
              "        const buttonEl =\n",
              "          document.querySelector('#df-f7651122-e60a-43fa-b440-5340f3ba932c button.colab-df-convert');\n",
              "        buttonEl.style.display =\n",
              "          google.colab.kernel.accessAllowed ? 'block' : 'none';\n",
              "\n",
              "        async function convertToInteractive(key) {\n",
              "          const element = document.querySelector('#df-f7651122-e60a-43fa-b440-5340f3ba932c');\n",
              "          const dataTable =\n",
              "            await google.colab.kernel.invokeFunction('convertToInteractive',\n",
              "                                                     [key], {});\n",
              "          if (!dataTable) return;\n",
              "\n",
              "          const docLinkHtml = 'Like what you see? Visit the ' +\n",
              "            '<a target=\"_blank\" href=https://colab.research.google.com/notebooks/data_table.ipynb>data table notebook</a>'\n",
              "            + ' to learn more about interactive tables.';\n",
              "          element.innerHTML = '';\n",
              "          dataTable['output_type'] = 'display_data';\n",
              "          await google.colab.output.renderOutput(dataTable, element);\n",
              "          const docLink = document.createElement('div');\n",
              "          docLink.innerHTML = docLinkHtml;\n",
              "          element.appendChild(docLink);\n",
              "        }\n",
              "      </script>\n",
              "    </div>\n",
              "  </div>\n",
              "  "
            ]
          },
          "metadata": {},
          "execution_count": 5
        }
      ]
    },
    {
      "cell_type": "code",
      "source": [
        "mindset.info()"
      ],
      "metadata": {
        "colab": {
          "base_uri": "https://localhost:8080/"
        },
        "id": "LDS497HcPshs",
        "outputId": "a10be034-9e33-42ea-8076-7506ac1e27cb"
      },
      "execution_count": 6,
      "outputs": [
        {
          "output_type": "stream",
          "name": "stdout",
          "text": [
            "<class 'pandas.core.frame.DataFrame'>\n",
            "RangeIndex: 10391 entries, 0 to 10390\n",
            "Data columns (total 13 columns):\n",
            " #   Column                  Non-Null Count  Dtype  \n",
            "---  ------                  --------------  -----  \n",
            " 0   schoolid                10391 non-null  int64  \n",
            " 1   intervention            10391 non-null  int64  \n",
            " 2   achievement_score       10391 non-null  float64\n",
            " 3   success_expect          10391 non-null  int64  \n",
            " 4   ethnicity               10391 non-null  int64  \n",
            " 5   gender                  10391 non-null  int64  \n",
            " 6   frst_in_family          10391 non-null  int64  \n",
            " 7   school_urbanicity       10391 non-null  int64  \n",
            " 8   school_mindset          10391 non-null  float64\n",
            " 9   school_achievement      10391 non-null  float64\n",
            " 10  school_ethnic_minority  10391 non-null  float64\n",
            " 11  school_poverty          10391 non-null  float64\n",
            " 12  school_size             10391 non-null  float64\n",
            "dtypes: float64(6), int64(7)\n",
            "memory usage: 1.0 MB\n"
          ]
        }
      ]
    },
    {
      "cell_type": "code",
      "source": [
        "#check duplicate\n",
        "mindset.duplicated().sum()"
      ],
      "metadata": {
        "colab": {
          "base_uri": "https://localhost:8080/"
        },
        "id": "35kLa2VrQGx1",
        "outputId": "f49663da-5c05-491b-977a-b555bef2d478"
      },
      "execution_count": 7,
      "outputs": [
        {
          "output_type": "execute_result",
          "data": {
            "text/plain": [
              "0"
            ]
          },
          "metadata": {},
          "execution_count": 7
        }
      ]
    },
    {
      "cell_type": "code",
      "source": [
        "# Check unique value\n",
        "for x in mindset.columns:\n",
        "  print(f\"unique of {x} \")\n",
        "  print(f\"{mindset[x].unique()}\")\n",
        "  print()"
      ],
      "metadata": {
        "colab": {
          "base_uri": "https://localhost:8080/"
        },
        "id": "308eTyP5cLvD",
        "outputId": "efac2621-3c5c-46a6-9a5b-ef13c01807e3"
      },
      "execution_count": 8,
      "outputs": [
        {
          "output_type": "stream",
          "name": "stdout",
          "text": [
            "unique of schoolid \n",
            "[76 75 74 73 72 71 70 69 68 67 66 65 64 63 62 61 60 59 58 57 56 55 54 53\n",
            " 52 51 50 49 48 47 46 45 44 43 42 41 40 39 38 37 36 35 34 33 32 31 30 29\n",
            " 28 27 26 25 24 23 22 21 20 19 18 17 16 15 14 13 12 11 10  9  8  7  6  5\n",
            "  4  3  2  1]\n",
            "\n",
            "unique of intervention \n",
            "[1 0]\n",
            "\n",
            "unique of achievement_score \n",
            "[ 0.27735862 -0.44964639  0.76970344 ...  0.37082009 -0.39629671\n",
            "  0.47897006]\n",
            "\n",
            "unique of success_expect \n",
            "[6 4 7 5 3 1 2]\n",
            "\n",
            "unique of ethnicity \n",
            "[ 4 12  5  1  2 14 15 10  6  9  8  7 11  3 13]\n",
            "\n",
            "unique of gender \n",
            "[2 1]\n",
            "\n",
            "unique of frst_in_family \n",
            "[1 0]\n",
            "\n",
            "unique of school_urbanicity \n",
            "[4 3 1 0 2]\n",
            "\n",
            "unique of school_mindset \n",
            "[ 0.33454352  0.99162827  0.98398211 -0.46294452  0.4204414  -3.08878982\n",
            "  0.98824178 -0.05057947 -0.03439241 -1.11533652  1.02177695 -0.95397163\n",
            " -0.35420731 -1.29411031 -1.13224131 -1.16814528  0.92418344  0.20834922\n",
            " -0.61788794  0.09716239  1.18151615  1.93658085  0.25531863  0.999101\n",
            "  0.19760784 -1.0362246   0.2113852   0.92542289  0.17342362 -1.23927231\n",
            "  1.09941932  0.21400211  0.6184636  -0.56832918  0.72884744  1.26606745\n",
            "  0.50388639 -0.42574215  0.30983348 -0.53072159  1.73191507  0.33083589\n",
            " -0.87306051  0.28505884 -0.37597512 -0.46020674  0.40631632 -0.37308653\n",
            "  1.40661814  0.24026682 -0.28362416 -0.2455873  -0.87050069  0.7729008\n",
            "  2.66182148  1.23510562 -0.99604188 -0.70992463  1.63643021  1.57063981\n",
            " -0.53897539 -0.00995388  1.73202289  0.37014208  2.83458867  0.38023022\n",
            "  0.23057047  1.32432327  0.12041266  0.4007987   0.08852584 -0.05514955\n",
            " -2.289636   -2.08162953  0.20829761  1.18598644]\n",
            "\n",
            "unique of school_achievement \n",
            "[ 0.64858557 -0.67414202 -0.44994328  0.65260818 -0.49197173  0.01305767\n",
            " -2.59942228  1.1124201  -2.6359608   1.05308902 -0.09733576 -0.94397209\n",
            "  1.26438758 -0.15324699  0.7268356  -0.61250126  0.07503707  1.19142159\n",
            " -0.1636193  -0.29235262 -1.56251275 -2.28107462  1.10808553  0.44091224\n",
            " -0.72669641  0.70388684  0.07240733 -0.98780647 -0.01243109  0.5992423\n",
            " -0.28737925 -0.02251354 -1.19299377  0.61346538 -0.64200167 -1.03736773\n",
            "  0.47927952  0.9057637   0.30398439 -0.17706995 -0.58788561 -0.50183197\n",
            "  0.90025497  0.58920477  0.40458449 -0.24017516  0.04024725  0.11309596\n",
            " -1.28913234 -0.78528667 -0.58856293  1.33207445  1.04097821 -1.12466372\n",
            " -3.34781893 -0.69959511 -0.01903883 -0.51623923 -0.06516071 -1.02150386\n",
            "  1.43382631  0.7628039  -0.20217002  0.10257517 -2.94779943 -2.38739157\n",
            " -0.75330861 -1.3114377   0.10580147 -0.18083099  1.30729193 -0.54450609\n",
            "  0.19079672  2.17181459 -0.12238596 -1.1298894 ]\n",
            "\n",
            "unique of school_ethnic_minority \n",
            "[-1.31092697  1.56431794  0.0881594  -0.51520159 -0.9134051  -1.10254668\n",
            "  2.10398324 -0.13882157  2.09306203  0.31575518  0.22547005  0.02552928\n",
            " -0.81952934  0.49354012 -0.05703584 -0.47233301 -0.59996899 -1.28835197\n",
            " -0.99188236 -1.03086542  1.88027273  1.88914475 -0.36778893 -1.34476661\n",
            " -1.07989429 -1.40792172 -1.45446091 -1.15301106 -1.2444796   0.00542947\n",
            "  0.89779669 -0.74926332 -1.21551582 -1.21021044 -0.91555048  1.46313562\n",
            "  0.56103625 -0.13311872  0.51539238 -1.31303655 -0.98620079 -1.28709794\n",
            " -0.78968457 -1.57546279 -1.12735297  0.69700508 -0.20380795 -0.8334171\n",
            "  1.20172778  0.61180747  0.19267649 -1.10177752  0.04728087  0.35271263\n",
            "  2.35827436 -0.0062432  -0.91402067 -0.98776665  0.69420052  0.36120215\n",
            " -0.03316144 -0.22575153 -1.54504751 -1.26563952  2.30859436  1.27717167\n",
            " -0.96309532  1.9302806   1.66055028 -1.14731767 -1.27741907  1.3025867\n",
            "  0.87501243 -0.14526491  1.19949188  1.00987461]\n",
            "\n",
            "unique of school_poverty \n",
            "[ 0.22407651  0.23075543 -0.65713147 -0.16984861 -0.04315946 -1.27078375\n",
            "  1.50164807 -1.18551261  1.51041484  0.05458615 -0.80528851 -0.42398239\n",
            " -1.15836029  0.19666218  1.33051223  0.20148731  0.14241449 -1.09092572\n",
            " -0.946657   -0.81379922  2.05070676  2.04118624 -0.27067499 -0.30486797\n",
            " -0.06142774 -0.30661415 -0.30880087  0.7196583   0.6137558   1.26767967\n",
            "  2.82165999  0.34788938  1.12831638 -0.66485972  0.50499921  0.70011801\n",
            "  0.59647362  1.05510682  1.27408795 -0.04572221  0.54038053  0.47689751\n",
            " -1.3190603  -0.48049274  0.12882984 -0.25641588 -0.22004127 -1.92477827\n",
            "  0.58413059  0.6125681  -0.25990959 -1.0834001   0.90820804  0.67212966\n",
            "  1.5397821   0.26306277 -0.23080431 -0.15960157  1.0373729   1.04399778\n",
            " -0.98227385  0.08261263 -0.88666143 -1.04782184  2.65586349  2.53823498\n",
            " -0.05478073  0.28114305  0.22654534 -1.17339064 -1.36118364 -1.735164\n",
            " -0.72480138 -0.78532157 -0.33713429  1.00506302]\n",
            "\n",
            "unique of school_size \n",
            "[-0.42675665 -1.51190901 -0.32395917  0.17395401 -0.4385311  -1.45842138\n",
            " -1.5200865   0.99888389 -0.2115532   1.86218663 -0.32970768 -1.43105263\n",
            "  0.81011663 -1.29061639  1.89234818 -1.05090297 -1.088472    1.58615649\n",
            "  1.06379     0.18471607 -0.98863463 -0.86556582 -1.45889955 -1.64619806\n",
            " -1.39554198 -0.94365119 -1.60619072 -1.24247256 -1.12524076  0.95850968\n",
            " -0.64686755 -0.78521543 -1.40678341 -1.48198879 -1.21495972 -1.52687987\n",
            " -1.40021945 -1.14543978 -1.53980109 -1.03159453 -1.60630369 -1.34077718\n",
            " -0.85702623 -1.50771655 -1.49543619 -1.80507278 -0.80615082 -1.14731358\n",
            " -0.23546818 -0.11628373 -0.05628597  0.32577707 -1.27406005 -1.34484348\n",
            " -0.9031163  -0.58254147  0.84784394  0.26222063 -0.37507344 -0.47040374\n",
            "  1.59164125  0.35067201 -1.66987217 -1.7069773  -1.03178008 -0.54363968\n",
            " -0.58324099  0.36203114  1.00130811 -0.56061531 -0.86996087 -0.79214586\n",
            "  0.76178098  0.88228109  0.35274712 -1.17470222]\n",
            "\n"
          ]
        }
      ]
    },
    {
      "cell_type": "markdown",
      "source": [
        "##Data Inspection"
      ],
      "metadata": {
        "id": "o8ajh-dbTGoE"
      }
    },
    {
      "cell_type": "code",
      "source": [
        "mindset.groupby('intervention').agg({\n",
        "    'schoolid': 'nunique',\n",
        "    'achievement_score': 'mean'\n",
        "}).rename(columns={\n",
        "    'schoolid': 'Total Schools',\n",
        "    'achievement_score': 'Average Achievement Score'\n",
        "})"
      ],
      "metadata": {
        "colab": {
          "base_uri": "https://localhost:8080/",
          "height": 143
        },
        "id": "2P4ZZ1R8QMM-",
        "outputId": "66f83d91-3cca-4900-84cb-9f8c43fbf729"
      },
      "execution_count": 9,
      "outputs": [
        {
          "output_type": "execute_result",
          "data": {
            "text/plain": [
              "              Total Schools  Average Achievement Score\n",
              "intervention                                          \n",
              "0                        76                  -0.153803\n",
              "1                        76                   0.318469"
            ],
            "text/html": [
              "\n",
              "  <div id=\"df-c53cf695-6750-47f4-94b3-fc8eae081d28\">\n",
              "    <div class=\"colab-df-container\">\n",
              "      <div>\n",
              "<style scoped>\n",
              "    .dataframe tbody tr th:only-of-type {\n",
              "        vertical-align: middle;\n",
              "    }\n",
              "\n",
              "    .dataframe tbody tr th {\n",
              "        vertical-align: top;\n",
              "    }\n",
              "\n",
              "    .dataframe thead th {\n",
              "        text-align: right;\n",
              "    }\n",
              "</style>\n",
              "<table border=\"1\" class=\"dataframe\">\n",
              "  <thead>\n",
              "    <tr style=\"text-align: right;\">\n",
              "      <th></th>\n",
              "      <th>Total Schools</th>\n",
              "      <th>Average Achievement Score</th>\n",
              "    </tr>\n",
              "    <tr>\n",
              "      <th>intervention</th>\n",
              "      <th></th>\n",
              "      <th></th>\n",
              "    </tr>\n",
              "  </thead>\n",
              "  <tbody>\n",
              "    <tr>\n",
              "      <th>0</th>\n",
              "      <td>76</td>\n",
              "      <td>-0.153803</td>\n",
              "    </tr>\n",
              "    <tr>\n",
              "      <th>1</th>\n",
              "      <td>76</td>\n",
              "      <td>0.318469</td>\n",
              "    </tr>\n",
              "  </tbody>\n",
              "</table>\n",
              "</div>\n",
              "      <button class=\"colab-df-convert\" onclick=\"convertToInteractive('df-c53cf695-6750-47f4-94b3-fc8eae081d28')\"\n",
              "              title=\"Convert this dataframe to an interactive table.\"\n",
              "              style=\"display:none;\">\n",
              "        \n",
              "  <svg xmlns=\"http://www.w3.org/2000/svg\" height=\"24px\"viewBox=\"0 0 24 24\"\n",
              "       width=\"24px\">\n",
              "    <path d=\"M0 0h24v24H0V0z\" fill=\"none\"/>\n",
              "    <path d=\"M18.56 5.44l.94 2.06.94-2.06 2.06-.94-2.06-.94-.94-2.06-.94 2.06-2.06.94zm-11 1L8.5 8.5l.94-2.06 2.06-.94-2.06-.94L8.5 2.5l-.94 2.06-2.06.94zm10 10l.94 2.06.94-2.06 2.06-.94-2.06-.94-.94-2.06-.94 2.06-2.06.94z\"/><path d=\"M17.41 7.96l-1.37-1.37c-.4-.4-.92-.59-1.43-.59-.52 0-1.04.2-1.43.59L10.3 9.45l-7.72 7.72c-.78.78-.78 2.05 0 2.83L4 21.41c.39.39.9.59 1.41.59.51 0 1.02-.2 1.41-.59l7.78-7.78 2.81-2.81c.8-.78.8-2.07 0-2.86zM5.41 20L4 18.59l7.72-7.72 1.47 1.35L5.41 20z\"/>\n",
              "  </svg>\n",
              "      </button>\n",
              "      \n",
              "  <style>\n",
              "    .colab-df-container {\n",
              "      display:flex;\n",
              "      flex-wrap:wrap;\n",
              "      gap: 12px;\n",
              "    }\n",
              "\n",
              "    .colab-df-convert {\n",
              "      background-color: #E8F0FE;\n",
              "      border: none;\n",
              "      border-radius: 50%;\n",
              "      cursor: pointer;\n",
              "      display: none;\n",
              "      fill: #1967D2;\n",
              "      height: 32px;\n",
              "      padding: 0 0 0 0;\n",
              "      width: 32px;\n",
              "    }\n",
              "\n",
              "    .colab-df-convert:hover {\n",
              "      background-color: #E2EBFA;\n",
              "      box-shadow: 0px 1px 2px rgba(60, 64, 67, 0.3), 0px 1px 3px 1px rgba(60, 64, 67, 0.15);\n",
              "      fill: #174EA6;\n",
              "    }\n",
              "\n",
              "    [theme=dark] .colab-df-convert {\n",
              "      background-color: #3B4455;\n",
              "      fill: #D2E3FC;\n",
              "    }\n",
              "\n",
              "    [theme=dark] .colab-df-convert:hover {\n",
              "      background-color: #434B5C;\n",
              "      box-shadow: 0px 1px 3px 1px rgba(0, 0, 0, 0.15);\n",
              "      filter: drop-shadow(0px 1px 2px rgba(0, 0, 0, 0.3));\n",
              "      fill: #FFFFFF;\n",
              "    }\n",
              "  </style>\n",
              "\n",
              "      <script>\n",
              "        const buttonEl =\n",
              "          document.querySelector('#df-c53cf695-6750-47f4-94b3-fc8eae081d28 button.colab-df-convert');\n",
              "        buttonEl.style.display =\n",
              "          google.colab.kernel.accessAllowed ? 'block' : 'none';\n",
              "\n",
              "        async function convertToInteractive(key) {\n",
              "          const element = document.querySelector('#df-c53cf695-6750-47f4-94b3-fc8eae081d28');\n",
              "          const dataTable =\n",
              "            await google.colab.kernel.invokeFunction('convertToInteractive',\n",
              "                                                     [key], {});\n",
              "          if (!dataTable) return;\n",
              "\n",
              "          const docLinkHtml = 'Like what you see? Visit the ' +\n",
              "            '<a target=\"_blank\" href=https://colab.research.google.com/notebooks/data_table.ipynb>data table notebook</a>'\n",
              "            + ' to learn more about interactive tables.';\n",
              "          element.innerHTML = '';\n",
              "          dataTable['output_type'] = 'display_data';\n",
              "          await google.colab.output.renderOutput(dataTable, element);\n",
              "          const docLink = document.createElement('div');\n",
              "          docLink.innerHTML = docLinkHtml;\n",
              "          element.appendChild(docLink);\n",
              "        }\n",
              "      </script>\n",
              "    </div>\n",
              "  </div>\n",
              "  "
            ]
          },
          "metadata": {},
          "execution_count": 9
        }
      ]
    },
    {
      "cell_type": "markdown",
      "source": [
        "As we can see schools that attend growth mindset seminar tend to have a better achievement score."
      ],
      "metadata": {
        "id": "2E1Z-L0aSs_c"
      }
    },
    {
      "cell_type": "code",
      "source": [
        "sns.set(rc = {'figure.figsize':(16,8)})\n",
        "sns.heatmap(mindset.corr(), annot = True, fmt='.2g',cmap= 'coolwarm')"
      ],
      "metadata": {
        "colab": {
          "base_uri": "https://localhost:8080/",
          "height": 610
        },
        "id": "fakzldAn5Dc8",
        "outputId": "85b01145-7b3d-4d8c-8b35-9df4c7aee87b"
      },
      "execution_count": 42,
      "outputs": [
        {
          "output_type": "execute_result",
          "data": {
            "text/plain": [
              "<matplotlib.axes._subplots.AxesSubplot at 0x7fbba1086810>"
            ]
          },
          "metadata": {},
          "execution_count": 42
        },
        {
          "output_type": "display_data",
          "data": {
            "text/plain": [
              "<Figure size 1152x576 with 2 Axes>"
            ],
            "image/png": "[encoded data removed]"
          },
          "metadata": {}
        }
      ]
    },
    {
      "cell_type": "markdown",
      "source": [
        "##Modeling"
      ],
      "metadata": {
        "id": "z5i67BoHjlJT"
      }
    },
    {
      "cell_type": "code",
      "source": [
        "# Make new dataset and randomize to be splitted\n",
        "shuffled = mindset.sample(frac=1)\n",
        "shuffled = shuffled.reset_index()\n",
        "shuffled = shuffled.drop(['index'], axis = 1)"
      ],
      "metadata": {
        "id": "MrM_b6ROpbQh"
      },
      "execution_count": 21,
      "outputs": []
    },
    {
      "cell_type": "code",
      "source": [
        "# Split into 2 dataset\n",
        "mindset_train = shuffled.iloc[:7275]\n",
        "mindset_test = shuffled.iloc[7275:]"
      ],
      "metadata": {
        "id": "9JKqDENQqN7q"
      },
      "execution_count": 22,
      "outputs": []
    },
    {
      "cell_type": "code",
      "source": [
        "# Check Train dataset\n",
        "mindset_train.head()"
      ],
      "metadata": {
        "colab": {
          "base_uri": "https://localhost:8080/",
          "height": 270
        },
        "id": "5ywtfSGRq2R6",
        "outputId": "2d1b3bd8-fa0e-4914-8458-6c7ea9225f06"
      },
      "execution_count": 24,
      "outputs": [
        {
          "output_type": "execute_result",
          "data": {
            "text/plain": [
              "   schoolid  intervention  achievement_score  success_expect  ethnicity  \\\n",
              "0        62             0          -0.425467               5          8   \n",
              "1        64             1           0.188707               5          4   \n",
              "2        47             0           2.219649               6          4   \n",
              "3        30             0          -0.885908               5         14   \n",
              "4        69             0           0.383555               7          2   \n",
              "\n",
              "   gender  frst_in_family  school_urbanicity  school_mindset  \\\n",
              "0       2               0                  4       -1.132241   \n",
              "1       2               1                  2       -0.354207   \n",
              "2       1               0                  4       -1.239272   \n",
              "3       2               1                  1        0.406316   \n",
              "4       1               0                  1       -0.050579   \n",
              "\n",
              "   school_achievement  school_ethnic_minority  school_poverty  school_size  \n",
              "0            0.726836               -0.057036        1.330512     1.892348  \n",
              "1            1.264388               -0.819529       -1.158360     0.810117  \n",
              "2            0.599242                0.005429        1.267680     0.958510  \n",
              "3            0.040247               -0.203808       -0.220041    -0.806151  \n",
              "4            1.112420               -0.138822       -1.185513     0.998884  "
            ],
            "text/html": [
              "\n",
              "  <div id=\"df-a5d50198-c397-44b0-9e69-ca07faaa81bb\">\n",
              "    <div class=\"colab-df-container\">\n",
              "      <div>\n",
              "<style scoped>\n",
              "    .dataframe tbody tr th:only-of-type {\n",
              "        vertical-align: middle;\n",
              "    }\n",
              "\n",
              "    .dataframe tbody tr th {\n",
              "        vertical-align: top;\n",
              "    }\n",
              "\n",
              "    .dataframe thead th {\n",
              "        text-align: right;\n",
              "    }\n",
              "</style>\n",
              "<table border=\"1\" class=\"dataframe\">\n",
              "  <thead>\n",
              "    <tr style=\"text-align: right;\">\n",
              "      <th></th>\n",
              "      <th>schoolid</th>\n",
              "      <th>intervention</th>\n",
              "      <th>achievement_score</th>\n",
              "      <th>success_expect</th>\n",
              "      <th>ethnicity</th>\n",
              "      <th>gender</th>\n",
              "      <th>frst_in_family</th>\n",
              "      <th>school_urbanicity</th>\n",
              "      <th>school_mindset</th>\n",
              "      <th>school_achievement</th>\n",
              "      <th>school_ethnic_minority</th>\n",
              "      <th>school_poverty</th>\n",
              "      <th>school_size</th>\n",
              "    </tr>\n",
              "  </thead>\n",
              "  <tbody>\n",
              "    <tr>\n",
              "      <th>0</th>\n",
              "      <td>62</td>\n",
              "      <td>0</td>\n",
              "      <td>-0.425467</td>\n",
              "      <td>5</td>\n",
              "      <td>8</td>\n",
              "      <td>2</td>\n",
              "      <td>0</td>\n",
              "      <td>4</td>\n",
              "      <td>-1.132241</td>\n",
              "      <td>0.726836</td>\n",
              "      <td>-0.057036</td>\n",
              "      <td>1.330512</td>\n",
              "      <td>1.892348</td>\n",
              "    </tr>\n",
              "    <tr>\n",
              "      <th>1</th>\n",
              "      <td>64</td>\n",
              "      <td>1</td>\n",
              "      <td>0.188707</td>\n",
              "      <td>5</td>\n",
              "      <td>4</td>\n",
              "      <td>2</td>\n",
              "      <td>1</td>\n",
              "      <td>2</td>\n",
              "      <td>-0.354207</td>\n",
              "      <td>1.264388</td>\n",
              "      <td>-0.819529</td>\n",
              "      <td>-1.158360</td>\n",
              "      <td>0.810117</td>\n",
              "    </tr>\n",
              "    <tr>\n",
              "      <th>2</th>\n",
              "      <td>47</td>\n",
              "      <td>0</td>\n",
              "      <td>2.219649</td>\n",
              "      <td>6</td>\n",
              "      <td>4</td>\n",
              "      <td>1</td>\n",
              "      <td>0</td>\n",
              "      <td>4</td>\n",
              "      <td>-1.239272</td>\n",
              "      <td>0.599242</td>\n",
              "      <td>0.005429</td>\n",
              "      <td>1.267680</td>\n",
              "      <td>0.958510</td>\n",
              "    </tr>\n",
              "    <tr>\n",
              "      <th>3</th>\n",
              "      <td>30</td>\n",
              "      <td>0</td>\n",
              "      <td>-0.885908</td>\n",
              "      <td>5</td>\n",
              "      <td>14</td>\n",
              "      <td>2</td>\n",
              "      <td>1</td>\n",
              "      <td>1</td>\n",
              "      <td>0.406316</td>\n",
              "      <td>0.040247</td>\n",
              "      <td>-0.203808</td>\n",
              "      <td>-0.220041</td>\n",
              "      <td>-0.806151</td>\n",
              "    </tr>\n",
              "    <tr>\n",
              "      <th>4</th>\n",
              "      <td>69</td>\n",
              "      <td>0</td>\n",
              "      <td>0.383555</td>\n",
              "      <td>7</td>\n",
              "      <td>2</td>\n",
              "      <td>1</td>\n",
              "      <td>0</td>\n",
              "      <td>1</td>\n",
              "      <td>-0.050579</td>\n",
              "      <td>1.112420</td>\n",
              "      <td>-0.138822</td>\n",
              "      <td>-1.185513</td>\n",
              "      <td>0.998884</td>\n",
              "    </tr>\n",
              "  </tbody>\n",
              "</table>\n",
              "</div>\n",
              "      <button class=\"colab-df-convert\" onclick=\"convertToInteractive('df-a5d50198-c397-44b0-9e69-ca07faaa81bb')\"\n",
              "              title=\"Convert this dataframe to an interactive table.\"\n",
              "              style=\"display:none;\">\n",
              "        \n",
              "  <svg xmlns=\"http://www.w3.org/2000/svg\" height=\"24px\"viewBox=\"0 0 24 24\"\n",
              "       width=\"24px\">\n",
              "    <path d=\"M0 0h24v24H0V0z\" fill=\"none\"/>\n",
              "    <path d=\"M18.56 5.44l.94 2.06.94-2.06 2.06-.94-2.06-.94-.94-2.06-.94 2.06-2.06.94zm-11 1L8.5 8.5l.94-2.06 2.06-.94-2.06-.94L8.5 2.5l-.94 2.06-2.06.94zm10 10l.94 2.06.94-2.06 2.06-.94-2.06-.94-.94-2.06-.94 2.06-2.06.94z\"/><path d=\"M17.41 7.96l-1.37-1.37c-.4-.4-.92-.59-1.43-.59-.52 0-1.04.2-1.43.59L10.3 9.45l-7.72 7.72c-.78.78-.78 2.05 0 2.83L4 21.41c.39.39.9.59 1.41.59.51 0 1.02-.2 1.41-.59l7.78-7.78 2.81-2.81c.8-.78.8-2.07 0-2.86zM5.41 20L4 18.59l7.72-7.72 1.47 1.35L5.41 20z\"/>\n",
              "  </svg>\n",
              "      </button>\n",
              "      \n",
              "  <style>\n",
              "    .colab-df-container {\n",
              "      display:flex;\n",
              "      flex-wrap:wrap;\n",
              "      gap: 12px;\n",
              "    }\n",
              "\n",
              "    .colab-df-convert {\n",
              "      background-color: #E8F0FE;\n",
              "      border: none;\n",
              "      border-radius: 50%;\n",
              "      cursor: pointer;\n",
              "      display: none;\n",
              "      fill: #1967D2;\n",
              "      height: 32px;\n",
              "      padding: 0 0 0 0;\n",
              "      width: 32px;\n",
              "    }\n",
              "\n",
              "    .colab-df-convert:hover {\n",
              "      background-color: #E2EBFA;\n",
              "      box-shadow: 0px 1px 2px rgba(60, 64, 67, 0.3), 0px 1px 3px 1px rgba(60, 64, 67, 0.15);\n",
              "      fill: #174EA6;\n",
              "    }\n",
              "\n",
              "    [theme=dark] .colab-df-convert {\n",
              "      background-color: #3B4455;\n",
              "      fill: #D2E3FC;\n",
              "    }\n",
              "\n",
              "    [theme=dark] .colab-df-convert:hover {\n",
              "      background-color: #434B5C;\n",
              "      box-shadow: 0px 1px 3px 1px rgba(0, 0, 0, 0.15);\n",
              "      filter: drop-shadow(0px 1px 2px rgba(0, 0, 0, 0.3));\n",
              "      fill: #FFFFFF;\n",
              "    }\n",
              "  </style>\n",
              "\n",
              "      <script>\n",
              "        const buttonEl =\n",
              "          document.querySelector('#df-a5d50198-c397-44b0-9e69-ca07faaa81bb button.colab-df-convert');\n",
              "        buttonEl.style.display =\n",
              "          google.colab.kernel.accessAllowed ? 'block' : 'none';\n",
              "\n",
              "        async function convertToInteractive(key) {\n",
              "          const element = document.querySelector('#df-a5d50198-c397-44b0-9e69-ca07faaa81bb');\n",
              "          const dataTable =\n",
              "            await google.colab.kernel.invokeFunction('convertToInteractive',\n",
              "                                                     [key], {});\n",
              "          if (!dataTable) return;\n",
              "\n",
              "          const docLinkHtml = 'Like what you see? Visit the ' +\n",
              "            '<a target=\"_blank\" href=https://colab.research.google.com/notebooks/data_table.ipynb>data table notebook</a>'\n",
              "            + ' to learn more about interactive tables.';\n",
              "          element.innerHTML = '';\n",
              "          dataTable['output_type'] = 'display_data';\n",
              "          await google.colab.output.renderOutput(dataTable, element);\n",
              "          const docLink = document.createElement('div');\n",
              "          docLink.innerHTML = docLinkHtml;\n",
              "          element.appendChild(docLink);\n",
              "        }\n",
              "      </script>\n",
              "    </div>\n",
              "  </div>\n",
              "  "
            ]
          },
          "metadata": {},
          "execution_count": 24
        }
      ]
    },
    {
      "cell_type": "code",
      "source": [
        "# Check Test Dataset\n",
        "mindset_test.head()"
      ],
      "metadata": {
        "colab": {
          "base_uri": "https://localhost:8080/",
          "height": 270
        },
        "id": "aS1lixFSrfUt",
        "outputId": "be0f146c-dda2-4237-bd94-ffeec620e58d"
      },
      "execution_count": 25,
      "outputs": [
        {
          "output_type": "execute_result",
          "data": {
            "text/plain": [
              "      schoolid  intervention  achievement_score  success_expect  ethnicity  \\\n",
              "7275        47             1           0.830018               5          4   \n",
              "7276        27             0           1.009752               7          1   \n",
              "7277        26             1           0.037516               5          4   \n",
              "7278        76             1           0.009607               6          4   \n",
              "7279         1             0          -1.241326               5          4   \n",
              "\n",
              "      gender  frst_in_family  school_urbanicity  school_mindset  \\\n",
              "7275       1               0                  4       -1.239272   \n",
              "7276       1               0                  1        0.240267   \n",
              "7277       2               1                  4       -0.283624   \n",
              "7278       2               0                  4        0.334544   \n",
              "7279       1               1                  3        1.185986   \n",
              "\n",
              "      school_achievement  school_ethnic_minority  school_poverty  school_size  \n",
              "7275            0.599242                0.005429        1.267680     0.958510  \n",
              "7276           -0.785287                0.611807        0.612568    -0.116284  \n",
              "7277           -0.588563                0.192676       -0.259910    -0.056286  \n",
              "7278            0.648586               -1.310927        0.224077    -0.426757  \n",
              "7279           -1.129889                1.009875        1.005063    -1.174702  "
            ],
            "text/html": [
              "\n",
              "  <div id=\"df-530ba8a0-eb75-4be1-a56c-1ea2bca882e6\">\n",
              "    <div class=\"colab-df-container\">\n",
              "      <div>\n",
              "<style scoped>\n",
              "    .dataframe tbody tr th:only-of-type {\n",
              "        vertical-align: middle;\n",
              "    }\n",
              "\n",
              "    .dataframe tbody tr th {\n",
              "        vertical-align: top;\n",
              "    }\n",
              "\n",
              "    .dataframe thead th {\n",
              "        text-align: right;\n",
              "    }\n",
              "</style>\n",
              "<table border=\"1\" class=\"dataframe\">\n",
              "  <thead>\n",
              "    <tr style=\"text-align: right;\">\n",
              "      <th></th>\n",
              "      <th>schoolid</th>\n",
              "      <th>intervention</th>\n",
              "      <th>achievement_score</th>\n",
              "      <th>success_expect</th>\n",
              "      <th>ethnicity</th>\n",
              "      <th>gender</th>\n",
              "      <th>frst_in_family</th>\n",
              "      <th>school_urbanicity</th>\n",
              "      <th>school_mindset</th>\n",
              "      <th>school_achievement</th>\n",
              "      <th>school_ethnic_minority</th>\n",
              "      <th>school_poverty</th>\n",
              "      <th>school_size</th>\n",
              "    </tr>\n",
              "  </thead>\n",
              "  <tbody>\n",
              "    <tr>\n",
              "      <th>7275</th>\n",
              "      <td>47</td>\n",
              "      <td>1</td>\n",
              "      <td>0.830018</td>\n",
              "      <td>5</td>\n",
              "      <td>4</td>\n",
              "      <td>1</td>\n",
              "      <td>0</td>\n",
              "      <td>4</td>\n",
              "      <td>-1.239272</td>\n",
              "      <td>0.599242</td>\n",
              "      <td>0.005429</td>\n",
              "      <td>1.267680</td>\n",
              "      <td>0.958510</td>\n",
              "    </tr>\n",
              "    <tr>\n",
              "      <th>7276</th>\n",
              "      <td>27</td>\n",
              "      <td>0</td>\n",
              "      <td>1.009752</td>\n",
              "      <td>7</td>\n",
              "      <td>1</td>\n",
              "      <td>1</td>\n",
              "      <td>0</td>\n",
              "      <td>1</td>\n",
              "      <td>0.240267</td>\n",
              "      <td>-0.785287</td>\n",
              "      <td>0.611807</td>\n",
              "      <td>0.612568</td>\n",
              "      <td>-0.116284</td>\n",
              "    </tr>\n",
              "    <tr>\n",
              "      <th>7277</th>\n",
              "      <td>26</td>\n",
              "      <td>1</td>\n",
              "      <td>0.037516</td>\n",
              "      <td>5</td>\n",
              "      <td>4</td>\n",
              "      <td>2</td>\n",
              "      <td>1</td>\n",
              "      <td>4</td>\n",
              "      <td>-0.283624</td>\n",
              "      <td>-0.588563</td>\n",
              "      <td>0.192676</td>\n",
              "      <td>-0.259910</td>\n",
              "      <td>-0.056286</td>\n",
              "    </tr>\n",
              "    <tr>\n",
              "      <th>7278</th>\n",
              "      <td>76</td>\n",
              "      <td>1</td>\n",
              "      <td>0.009607</td>\n",
              "      <td>6</td>\n",
              "      <td>4</td>\n",
              "      <td>2</td>\n",
              "      <td>0</td>\n",
              "      <td>4</td>\n",
              "      <td>0.334544</td>\n",
              "      <td>0.648586</td>\n",
              "      <td>-1.310927</td>\n",
              "      <td>0.224077</td>\n",
              "      <td>-0.426757</td>\n",
              "    </tr>\n",
              "    <tr>\n",
              "      <th>7279</th>\n",
              "      <td>1</td>\n",
              "      <td>0</td>\n",
              "      <td>-1.241326</td>\n",
              "      <td>5</td>\n",
              "      <td>4</td>\n",
              "      <td>1</td>\n",
              "      <td>1</td>\n",
              "      <td>3</td>\n",
              "      <td>1.185986</td>\n",
              "      <td>-1.129889</td>\n",
              "      <td>1.009875</td>\n",
              "      <td>1.005063</td>\n",
              "      <td>-1.174702</td>\n",
              "    </tr>\n",
              "  </tbody>\n",
              "</table>\n",
              "</div>\n",
              "      <button class=\"colab-df-convert\" onclick=\"convertToInteractive('df-530ba8a0-eb75-4be1-a56c-1ea2bca882e6')\"\n",
              "              title=\"Convert this dataframe to an interactive table.\"\n",
              "              style=\"display:none;\">\n",
              "        \n",
              "  <svg xmlns=\"http://www.w3.org/2000/svg\" height=\"24px\"viewBox=\"0 0 24 24\"\n",
              "       width=\"24px\">\n",
              "    <path d=\"M0 0h24v24H0V0z\" fill=\"none\"/>\n",
              "    <path d=\"M18.56 5.44l.94 2.06.94-2.06 2.06-.94-2.06-.94-.94-2.06-.94 2.06-2.06.94zm-11 1L8.5 8.5l.94-2.06 2.06-.94-2.06-.94L8.5 2.5l-.94 2.06-2.06.94zm10 10l.94 2.06.94-2.06 2.06-.94-2.06-.94-.94-2.06-.94 2.06-2.06.94z\"/><path d=\"M17.41 7.96l-1.37-1.37c-.4-.4-.92-.59-1.43-.59-.52 0-1.04.2-1.43.59L10.3 9.45l-7.72 7.72c-.78.78-.78 2.05 0 2.83L4 21.41c.39.39.9.59 1.41.59.51 0 1.02-.2 1.41-.59l7.78-7.78 2.81-2.81c.8-.78.8-2.07 0-2.86zM5.41 20L4 18.59l7.72-7.72 1.47 1.35L5.41 20z\"/>\n",
              "  </svg>\n",
              "      </button>\n",
              "      \n",
              "  <style>\n",
              "    .colab-df-container {\n",
              "      display:flex;\n",
              "      flex-wrap:wrap;\n",
              "      gap: 12px;\n",
              "    }\n",
              "\n",
              "    .colab-df-convert {\n",
              "      background-color: #E8F0FE;\n",
              "      border: none;\n",
              "      border-radius: 50%;\n",
              "      cursor: pointer;\n",
              "      display: none;\n",
              "      fill: #1967D2;\n",
              "      height: 32px;\n",
              "      padding: 0 0 0 0;\n",
              "      width: 32px;\n",
              "    }\n",
              "\n",
              "    .colab-df-convert:hover {\n",
              "      background-color: #E2EBFA;\n",
              "      box-shadow: 0px 1px 2px rgba(60, 64, 67, 0.3), 0px 1px 3px 1px rgba(60, 64, 67, 0.15);\n",
              "      fill: #174EA6;\n",
              "    }\n",
              "\n",
              "    [theme=dark] .colab-df-convert {\n",
              "      background-color: #3B4455;\n",
              "      fill: #D2E3FC;\n",
              "    }\n",
              "\n",
              "    [theme=dark] .colab-df-convert:hover {\n",
              "      background-color: #434B5C;\n",
              "      box-shadow: 0px 1px 3px 1px rgba(0, 0, 0, 0.15);\n",
              "      filter: drop-shadow(0px 1px 2px rgba(0, 0, 0, 0.3));\n",
              "      fill: #FFFFFF;\n",
              "    }\n",
              "  </style>\n",
              "\n",
              "      <script>\n",
              "        const buttonEl =\n",
              "          document.querySelector('#df-530ba8a0-eb75-4be1-a56c-1ea2bca882e6 button.colab-df-convert');\n",
              "        buttonEl.style.display =\n",
              "          google.colab.kernel.accessAllowed ? 'block' : 'none';\n",
              "\n",
              "        async function convertToInteractive(key) {\n",
              "          const element = document.querySelector('#df-530ba8a0-eb75-4be1-a56c-1ea2bca882e6');\n",
              "          const dataTable =\n",
              "            await google.colab.kernel.invokeFunction('convertToInteractive',\n",
              "                                                     [key], {});\n",
              "          if (!dataTable) return;\n",
              "\n",
              "          const docLinkHtml = 'Like what you see? Visit the ' +\n",
              "            '<a target=\"_blank\" href=https://colab.research.google.com/notebooks/data_table.ipynb>data table notebook</a>'\n",
              "            + ' to learn more about interactive tables.';\n",
              "          element.innerHTML = '';\n",
              "          dataTable['output_type'] = 'display_data';\n",
              "          await google.colab.output.renderOutput(dataTable, element);\n",
              "          const docLink = document.createElement('div');\n",
              "          docLink.innerHTML = docLinkHtml;\n",
              "          element.appendChild(docLink);\n",
              "        }\n",
              "      </script>\n",
              "    </div>\n",
              "  </div>\n",
              "  "
            ]
          },
          "metadata": {},
          "execution_count": 25
        }
      ]
    },
    {
      "cell_type": "code",
      "source": [
        "# outcome\n",
        "y = \"achievement_score\"\n",
        "# treatment\n",
        "T = \"intervention\"\n",
        "# covariates\n",
        "X = [\"success_expect\", \"frst_in_family\", \"school_urbanicity\", \"school_mindset\", \"school_achievement\", \"school_poverty\"]"
      ],
      "metadata": {
        "id": "dj7Hd9Jpjnfa"
      },
      "execution_count": 31,
      "outputs": []
    },
    {
      "cell_type": "markdown",
      "source": [
        "Why I choose `success_expect`, `frst_in_family`, `school_urbanicity`, `school_mindset`, `school_achievement`, and `school_poverty` because;\n",
        "\n",
        "1. Success expect is the expectation of individual in the future. So it should affect the outcome. It has a weak correlation with achievement score.\n",
        "2. First in family is the first person in the family who go to the college. I think it also should affect the outcome because in Adlerian Psychology the first born tends to be the best in the family.\n",
        "3. School urbanicity is the location of the school according to population. In my opinion, the students in the least population should have a spirit to achieve more, a spirit to change their condition.\n",
        "4. School mindset is school-level mean of students’ fixed mindset. The more fixed school mindset also tends to have fixed students that affect their achievement.\n",
        "5. School Achievement is school achievement level, as measured by test scores and college preparation for the previous 4 cohorts of students. The higher school achievement should have higher growth mindset and achivement score.\n",
        "6. The last is school poverty, school poverty concentration, i.e., percentage of students who are from families whose incomes fall below the federal poverty line. It also should affect the outcome when the poverty school attend the growth mindset seminar."
      ],
      "metadata": {
        "id": "NsZKDDIPuzk_"
      }
    },
    {
      "cell_type": "code",
      "source": [
        "mindset_train[y]"
      ],
      "metadata": {
        "colab": {
          "base_uri": "https://localhost:8080/"
        },
        "id": "bhdKEwhMroxl",
        "outputId": "4fe4c0cc-78d0-46ec-8ba9-d46f92497c70"
      },
      "execution_count": 32,
      "outputs": [
        {
          "output_type": "execute_result",
          "data": {
            "text/plain": [
              "0      -0.425467\n",
              "1       0.188707\n",
              "2       2.219649\n",
              "3      -0.885908\n",
              "4       0.383555\n",
              "          ...   \n",
              "7270    0.788492\n",
              "7271   -1.237022\n",
              "7272   -0.296593\n",
              "7273   -0.342415\n",
              "7274   -0.991845\n",
              "Name: achievement_score, Length: 7275, dtype: float64"
            ]
          },
          "metadata": {},
          "execution_count": 32
        }
      ]
    },
    {
      "cell_type": "code",
      "source": [
        "mindset_train[T]"
      ],
      "metadata": {
        "colab": {
          "base_uri": "https://localhost:8080/"
        },
        "id": "Ji7hiG87ruue",
        "outputId": "7856a5e3-18b2-4fe1-ba8c-3e457f018f81"
      },
      "execution_count": 33,
      "outputs": [
        {
          "output_type": "execute_result",
          "data": {
            "text/plain": [
              "0       0\n",
              "1       1\n",
              "2       0\n",
              "3       0\n",
              "4       0\n",
              "       ..\n",
              "7270    1\n",
              "7271    0\n",
              "7272    1\n",
              "7273    0\n",
              "7274    0\n",
              "Name: intervention, Length: 7275, dtype: int64"
            ]
          },
          "metadata": {},
          "execution_count": 33
        }
      ]
    },
    {
      "cell_type": "code",
      "source": [
        "mindset_train[X]"
      ],
      "metadata": {
        "colab": {
          "base_uri": "https://localhost:8080/",
          "height": 424
        },
        "id": "TD_wKsk4r0Z4",
        "outputId": "7320c246-3813-4687-d67b-b67826922ad8"
      },
      "execution_count": 34,
      "outputs": [
        {
          "output_type": "execute_result",
          "data": {
            "text/plain": [
              "      success_expect  frst_in_family  school_urbanicity  school_mindset  \\\n",
              "0                  5               0                  4       -1.132241   \n",
              "1                  5               1                  2       -0.354207   \n",
              "2                  6               0                  4       -1.239272   \n",
              "3                  5               1                  1        0.406316   \n",
              "4                  7               0                  1       -0.050579   \n",
              "...              ...             ...                ...             ...   \n",
              "7270               7               0                  2       -0.354207   \n",
              "7271               5               0                  2       -0.354207   \n",
              "7272               5               0                  1       -0.617888   \n",
              "7273               6               1                  4        1.570640   \n",
              "7274               5               1                  4       -1.115337   \n",
              "\n",
              "      school_achievement  school_poverty  \n",
              "0               0.726836        1.330512  \n",
              "1               1.264388       -1.158360  \n",
              "2               0.599242        1.267680  \n",
              "3               0.040247       -0.220041  \n",
              "4               1.112420       -1.185513  \n",
              "...                  ...             ...  \n",
              "7270            1.264388       -1.158360  \n",
              "7271            1.264388       -1.158360  \n",
              "7272           -0.163619       -0.946657  \n",
              "7273           -1.021504        1.043998  \n",
              "7274            1.053089        0.054586  \n",
              "\n",
              "[7275 rows x 6 columns]"
            ],
            "text/html": [
              "\n",
              "  <div id=\"df-156a3f59-72da-46d0-8263-17d3d97cee14\">\n",
              "    <div class=\"colab-df-container\">\n",
              "      <div>\n",
              "<style scoped>\n",
              "    .dataframe tbody tr th:only-of-type {\n",
              "        vertical-align: middle;\n",
              "    }\n",
              "\n",
              "    .dataframe tbody tr th {\n",
              "        vertical-align: top;\n",
              "    }\n",
              "\n",
              "    .dataframe thead th {\n",
              "        text-align: right;\n",
              "    }\n",
              "</style>\n",
              "<table border=\"1\" class=\"dataframe\">\n",
              "  <thead>\n",
              "    <tr style=\"text-align: right;\">\n",
              "      <th></th>\n",
              "      <th>success_expect</th>\n",
              "      <th>frst_in_family</th>\n",
              "      <th>school_urbanicity</th>\n",
              "      <th>school_mindset</th>\n",
              "      <th>school_achievement</th>\n",
              "      <th>school_poverty</th>\n",
              "    </tr>\n",
              "  </thead>\n",
              "  <tbody>\n",
              "    <tr>\n",
              "      <th>0</th>\n",
              "      <td>5</td>\n",
              "      <td>0</td>\n",
              "      <td>4</td>\n",
              "      <td>-1.132241</td>\n",
              "      <td>0.726836</td>\n",
              "      <td>1.330512</td>\n",
              "    </tr>\n",
              "    <tr>\n",
              "      <th>1</th>\n",
              "      <td>5</td>\n",
              "      <td>1</td>\n",
              "      <td>2</td>\n",
              "      <td>-0.354207</td>\n",
              "      <td>1.264388</td>\n",
              "      <td>-1.158360</td>\n",
              "    </tr>\n",
              "    <tr>\n",
              "      <th>2</th>\n",
              "      <td>6</td>\n",
              "      <td>0</td>\n",
              "      <td>4</td>\n",
              "      <td>-1.239272</td>\n",
              "      <td>0.599242</td>\n",
              "      <td>1.267680</td>\n",
              "    </tr>\n",
              "    <tr>\n",
              "      <th>3</th>\n",
              "      <td>5</td>\n",
              "      <td>1</td>\n",
              "      <td>1</td>\n",
              "      <td>0.406316</td>\n",
              "      <td>0.040247</td>\n",
              "      <td>-0.220041</td>\n",
              "    </tr>\n",
              "    <tr>\n",
              "      <th>4</th>\n",
              "      <td>7</td>\n",
              "      <td>0</td>\n",
              "      <td>1</td>\n",
              "      <td>-0.050579</td>\n",
              "      <td>1.112420</td>\n",
              "      <td>-1.185513</td>\n",
              "    </tr>\n",
              "    <tr>\n",
              "      <th>...</th>\n",
              "      <td>...</td>\n",
              "      <td>...</td>\n",
              "      <td>...</td>\n",
              "      <td>...</td>\n",
              "      <td>...</td>\n",
              "      <td>...</td>\n",
              "    </tr>\n",
              "    <tr>\n",
              "      <th>7270</th>\n",
              "      <td>7</td>\n",
              "      <td>0</td>\n",
              "      <td>2</td>\n",
              "      <td>-0.354207</td>\n",
              "      <td>1.264388</td>\n",
              "      <td>-1.158360</td>\n",
              "    </tr>\n",
              "    <tr>\n",
              "      <th>7271</th>\n",
              "      <td>5</td>\n",
              "      <td>0</td>\n",
              "      <td>2</td>\n",
              "      <td>-0.354207</td>\n",
              "      <td>1.264388</td>\n",
              "      <td>-1.158360</td>\n",
              "    </tr>\n",
              "    <tr>\n",
              "      <th>7272</th>\n",
              "      <td>5</td>\n",
              "      <td>0</td>\n",
              "      <td>1</td>\n",
              "      <td>-0.617888</td>\n",
              "      <td>-0.163619</td>\n",
              "      <td>-0.946657</td>\n",
              "    </tr>\n",
              "    <tr>\n",
              "      <th>7273</th>\n",
              "      <td>6</td>\n",
              "      <td>1</td>\n",
              "      <td>4</td>\n",
              "      <td>1.570640</td>\n",
              "      <td>-1.021504</td>\n",
              "      <td>1.043998</td>\n",
              "    </tr>\n",
              "    <tr>\n",
              "      <th>7274</th>\n",
              "      <td>5</td>\n",
              "      <td>1</td>\n",
              "      <td>4</td>\n",
              "      <td>-1.115337</td>\n",
              "      <td>1.053089</td>\n",
              "      <td>0.054586</td>\n",
              "    </tr>\n",
              "  </tbody>\n",
              "</table>\n",
              "<p>7275 rows × 6 columns</p>\n",
              "</div>\n",
              "      <button class=\"colab-df-convert\" onclick=\"convertToInteractive('df-156a3f59-72da-46d0-8263-17d3d97cee14')\"\n",
              "              title=\"Convert this dataframe to an interactive table.\"\n",
              "              style=\"display:none;\">\n",
              "        \n",
              "  <svg xmlns=\"http://www.w3.org/2000/svg\" height=\"24px\"viewBox=\"0 0 24 24\"\n",
              "       width=\"24px\">\n",
              "    <path d=\"M0 0h24v24H0V0z\" fill=\"none\"/>\n",
              "    <path d=\"M18.56 5.44l.94 2.06.94-2.06 2.06-.94-2.06-.94-.94-2.06-.94 2.06-2.06.94zm-11 1L8.5 8.5l.94-2.06 2.06-.94-2.06-.94L8.5 2.5l-.94 2.06-2.06.94zm10 10l.94 2.06.94-2.06 2.06-.94-2.06-.94-.94-2.06-.94 2.06-2.06.94z\"/><path d=\"M17.41 7.96l-1.37-1.37c-.4-.4-.92-.59-1.43-.59-.52 0-1.04.2-1.43.59L10.3 9.45l-7.72 7.72c-.78.78-.78 2.05 0 2.83L4 21.41c.39.39.9.59 1.41.59.51 0 1.02-.2 1.41-.59l7.78-7.78 2.81-2.81c.8-.78.8-2.07 0-2.86zM5.41 20L4 18.59l7.72-7.72 1.47 1.35L5.41 20z\"/>\n",
              "  </svg>\n",
              "      </button>\n",
              "      \n",
              "  <style>\n",
              "    .colab-df-container {\n",
              "      display:flex;\n",
              "      flex-wrap:wrap;\n",
              "      gap: 12px;\n",
              "    }\n",
              "\n",
              "    .colab-df-convert {\n",
              "      background-color: #E8F0FE;\n",
              "      border: none;\n",
              "      border-radius: 50%;\n",
              "      cursor: pointer;\n",
              "      display: none;\n",
              "      fill: #1967D2;\n",
              "      height: 32px;\n",
              "      padding: 0 0 0 0;\n",
              "      width: 32px;\n",
              "    }\n",
              "\n",
              "    .colab-df-convert:hover {\n",
              "      background-color: #E2EBFA;\n",
              "      box-shadow: 0px 1px 2px rgba(60, 64, 67, 0.3), 0px 1px 3px 1px rgba(60, 64, 67, 0.15);\n",
              "      fill: #174EA6;\n",
              "    }\n",
              "\n",
              "    [theme=dark] .colab-df-convert {\n",
              "      background-color: #3B4455;\n",
              "      fill: #D2E3FC;\n",
              "    }\n",
              "\n",
              "    [theme=dark] .colab-df-convert:hover {\n",
              "      background-color: #434B5C;\n",
              "      box-shadow: 0px 1px 3px 1px rgba(0, 0, 0, 0.15);\n",
              "      filter: drop-shadow(0px 1px 2px rgba(0, 0, 0, 0.3));\n",
              "      fill: #FFFFFF;\n",
              "    }\n",
              "  </style>\n",
              "\n",
              "      <script>\n",
              "        const buttonEl =\n",
              "          document.querySelector('#df-156a3f59-72da-46d0-8263-17d3d97cee14 button.colab-df-convert');\n",
              "        buttonEl.style.display =\n",
              "          google.colab.kernel.accessAllowed ? 'block' : 'none';\n",
              "\n",
              "        async function convertToInteractive(key) {\n",
              "          const element = document.querySelector('#df-156a3f59-72da-46d0-8263-17d3d97cee14');\n",
              "          const dataTable =\n",
              "            await google.colab.kernel.invokeFunction('convertToInteractive',\n",
              "                                                     [key], {});\n",
              "          if (!dataTable) return;\n",
              "\n",
              "          const docLinkHtml = 'Like what you see? Visit the ' +\n",
              "            '<a target=\"_blank\" href=https://colab.research.google.com/notebooks/data_table.ipynb>data table notebook</a>'\n",
              "            + ' to learn more about interactive tables.';\n",
              "          element.innerHTML = '';\n",
              "          dataTable['output_type'] = 'display_data';\n",
              "          await google.colab.output.renderOutput(dataTable, element);\n",
              "          const docLink = document.createElement('div');\n",
              "          docLink.innerHTML = docLinkHtml;\n",
              "          element.appendChild(docLink);\n",
              "        }\n",
              "      </script>\n",
              "    </div>\n",
              "  </div>\n",
              "  "
            ]
          },
          "metadata": {},
          "execution_count": 34
        }
      ]
    },
    {
      "cell_type": "markdown",
      "source": [
        "##DML"
      ],
      "metadata": {
        "id": "NIf25etuyy6P"
      }
    },
    {
      "cell_type": "markdown",
      "source": [
        "The reason I choose DML because I want to try this method where the treatment neither discrete nor continuous. "
      ],
      "metadata": {
        "id": "Op554mV_y1_C"
      }
    },
    {
      "cell_type": "code",
      "source": [
        "# define DML Object\n",
        "dml_est = DML(\n",
        "    model_y = GradientBoostingRegressor(n_estimators=100, random_state = 1000),\n",
        "    model_t = GradientBoostingRegressor(n_estimators=100, random_state = 1000),\n",
        "    model_final = LinearRegression(fit_intercept=False),\n",
        "    random_state = 1000\n",
        ")"
      ],
      "metadata": {
        "id": "KRmsqQTIsGYW"
      },
      "execution_count": 35,
      "outputs": []
    },
    {
      "cell_type": "code",
      "source": [
        "# fit estimator to train data\n",
        "np.random.seed(1000)\n",
        "dml_est.fit(mindset_train[y], T = mindset_train[T], X = mindset_train[X], inference=\"bootstrap\")"
      ],
      "metadata": {
        "colab": {
          "base_uri": "https://localhost:8080/"
        },
        "id": "To76Vxr7sLxW",
        "outputId": "c2698ae7-29af-44ec-ea8f-7c60c2c07b51"
      },
      "execution_count": 37,
      "outputs": [
        {
          "output_type": "execute_result",
          "data": {
            "text/plain": [
              "<econml.dml.dml.DML at 0x7fbba57d9790>"
            ]
          },
          "metadata": {},
          "execution_count": 37
        }
      ]
    },
    {
      "cell_type": "code",
      "source": [
        "dml_est.summary()"
      ],
      "metadata": {
        "colab": {
          "base_uri": "https://localhost:8080/",
          "height": 404
        },
        "id": "4pcsx006sTXd",
        "outputId": "da4980a9-3b0c-4e66-af5e-66dac765d75a"
      },
      "execution_count": 38,
      "outputs": [
        {
          "output_type": "execute_result",
          "data": {
            "text/plain": [
              "<class 'econml.utilities.Summary'>\n",
              "\"\"\"\n",
              "                          Coefficient Results                           \n",
              "========================================================================\n",
              "                   point_estimate stderr zstat  pvalue ci_lower ci_upper\n",
              "------------------------------------------------------------------------\n",
              "success_expect              0.006   0.02  0.302   0.41   -0.029    0.039\n",
              "frst_in_family             -0.013  0.039 -0.319   0.42   -0.085    0.064\n",
              "school_urbanicity           0.021  0.016  1.333   0.19   -0.013    0.046\n",
              "school_mindset             -0.067  0.025 -2.681   0.02   -0.106   -0.009\n",
              "school_achievement          0.005   0.03  0.163   0.35   -0.047    0.065\n",
              "school_poverty              0.023  0.031   0.74   0.19   -0.028     0.09\n",
              "                       CATE Intercept Results                      \n",
              "===================================================================\n",
              "               point_estimate stderr zstat pvalue ci_lower ci_upper\n",
              "-------------------------------------------------------------------\n",
              "cate_intercept          0.322  0.124 2.589    0.0    0.088    0.548\n",
              "-------------------------------------------------------------------\n",
              "\n",
              "<sub>A linear parametric conditional average treatment effect (CATE) model was fitted:\n",
              "$Y = \\Theta(X)\\cdot T + g(X, W) + \\epsilon$\n",
              "where for every outcome $i$ and treatment $j$ the CATE $\\Theta_{ij}(X)$ has the form:\n",
              "$\\Theta_{ij}(X) = \\phi(X)' coef_{ij} + cate\\_intercept_{ij}$\n",
              "where $\\phi(X)$ is the output of the `featurizer` or $X$ if `featurizer`=None. Coefficient Results table portrays the $coef_{ij}$ parameter vector for each outcome $i$ and treatment $j$. Intercept Results table portrays the $cate\\_intercept_{ij}$ parameter.</sub>\n",
              "\"\"\""
            ],
            "text/html": [
              "<table class=\"simpletable\">\n",
              "<caption>Coefficient Results</caption>\n",
              "<tr>\n",
              "           <td></td>          <th>point_estimate</th> <th>stderr</th>  <th>zstat</th> <th>pvalue</th> <th>ci_lower</th> <th>ci_upper</th>\n",
              "</tr>\n",
              "<tr>\n",
              "  <th>success_expect</th>          <td>0.006</td>      <td>0.02</td>   <td>0.302</td>  <td>0.41</td>   <td>-0.029</td>    <td>0.039</td> \n",
              "</tr>\n",
              "<tr>\n",
              "  <th>frst_in_family</th>         <td>-0.013</td>      <td>0.039</td> <td>-0.319</td>  <td>0.42</td>   <td>-0.085</td>    <td>0.064</td> \n",
              "</tr>\n",
              "<tr>\n",
              "  <th>school_urbanicity</th>       <td>0.021</td>      <td>0.016</td>  <td>1.333</td>  <td>0.19</td>   <td>-0.013</td>    <td>0.046</td> \n",
              "</tr>\n",
              "<tr>\n",
              "  <th>school_mindset</th>         <td>-0.067</td>      <td>0.025</td> <td>-2.681</td>  <td>0.02</td>   <td>-0.106</td>   <td>-0.009</td> \n",
              "</tr>\n",
              "<tr>\n",
              "  <th>school_achievement</th>      <td>0.005</td>      <td>0.03</td>   <td>0.163</td>  <td>0.35</td>   <td>-0.047</td>    <td>0.065</td> \n",
              "</tr>\n",
              "<tr>\n",
              "  <th>school_poverty</th>          <td>0.023</td>      <td>0.031</td>  <td>0.74</td>   <td>0.19</td>   <td>-0.028</td>    <td>0.09</td>  \n",
              "</tr>\n",
              "</table>\n",
              "<table class=\"simpletable\">\n",
              "<caption>CATE Intercept Results</caption>\n",
              "<tr>\n",
              "         <td></td>        <th>point_estimate</th> <th>stderr</th> <th>zstat</th> <th>pvalue</th> <th>ci_lower</th> <th>ci_upper</th>\n",
              "</tr>\n",
              "<tr>\n",
              "  <th>cate_intercept</th>      <td>0.322</td>      <td>0.124</td> <td>2.589</td>   <td>0.0</td>    <td>0.088</td>    <td>0.548</td> \n",
              "</tr>\n",
              "</table><br/><br/><sub>A linear parametric conditional average treatment effect (CATE) model was fitted:<br/>$Y = \\Theta(X)\\cdot T + g(X, W) + \\epsilon$<br/>where for every outcome $i$ and treatment $j$ the CATE $\\Theta_{ij}(X)$ has the form:<br/>$\\Theta_{ij}(X) = \\phi(X)' coef_{ij} + cate\\_intercept_{ij}$<br/>where $\\phi(X)$ is the output of the `featurizer` or $X$ if `featurizer`=None. Coefficient Results table portrays the $coef_{ij}$ parameter vector for each outcome $i$ and treatment $j$. Intercept Results table portrays the $cate\\_intercept_{ij}$ parameter.</sub>"
            ]
          },
          "metadata": {},
          "execution_count": 38
        }
      ]
    },
    {
      "cell_type": "markdown",
      "source": [
        "Based on the result we can interpret the model:\n",
        "- We can observe that school mindset has negative impact to achievement score and are statistically significant. I think it makes sense when the school mindset is fixed mindset, the achievement score is low.\n",
        "- The others is not statistically significant. In the first assumption I think success expect will have an impact to achievement score. Because it has weak correlation. But there's a possibility where achievement score that will impact the success expect.\n",
        "- Intervention of growth mindset seminar has positive impact to achievement score and statistically significant. And I think it makes sense when students know about growth mindset and implement it, they will have a better score."
      ],
      "metadata": {
        "id": "FUvwjG__zGpp"
      }
    },
    {
      "cell_type": "code",
      "source": [
        "# Get treatment effect and its confidence interval\n",
        "te_pred = dml_est.effect(mindset_test[X])"
      ],
      "metadata": {
        "id": "0_k7NkebsVgE"
      },
      "execution_count": 39,
      "outputs": []
    },
    {
      "cell_type": "code",
      "source": [
        "# Measure price effect\n",
        "np.mean(te_pred)"
      ],
      "metadata": {
        "colab": {
          "base_uri": "https://localhost:8080/",
          "height": 37
        },
        "id": "n1C9dFw0sbI8",
        "outputId": "fe7f9fe3-6542-4127-dc95-6d999130303b"
      },
      "execution_count": 40,
      "outputs": [
        {
          "output_type": "execute_result",
          "data": {
            "text/plain": [
              "0.39866595892056245"
            ],
            "image/png": "[encoded data removed]",
            "text/latex": "$\\displaystyle 0.398665958920562$"
          },
          "metadata": {},
          "execution_count": 40
        }
      ]
    },
    {
      "cell_type": "code",
      "source": [
        "# check treatment effect distribution\n",
        "sns.boxplot(x = te_pred).set_title(\"Treatment Effect Distribution by using DML\");"
      ],
      "metadata": {
        "colab": {
          "base_uri": "https://localhost:8080/",
          "height": 281
        },
        "id": "O-jtV8bisdTc",
        "outputId": "3ef79591-6e3a-49b9-82ce-485d9d6d41ea"
      },
      "execution_count": 41,
      "outputs": [
        {
          "output_type": "display_data",
          "data": {
            "text/plain": [
              "<Figure size 432x288 with 1 Axes>"
            ],
            "image/png": "[encoded data removed]"
          },
          "metadata": {
            "needs_background": "light"
          }
        }
      ]
    },
    {
      "cell_type": "markdown",
      "source": [
        "Because the ATE is positive, we can interpret that as the student attends growth mindset seminar, their achievement score will increase."
      ],
      "metadata": {
        "id": "0fHeK9hJ9gJF"
      }
    }
  ]
}